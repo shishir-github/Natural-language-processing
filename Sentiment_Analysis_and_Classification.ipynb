{
  "nbformat": 4,
  "nbformat_minor": 0,
  "metadata": {
    "kernelspec": {
      "display_name": "Python [conda env:small_sklearn] *",
      "language": "python",
      "name": "conda-env-small_sklearn-py"
    },
    "language_info": {
      "codemirror_mode": {
        "name": "ipython",
        "version": 3
      },
      "file_extension": ".py",
      "mimetype": "text/x-python",
      "name": "python",
      "nbconvert_exporter": "python",
      "pygments_lexer": "ipython3",
      "version": "3.6.10"
    },
    "colab": {
      "name": "Sentiment Analysis and Classification.ipynb",
      "provenance": [],
      "collapsed_sections": [],
      "toc_visible": true
    }
  },
  "cells": [
    {
      "cell_type": "markdown",
      "metadata": {
        "id": "EYqFfL7XReQb"
      },
      "source": [
        "In this workbook, I have built a lagistic regression model to classify the sentiment from feedback text. \n",
        "The Sentiment is either 0 or 1 \n",
        "where 0 is not happy\n",
        "and 1 is happy \n",
        "\n",
        "At the end, I take 5 random misclassified examples to analysis the performance of the logistic regression model"
      ]
    },
    {
      "cell_type": "markdown",
      "metadata": {
        "id": "raXNheUCRljW"
      },
      "source": [
        "### Loading and Prep\n",
        "\n"
      ]
    },
    {
      "cell_type": "code",
      "metadata": {
        "id": "ztkP9skQRljX",
        "colab": {
          "base_uri": "https://localhost:8080/"
        },
        "outputId": "bce05a55-f289-4998-f9a2-bd2553dfb910"
      },
      "source": [
        "# Import the relevant libraries\n",
        "import pandas as pd\n",
        "import nltk\n",
        "import string\n",
        "import re\n",
        "from nltk.corpus import stopwords\n",
        "import spacy\n",
        "nltk.download('stopwords')\n",
        "import numpy as np\n",
        "from sklearn.feature_extraction.text import TfidfVectorizer\n",
        "from nltk.corpus import stopwords\n",
        "from nltk import ngrams\n",
        "\n",
        "df_train = pd.read_csv(\"sentiment_train.csv\")\n",
        "\n",
        "print(df_train.info())\n",
        "print(df_train.head())\n",
        "\n",
        "df_test = pd.read_csv(\"sentiment_test.csv\")\n",
        "\n",
        "print(df_test.info())\n",
        "print(df_test.head())"
      ],
      "execution_count": null,
      "outputs": [
        {
          "output_type": "stream",
          "text": [
            "[nltk_data] Downloading package stopwords to /root/nltk_data...\n",
            "[nltk_data]   Package stopwords is already up-to-date!\n",
            "<class 'pandas.core.frame.DataFrame'>\n",
            "RangeIndex: 2400 entries, 0 to 2399\n",
            "Data columns (total 2 columns):\n",
            " #   Column    Non-Null Count  Dtype \n",
            "---  ------    --------------  ----- \n",
            " 0   Sentence  2400 non-null   object\n",
            " 1   Polarity  2400 non-null   int64 \n",
            "dtypes: int64(1), object(1)\n",
            "memory usage: 37.6+ KB\n",
            "None\n",
            "                                            Sentence  Polarity\n",
            "0                           Wow... Loved this place.         1\n",
            "1                                 Crust is not good.         0\n",
            "2          Not tasty and the texture was just nasty.         0\n",
            "3  Stopped by during the late May bank holiday of...         1\n",
            "4  The selection on the menu was great and so wer...         1\n",
            "<class 'pandas.core.frame.DataFrame'>\n",
            "RangeIndex: 600 entries, 0 to 599\n",
            "Data columns (total 2 columns):\n",
            " #   Column    Non-Null Count  Dtype \n",
            "---  ------    --------------  ----- \n",
            " 0   Sentence  600 non-null    object\n",
            " 1   Polarity  600 non-null    int64 \n",
            "dtypes: int64(1), object(1)\n",
            "memory usage: 9.5+ KB\n",
            "None\n",
            "                                            Sentence  Polarity\n",
            "0  A good commentary of today's love and undoubte...         1\n",
            "1  For people who are first timers in film making...         1\n",
            "2  It was very popular when I was in the cinema, ...         1\n",
            "3  It's a feel-good film and that's how I felt wh...         1\n",
            "4  It has northern humour and positive about the ...         1\n"
          ],
          "name": "stdout"
        }
      ]
    },
    {
      "cell_type": "markdown",
      "metadata": {
        "id": "LsGDl4_zAZgV"
      },
      "source": [
        "**Preprocessing of the text**\n",
        "\n",
        "Step 1) Text Cleaning:\n",
        "- Normalizing all the words to lower (Why? So that model doesn't treat \"Great\" or \"great\" differently)\n",
        "- Removing stop words (Why? Some prevalent words such as 'the', 'is' doesn't add any value)\n",
        "- Lemmetization (Why? Returns the root form of a word and thus helping the model treat words such as \"Liked\" and \"Like\" as same)\n",
        "\n",
        "Step 2) Feature extraction:\n",
        "- TF-IDF extraction (term frequency inverse document frequency) - This extraction technique will return a bag of words matrix for words and n-grams. The matrix will have the columns as the words and n-grams, while the values will be each word's tfidf value.\n",
        "- TF-IDF is a better feature extraction method in our case as by taking into account the frequency of the word across the all documents it can reduce the weight of prevalent words while increasing the weight of less frequent but important words."
      ]
    },
    {
      "cell_type": "code",
      "metadata": {
        "id": "wB4ZnHBO4Fw6"
      },
      "source": [
        "###########************************** Proprocessing of text *************************#################\n",
        "\n",
        "\n",
        "nlp = spacy.load('en', disable=['parser', 'ner'])\n",
        "# Stopwords updated list - These negation words will help model learn the negative sentiment \n",
        "stop_words = set(nltk.corpus.stopwords.words('english'))\n",
        "exclude_words = set((\"not\", \"no\", \"against\",\"mustn't\",\"needn't\",\"shouldn't\",\"won't\", \"wouldn't\"))\n",
        "new_stop_words = stop_words.difference(exclude_words)\n",
        " \n",
        "################################### Step 1- Clean the Sentence ########################################\n",
        "def clean_data(text):\n",
        "    punct = \"\".join([word.lower() for word in text if word not in string.punctuation])\n",
        "    txt = re.split('\\W+',punct)    \n",
        "    doc = nlp(\" \".join(txt))\n",
        "    return \" \".join([token.lemma_ for token in doc])\n",
        "\n",
        "df_train[\"clean_sentence\"] = df_train.Sentence.apply(clean_data)\n",
        "\n",
        "\n",
        "################################## Step 2 - Feature Extraction using TF-IDF ############################\n",
        "vectorizer = TfidfVectorizer(\n",
        "                             stop_words = new_stop_words,\n",
        "                             max_df = 0.4, \n",
        "                             min_df=2,\n",
        "                             max_features = 2000,\n",
        "                             ngram_range=[1,3])\n",
        "def fit_features(df):\n",
        "  global dtm\n",
        "  dtm = vectorizer.fit(df)\n",
        "  return\n",
        "\n",
        "def transform_features(df):\n",
        "  global dtm\n",
        " \n",
        "  if dtm is None:\n",
        "    print(\"Need to call fit_features first!\")\n",
        "    return\n",
        "\n",
        "  dtm = vectorizer.transform(df)\n",
        "\n",
        "  features = pd.DataFrame(dtm.toarray(), \n",
        "                      columns=[f'{name}' for name in \n",
        "                               vectorizer.get_feature_names()], \n",
        "                      index=df.index)\n",
        "  \n",
        "  return features\n",
        "\n",
        "X_train,y_train = df_train.loc[:,\"clean_sentence\"], df_train.loc[:,\"Polarity\"]\n",
        "fit_features(X_train)\n",
        "X_train_features = transform_features(X_train)"
      ],
      "execution_count": null,
      "outputs": []
    },
    {
      "cell_type": "markdown",
      "metadata": {
        "id": "JD6MH0BNRljY"
      },
      "source": [
        "### Modeling\n",
        "\n",
        "Using my favourite ML model Logistic Regression\n",
        "\n"
      ]
    },
    {
      "cell_type": "markdown",
      "metadata": {
        "id": "Bcd-Xx35B1Uv"
      },
      "source": [
        "**Importing all the relevant modules**"
      ]
    },
    {
      "cell_type": "code",
      "metadata": {
        "id": "1qpq0czfKbm2"
      },
      "source": [
        "##### Importing the relevant packages\n",
        "from sklearn.linear_model import LogisticRegression\n",
        "from sklearn.model_selection import GridSearchCV\n",
        "from sklearn.metrics import accuracy_score, f1_score\n",
        "from sklearn.pipeline import Pipeline\n",
        "from sklearn.preprocessing import MinMaxScaler"
      ],
      "execution_count": null,
      "outputs": []
    },
    {
      "cell_type": "markdown",
      "metadata": {
        "id": "f7R-AuvLCG3X"
      },
      "source": [
        "**Model Training with hyperparamter tuning**"
      ]
    },
    {
      "cell_type": "markdown",
      "metadata": {
        "id": "LUJCI7SfNx8N"
      },
      "source": [
        "- Hyperparameter tuning:\n",
        "\n",
        "Two hyperparameters are tuned \n",
        "1) class_weight - 'Balance' or 'None'\n",
        "2) C - Regularization parameter\n",
        "\n",
        "\n",
        "\n",
        "\n",
        "- Cross validation:\n",
        "\n",
        "Cross validation is done using 3 fold \n",
        "\n",
        "\n",
        "\n",
        "\n",
        "- Handled imbalanced data:\n",
        "\n",
        "Data imbalance handled by tuning 'class_weight' parameter\n",
        "\n",
        "\n",
        "\n",
        "- Features scaled:\n",
        "\n",
        "Features are scaled using MinMaxScaler (range 0-1).\n",
        "Scaling the features help Logistic regression in convergence"
      ]
    },
    {
      "cell_type": "code",
      "metadata": {
        "id": "xoHBIcfeCL76"
      },
      "source": [
        "pipeline = Pipeline([('scaler', MinMaxScaler()), \n",
        "                    ('LR', LogisticRegression(random_state=21))])\n",
        "\n",
        "param_grid = {\n",
        "                \"LR__class_weight\":['balanced', None],\n",
        "                \"LR__C\":[100,10,1,0.5,0.1]\n",
        "                } \n",
        "\n",
        "lr_grid = GridSearchCV(pipeline,param_grid,cv=3,n_jobs=-1, scoring='f1')\n",
        "model_lr = lr_grid.fit(X_train_features, y_train)"
      ],
      "execution_count": null,
      "outputs": []
    },
    {
      "cell_type": "code",
      "metadata": {
        "colab": {
          "base_uri": "https://localhost:8080/"
        },
        "id": "M2y-ZXOkFYD-",
        "outputId": "9437c0d0-e3b2-4d12-a8df-4de6536434df"
      },
      "source": [
        "print(f\"Best Parameters of LR model : {model_lr.best_params_}\")\n",
        "print(f\"\\nBest Cross validation Score {model_lr.best_score_:.3f}\")"
      ],
      "execution_count": null,
      "outputs": [
        {
          "output_type": "stream",
          "text": [
            "Best Parameters of LR model : {'LR__C': 0.5, 'LR__class_weight': 'balanced'}\n",
            "\n",
            "Best Cross validation Score 0.791\n"
          ],
          "name": "stdout"
        }
      ]
    },
    {
      "cell_type": "markdown",
      "metadata": {
        "id": "I6tKHWGYRljY"
      },
      "source": [
        "### Assessing\n",
        "\n",
        "- Test data is tranformed using the transformation function 'transform_features'\n",
        "\n",
        "- Prediction is made using predict function\n",
        "\n",
        "- Accuracy and f1 score of the model on Test is printed"
      ]
    },
    {
      "cell_type": "code",
      "metadata": {
        "id": "HkDB1A3WRljY",
        "colab": {
          "base_uri": "https://localhost:8080/"
        },
        "outputId": "6f71eaae-9863-418d-92e9-25ee9a816871"
      },
      "source": [
        "df_test[\"clean_sentence\"] = df_test.Sentence.apply(clean_data)\n",
        "X_test,y_test = df_test[\"clean_sentence\"], df_test[\"Polarity\"]\n",
        "X_test_features = transform_features(X_test)\n",
        "\n",
        "y_pred = model_lr.predict(X_test_features)\n",
        "y_probablity = model_lr.predict_proba(X_test_features)[:,1]\n",
        "\n",
        "print(f\"Accuracy of the model on Test: {accuracy_score(y_test,y_pred):.3f}\")\n",
        "print(f\"\\nF1 score of the model on Test: {f1_score(y_test,y_pred):.3f}\")"
      ],
      "execution_count": null,
      "outputs": [
        {
          "output_type": "stream",
          "text": [
            "Accuracy of the model on Test: 0.762\n",
            "\n",
            "F1 score of the model on Test: 0.753\n"
          ],
          "name": "stdout"
        }
      ]
    },
    {
      "cell_type": "code",
      "metadata": {
        "colab": {
          "base_uri": "https://localhost:8080/"
        },
        "id": "1H6BXfQnWiPS",
        "outputId": "ecac2e7f-754f-4220-cf9d-781682a8e58b"
      },
      "source": [
        "from sklearn.metrics import classification_report, confusion_matrix\n",
        "print(classification_report(y_test,y_pred))\n",
        "tn, fp, fn, tp = confusion_matrix(y_test,y_pred).ravel()\n",
        "\n",
        "print(f\"true negative :  {tn}\")\n",
        "print(f\"false positive:  {fp}\")\n",
        "print(f\"false negative:  {fn}\")\n",
        "print(f\"true positive :  {tp}\")"
      ],
      "execution_count": null,
      "outputs": [
        {
          "output_type": "stream",
          "text": [
            "              precision    recall  f1-score   support\n",
            "\n",
            "           0       0.72      0.83      0.77       287\n",
            "           1       0.82      0.70      0.75       313\n",
            "\n",
            "    accuracy                           0.76       600\n",
            "   macro avg       0.77      0.76      0.76       600\n",
            "weighted avg       0.77      0.76      0.76       600\n",
            "\n",
            "true negative :  239\n",
            "false positive:  48\n",
            "false negative:  95\n",
            "true positive :  218\n"
          ],
          "name": "stdout"
        }
      ]
    },
    {
      "cell_type": "markdown",
      "metadata": {
        "id": "ME8008LXIoI2"
      },
      "source": [
        "# Features Importance"
      ]
    },
    {
      "cell_type": "code",
      "metadata": {
        "colab": {
          "base_uri": "https://localhost:8080/",
          "height": 336
        },
        "id": "lmjYl7NzIsMR",
        "outputId": "96757613-9e39-45b9-cf04-b30e55929398"
      },
      "source": [
        "best_model = model_lr.best_estimator_\n",
        "coeff = best_model['LR'].coef_\n",
        "features_coeff = {'Feature_Names': list(X_test_features.columns), 'Coefficients': list(coeff[0])}\n",
        "feature_importance = pd.DataFrame(data=features_coeff)\n",
        "\n",
        "top_5 = feature_importance.sort_values(by=['Coefficients'], ascending=False).head(5)\n",
        "bottom_5 = feature_importance.sort_values(by=['Coefficients'], ascending=False).tail(5)\n",
        "\n",
        "import matplotlib.pyplot as plt\n",
        "d = pd.concat([top_5, bottom_5], axis=0)\n",
        "d.plot.barh(x=\"Feature_Names\",y=\"Coefficients\", color='slategray', figsize = (10,5))\n",
        "plt.title(\"Top and bottom 5 Coefficient Values\")\n",
        "plt.show()"
      ],
      "execution_count": null,
      "outputs": [
        {
          "output_type": "display_data",
          "data": {
            "image/png": "[encoded data removed]",
            "text/plain": [
              "<Figure size 720x360 with 1 Axes>"
            ]
          },
          "metadata": {
            "tags": [],
            "needs_background": "light"
          }
        }
      ]
    },
    {
      "cell_type": "markdown",
      "metadata": {
        "id": "_EUu_Bosg_rj"
      },
      "source": [
        "# Selecting 5 random misclassfied examples for analysis"
      ]
    },
    {
      "cell_type": "code",
      "metadata": {
        "id": "E10oy6ZIRljZ",
        "colab": {
          "base_uri": "https://localhost:8080/",
          "height": 258
        },
        "outputId": "3a914d4f-d473-41ed-a546-1d318822ca1f"
      },
      "source": [
        "## Select 5 random incorrect predictions\n",
        "df_test['Prediction'] = y_pred\n",
        "df_test['Probablity'] = y_probablity\n",
        "filter = df_test['Prediction'] != df_test['Polarity']\n",
        "df_test.where(filter, inplace=True)\n",
        "incorrect_pred = df_test.dropna().sample(5, random_state = 22)\n",
        "incorrect_pred"
      ],
      "execution_count": null,
      "outputs": [
        {
          "output_type": "execute_result",
          "data": {
            "text/html": [
              "<div>\n",
              "<style scoped>\n",
              "    .dataframe tbody tr th:only-of-type {\n",
              "        vertical-align: middle;\n",
              "    }\n",
              "\n",
              "    .dataframe tbody tr th {\n",
              "        vertical-align: top;\n",
              "    }\n",
              "\n",
              "    .dataframe thead th {\n",
              "        text-align: right;\n",
              "    }\n",
              "</style>\n",
              "<table border=\"1\" class=\"dataframe\">\n",
              "  <thead>\n",
              "    <tr style=\"text-align: right;\">\n",
              "      <th></th>\n",
              "      <th>Sentence</th>\n",
              "      <th>Polarity</th>\n",
              "      <th>clean_sentence</th>\n",
              "      <th>Prediction</th>\n",
              "      <th>Probablity</th>\n",
              "    </tr>\n",
              "  </thead>\n",
              "  <tbody>\n",
              "    <tr>\n",
              "      <th>510</th>\n",
              "      <td>I highly doubt that anyone could ever like thi...</td>\n",
              "      <td>0.0</td>\n",
              "      <td>i highly doubt that anyone could ever like thi...</td>\n",
              "      <td>1.0</td>\n",
              "      <td>0.560196</td>\n",
              "    </tr>\n",
              "    <tr>\n",
              "      <th>271</th>\n",
              "      <td>Raw and sublimely moving.</td>\n",
              "      <td>1.0</td>\n",
              "      <td>raw and sublimely move</td>\n",
              "      <td>0.0</td>\n",
              "      <td>0.405271</td>\n",
              "    </tr>\n",
              "    <tr>\n",
              "      <th>417</th>\n",
              "      <td>You will leave the theater wanting to go out a...</td>\n",
              "      <td>1.0</td>\n",
              "      <td>-PRON- will leave the theater want to go out a...</td>\n",
              "      <td>0.0</td>\n",
              "      <td>0.433548</td>\n",
              "    </tr>\n",
              "    <tr>\n",
              "      <th>154</th>\n",
              "      <td>It's a shame to see good actors like Thomerson...</td>\n",
              "      <td>0.0</td>\n",
              "      <td>-PRON- a shame to see good actor like thomerso...</td>\n",
              "      <td>1.0</td>\n",
              "      <td>0.756953</td>\n",
              "    </tr>\n",
              "    <tr>\n",
              "      <th>581</th>\n",
              "      <td>I keep watching it over and over.</td>\n",
              "      <td>1.0</td>\n",
              "      <td>i keep watch -PRON- over and over</td>\n",
              "      <td>0.0</td>\n",
              "      <td>0.419946</td>\n",
              "    </tr>\n",
              "  </tbody>\n",
              "</table>\n",
              "</div>"
            ],
            "text/plain": [
              "                                              Sentence  ...  Probablity\n",
              "510  I highly doubt that anyone could ever like thi...  ...    0.560196\n",
              "271                        Raw and sublimely moving.    ...    0.405271\n",
              "417  You will leave the theater wanting to go out a...  ...    0.433548\n",
              "154  It's a shame to see good actors like Thomerson...  ...    0.756953\n",
              "581                I keep watching it over and over.    ...    0.419946\n",
              "\n",
              "[5 rows x 5 columns]"
            ]
          },
          "metadata": {
            "tags": []
          },
          "execution_count": 62
        }
      ]
    },
    {
      "cell_type": "markdown",
      "metadata": {
        "id": "M_4oF9UnY8ni"
      },
      "source": [
        "**Example 1**:  *true is 0,  prediction is 1*\n",
        "\n",
        "\n"
      ]
    },
    {
      "cell_type": "code",
      "metadata": {
        "id": "gAF9XzOM5c27",
        "colab": {
          "base_uri": "https://localhost:8080/"
        },
        "outputId": "93ac86cf-5f0c-4408-c1a0-37b63fef13e5"
      },
      "source": [
        "# Print the Sentence and cleaned sentence of Example 1\n",
        "print(f\"Sentence: {incorrect_pred.iloc[0,0]}\")\n",
        "print(f\"\\nCleaned Sentence: {incorrect_pred.iloc[0,2]}\")\n",
        "\n",
        "# Get the feature coefficient values of the tokens and ngrams of the sentence\n",
        "txt = incorrect_pred.iloc[0,2].replace(\"-PRON-\", \"pron\")\n",
        "tokens = txt.split()\n",
        "tri_grams = [\" \".join(items) for items in list(ngrams(tokens, 3))]\n",
        "bi_grams = [\" \".join(items) for items in list(ngrams(tokens, 2))]\n",
        "q1 = feature_importance.query(f'Feature_Names in  {tokens}')\n",
        "q2 = feature_importance.query(f'Feature_Names in  {tri_grams}')\n",
        "q3 = feature_importance.query(f'Feature_Names in  {bi_grams}')\n",
        "\n",
        "print(f\"\\n\\n{pd.concat([q1,q2,q3]).reset_index(drop=True)}\")"
      ],
      "execution_count": null,
      "outputs": [
        {
          "output_type": "stream",
          "text": [
            "Sentence: I highly doubt that anyone could ever like this trash.  \n",
            "\n",
            "Cleaned Sentence: i highly doubt that anyone could ever like this trash\n",
            "\n",
            "\n",
            "  Feature_Names  Coefficients\n",
            "0        anyone      0.210849\n",
            "1         could      0.080199\n",
            "2          ever     -0.341351\n",
            "3        highly      0.137826\n",
            "4          like      0.390760\n",
            "5         trash     -0.285516\n"
          ],
          "name": "stdout"
        }
      ]
    },
    {
      "cell_type": "markdown",
      "metadata": {
        "id": "6THkYX2j8opG"
      },
      "source": [
        "- The Coefficient of the word 'like' is dominating and is pulling the prediction to 1 along with other words positive words 'anyone' and 'highly'.\n",
        "\n",
        "- Although, the model has learned the word 'trash' correctly with a negative coefficient. The overall weightage of words with positive coefficients is more and making the model predict incorrectly."
      ]
    },
    {
      "cell_type": "markdown",
      "metadata": {
        "id": "eB1bey6eZBU_"
      },
      "source": [
        "**Example 2**: *true is 1,  prediction is 0*\n"
      ]
    },
    {
      "cell_type": "code",
      "metadata": {
        "colab": {
          "base_uri": "https://localhost:8080/"
        },
        "id": "INh5ncKsU6QL",
        "outputId": "293df22d-5fb4-471d-b634-0546de10e1fc"
      },
      "source": [
        "# Print the Sentence and cleaned sentence of Example 1\n",
        "print(f\"Sentence: {incorrect_pred.iloc[1,0]}\")\n",
        "print(f\"\\nClean Sentence: {incorrect_pred.iloc[1,2]}\")\n",
        "\n",
        "# Get the feature coefficient values of the tokens and ngrams of the sentence\n",
        "txt = incorrect_pred.iloc[1,2].replace(\"-PRON-\", \"pron\")\n",
        "tokens = txt.split()\n",
        "tri_grams = [\" \".join(items) for items in list(ngrams(tokens, 3))]\n",
        "bi_grams = [\" \".join(items) for items in list(ngrams(tokens, 2))]\n",
        "q1 = feature_importance.query(f'Feature_Names in  {tokens}')\n",
        "q2 = feature_importance.query(f'Feature_Names in  {tri_grams}')\n",
        "q3 = feature_importance.query(f'Feature_Names in  {bi_grams}')\n",
        "print(f\"\\n\\n{pd.concat([q1,q2,q3]).reset_index(drop=True)}\")"
      ],
      "execution_count": null,
      "outputs": [
        {
          "output_type": "stream",
          "text": [
            "Sentence: Raw and sublimely moving.  \n",
            "\n",
            "Clean Sentence: raw and sublimely move\n",
            "\n",
            "\n",
            "  Feature_Names  Coefficients\n",
            "0          move     -0.269988\n"
          ],
          "name": "stdout"
        }
      ]
    },
    {
      "cell_type": "markdown",
      "metadata": {
        "id": "PKmFoVCzm4jo"
      },
      "source": [
        "- The word 'move' has a negative Coefficient, and thus the model is predicting '0' .\n",
        "\n",
        "- The crucial words 'raw' and 'sublimely' are not present in the Train set. (See below)"
      ]
    },
    {
      "cell_type": "code",
      "metadata": {
        "colab": {
          "base_uri": "https://localhost:8080/"
        },
        "id": "MkRgBBckN1bQ",
        "outputId": "d7521f02-747f-4906-9d2e-9a4d9ab4f812"
      },
      "source": [
        "# Find out the word frequency of th word 'standdout' in Train set and 'scene\n",
        "print(f\"DF of 'raw' in Train:{sum(df_train['clean_sentence'].apply(lambda x:True if' raw 'in x else False))}\")\n",
        "print(f\"\\nDF of 'sublimely' in Train:{sum(df_train['clean_sentence'].apply(lambda x:True if' sublimely 'in x else False))}\")"
      ],
      "execution_count": null,
      "outputs": [
        {
          "output_type": "stream",
          "text": [
            "DF of 'raw' in Train:0\n",
            "\n",
            "DF of 'sublimely' in Train:0\n"
          ],
          "name": "stdout"
        }
      ]
    },
    {
      "cell_type": "markdown",
      "metadata": {
        "id": "ayB72Zv0ZDbX"
      },
      "source": [
        "**Example 3**:  *true is 1,  prediction is 0*"
      ]
    },
    {
      "cell_type": "code",
      "metadata": {
        "colab": {
          "base_uri": "https://localhost:8080/"
        },
        "id": "ReeG0HngWM3K",
        "outputId": "886d2e34-1791-4abf-cdf0-ef48d4bb1a01"
      },
      "source": [
        "# Print the Sentence and cleaned sentence of Example 1\n",
        "print(f\"Sentence: {incorrect_pred.iloc[2,0]}\")\n",
        "print(f\"\\nClean Sentence: {incorrect_pred.iloc[2,2]}\")\n",
        "\n",
        "# Get the feature coefficient values of the tokens and ngrams of the sentence\n",
        "txt = incorrect_pred.iloc[2,2].replace(\"-PRON-\", \"pron\")\n",
        "tokens = txt.split()\n",
        "tri_grams = [\" \".join(items) for items in list(ngrams(tokens, 3))]\n",
        "bi_grams = [\" \".join(items) for items in list(ngrams(tokens, 2))]\n",
        "q1 = feature_importance.query(f'Feature_Names in  {tokens}')\n",
        "q2 = feature_importance.query(f'Feature_Names in  {tri_grams}')\n",
        "q3 = feature_importance.query(f'Feature_Names in  {bi_grams}')\n",
        "print(f\"\\n\\n{pd.concat([q1,q2,q3]).reset_index(drop=True)}\")"
      ],
      "execution_count": null,
      "outputs": [
        {
          "output_type": "stream",
          "text": [
            "Sentence: You will leave the theater wanting to go out and dance under the stars.  \n",
            "\n",
            "Clean Sentence: -PRON- will leave the theater want to go out and dance under the star\n",
            "\n",
            "\n",
            "  Feature_Names  Coefficients\n",
            "0            go     -0.274081\n",
            "1         leave     -0.496006\n",
            "2          star      0.047943\n",
            "3       theater     -0.087853\n",
            "4          want      0.159297\n"
          ],
          "name": "stdout"
        }
      ]
    },
    {
      "cell_type": "markdown",
      "metadata": {
        "id": "pdL2UGSjnEhH"
      },
      "source": [
        "- This example has negative words such as 'leave' and 'go' with high negative coefficients.\n",
        "\n",
        "- The meaning of the sentence is difficult to understand for a model. Even though most of the words have a 'negative' sentiment to them, when used correctly, the overall sentence has a positive sentiment."
      ]
    },
    {
      "cell_type": "markdown",
      "metadata": {
        "id": "E5417PT_ZF1A"
      },
      "source": [
        "**Example 4** :   *true is 0,  prediction is 1*\n"
      ]
    },
    {
      "cell_type": "code",
      "metadata": {
        "colab": {
          "base_uri": "https://localhost:8080/"
        },
        "id": "twJ7ugPwWR0z",
        "outputId": "a748bf39-6d8f-4d0c-bd12-760a52522ccb"
      },
      "source": [
        "# Print the Sentence and cleaned sentence of Example 1\n",
        "print(f\"Sentence: {incorrect_pred.iloc[3,0]}\")\n",
        "print(f\"\\nCleaned Sentence: {incorrect_pred.iloc[3,2]}\")\n",
        "\n",
        "# Get the feature coefficient values of the tokens and ngrams of the sentence\n",
        "txt = incorrect_pred.iloc[3,2].replace(\"-PRON-\", \"pron\")\n",
        "tokens = txt.split()\n",
        "tri_grams = [\" \".join(items) for items in list(ngrams(tokens, 3))]\n",
        "bi_grams = [\" \".join(items) for items in list(ngrams(tokens, 2))]\n",
        "q1 = feature_importance.query(f'Feature_Names in  {tokens}')\n",
        "q2 = feature_importance.query(f'Feature_Names in  {tri_grams}')\n",
        "q3 = feature_importance.query(f'Feature_Names in  {bi_grams}')\n",
        "print(f\"\\n\\n{pd.concat([q1,q2,q3]).reset_index(drop=True)}\")"
      ],
      "execution_count": null,
      "outputs": [
        {
          "output_type": "stream",
          "text": [
            "Sentence: It's a shame to see good actors like Thomerson and James make a living in a mess like this.  \n",
            "\n",
            "Cleaned Sentence: -PRON- a shame to see good actor like thomerson and james make a living in a mess like this\n",
            "\n",
            "\n",
            "  Feature_Names  Coefficients\n",
            "0         actor      0.096411\n",
            "1          good      2.876354\n",
            "2          like      0.390760\n",
            "3          make      0.078229\n",
            "4          mess      0.002378\n",
            "5           see     -0.098336\n"
          ],
          "name": "stdout"
        }
      ]
    },
    {
      "cell_type": "markdown",
      "metadata": {
        "id": "9_sdCTchTobk"
      },
      "source": [
        "- In this example, the model's prediction is dominated by the words 'good' and 'like'. \n",
        "\n",
        "- The negative term 'shame', which is changing the whole meaning to negative sentiment, is not present in the features as the word 'shame' was not present in Train data (see below)."
      ]
    },
    {
      "cell_type": "code",
      "metadata": {
        "colab": {
          "base_uri": "https://localhost:8080/"
        },
        "id": "cuQhljnGUNMd",
        "outputId": "f28ac314-7187-4bc5-9129-9862a94eae63"
      },
      "source": [
        "print(f\"DF of 'shame' in Train: {sum(df_train['clean_sentence'].apply(lambda x:True if' shame 'in x else False))}\")"
      ],
      "execution_count": null,
      "outputs": [
        {
          "output_type": "stream",
          "text": [
            "DF of 'shame' in Train: 0\n"
          ],
          "name": "stdout"
        }
      ]
    },
    {
      "cell_type": "markdown",
      "metadata": {
        "id": "ly4ED0AnZIKZ"
      },
      "source": [
        "**Example 5** : *true is 1,  prediction is 0*\n",
        "\n"
      ]
    },
    {
      "cell_type": "code",
      "metadata": {
        "colab": {
          "base_uri": "https://localhost:8080/"
        },
        "id": "zX3Slck_WWD9",
        "outputId": "a271d363-52a6-4c3e-bb98-8f6337ed76b0"
      },
      "source": [
        "# Print the Sentence and cleaned sentence of Example 1\n",
        "print(f\"Sentence: {incorrect_pred.iloc[4,0]}\")\n",
        "print(f\"\\nCleaned Sentence: {incorrect_pred.iloc[4,2]}\")\n",
        "\n",
        "# Get the feature coefficient values of the tokens and ngrams of the sentence\n",
        "txt = incorrect_pred.iloc[4,2].replace(\"-PRON-\", \"pron\")\n",
        "tokens = txt.split()\n",
        "tri_grams = [\" \".join(items) for items in list(ngrams(tokens, 3))]\n",
        "bi_grams = [\" \".join(items) for items in list(ngrams(tokens, 2))]\n",
        "q1 = feature_importance.query(f'Feature_Names in  {tokens}')\n",
        "q2 = feature_importance.query(f'Feature_Names in  {tri_grams}')\n",
        "q3 = feature_importance.query(f'Feature_Names in  {bi_grams}')\n",
        "print(f\"\\n\\n{pd.concat([q1,q2,q3]).reset_index(drop=True)}\")"
      ],
      "execution_count": null,
      "outputs": [
        {
          "output_type": "stream",
          "text": [
            "Sentence: I keep watching it over and over.  \n",
            "\n",
            "Cleaned Sentence: i keep watch -PRON- over and over\n",
            "\n",
            "\n",
            "  Feature_Names  Coefficients\n",
            "0          keep     -0.327439\n",
            "1         watch     -0.059905\n",
            "2    watch pron      0.017602\n"
          ],
          "name": "stdout"
        }
      ]
    },
    {
      "cell_type": "markdown",
      "metadata": {
        "id": "cVU8VCq2UiPV"
      },
      "source": [
        "- In this example, the word 'keep' is dominating and has a negative coefficient.\n",
        "- The word 'keep' has a neutral sentiment, but the model has learned high negative weights. More training data would help model correct such errors.\n",
        "\n"
      ]
    }
  ]
}