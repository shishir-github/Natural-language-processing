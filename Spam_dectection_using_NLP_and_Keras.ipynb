{
  "nbformat": 4,
  "nbformat_minor": 0,
  "metadata": {
    "kernelspec": {
      "display_name": "Python 3",
      "language": "python",
      "name": "python3"
    },
    "language_info": {
      "codemirror_mode": {
        "name": "ipython",
        "version": 3
      },
      "file_extension": ".py",
      "mimetype": "text/x-python",
      "name": "python",
      "nbconvert_exporter": "python",
      "pygments_lexer": "ipython3",
      "version": "3.6.1"
    },
    "colab": {
      "name": "Spam dectection using NLP and Keras.ipynb",
      "provenance": [],
      "collapsed_sections": [],
      "toc_visible": true
    }
  },
  "cells": [
    {
      "cell_type": "markdown",
      "metadata": {
        "id": "PE8q2zLARI4c"
      },
      "source": [
        "### Importing the required modules/packages"
      ]
    },
    {
      "cell_type": "code",
      "metadata": {
        "colab": {
          "base_uri": "https://localhost:8080/"
        },
        "id": "LswEEonkRI4k",
        "outputId": "a46d3748-1e69-4212-98a9-03ae742a38e3"
      },
      "source": [
        "import numpy as np\n",
        "import matplotlib.pyplot as plt\n",
        "import pandas as pd\n",
        "from sklearn.model_selection import train_test_split\n",
        "from sklearn.preprocessing import StandardScaler\n",
        "import re\n",
        "import nltk\n",
        "from nltk.corpus import stopwords\n",
        "import string\n",
        "from sklearn.metrics import precision_recall_fscore_support as score\n",
        "from sklearn.pipeline import Pipeline, FeatureUnion, TransformerMixin\n",
        "from mlxtend.feature_selection import ColumnSelector\n",
        "from sklearn.compose import ColumnTransformer\n",
        "nltk.download('stopwords')\n",
        "from keras.models import Sequential\n",
        "from keras.layers import Embedding, LSTM, Dense, Dropout\n",
        "from keras.initializers import Constant\n",
        "from keras.optimizers import Adam\n",
        "\n",
        "\n"
      ],
      "execution_count": null,
      "outputs": [
        {
          "output_type": "stream",
          "text": [
            "/usr/local/lib/python3.6/dist-packages/sklearn/externals/joblib/__init__.py:15: FutureWarning: sklearn.externals.joblib is deprecated in 0.21 and will be removed in 0.23. Please import this functionality directly from joblib, which can be installed with: pip install joblib. If this warning is raised when loading pickled models, you may need to re-serialize those models with scikit-learn 0.21+.\n",
            "  warnings.warn(msg, category=FutureWarning)\n"
          ],
          "name": "stderr"
        },
        {
          "output_type": "stream",
          "text": [
            "[nltk_data] Downloading package stopwords to /root/nltk_data...\n",
            "[nltk_data]   Unzipping corpora/stopwords.zip.\n"
          ],
          "name": "stdout"
        }
      ]
    },
    {
      "cell_type": "markdown",
      "metadata": {
        "id": "cTQo0z49RI4l"
      },
      "source": [
        "### Loading file and looking into the dimensions of data"
      ]
    },
    {
      "cell_type": "code",
      "metadata": {
        "collapsed": true,
        "colab": {
          "base_uri": "https://localhost:8080/",
          "height": 240
        },
        "id": "BdbQiaN0RI4l",
        "outputId": "37530274-b791-4e2d-ca40-9224d065b641"
      },
      "source": [
        "raw_data = pd.read_csv(\"SMSSpamData.csv\",names=['label','text'])\n",
        "pd.set_option('display.max_colwidth',100)\n",
        "\n",
        "\n",
        "print(f\"Shape of Data --> {raw_data.shape}\\n\")\n",
        "#print(pd.crosstab(raw_data['label'],columns = 'label'))\n",
        "#pd.crosstab(raw_data['label'],columns = 'label',normalize=True)\n",
        "raw_data.head()"
      ],
      "execution_count": null,
      "outputs": [
        {
          "output_type": "stream",
          "text": [
            "Shape of Data --> (5572, 2)\n",
            "\n"
          ],
          "name": "stdout"
        },
        {
          "output_type": "execute_result",
          "data": {
            "text/html": [
              "<div>\n",
              "<style scoped>\n",
              "    .dataframe tbody tr th:only-of-type {\n",
              "        vertical-align: middle;\n",
              "    }\n",
              "\n",
              "    .dataframe tbody tr th {\n",
              "        vertical-align: top;\n",
              "    }\n",
              "\n",
              "    .dataframe thead th {\n",
              "        text-align: right;\n",
              "    }\n",
              "</style>\n",
              "<table border=\"1\" class=\"dataframe\">\n",
              "  <thead>\n",
              "    <tr style=\"text-align: right;\">\n",
              "      <th></th>\n",
              "      <th>label</th>\n",
              "      <th>text</th>\n",
              "    </tr>\n",
              "  </thead>\n",
              "  <tbody>\n",
              "    <tr>\n",
              "      <th>0</th>\n",
              "      <td>ham</td>\n",
              "      <td>Go until jurong point, crazy.. Available only in bugis n great world la e buffet... Cine there g...</td>\n",
              "    </tr>\n",
              "    <tr>\n",
              "      <th>1</th>\n",
              "      <td>ham</td>\n",
              "      <td>Ok lar... Joking wif u oni...</td>\n",
              "    </tr>\n",
              "    <tr>\n",
              "      <th>2</th>\n",
              "      <td>spam</td>\n",
              "      <td>Free entry in 2 a wkly comp to win FA Cup final tkts 21st May 2005. Text FA to 87121 to receive ...</td>\n",
              "    </tr>\n",
              "    <tr>\n",
              "      <th>3</th>\n",
              "      <td>ham</td>\n",
              "      <td>U dun say so early hor... U c already then say...</td>\n",
              "    </tr>\n",
              "    <tr>\n",
              "      <th>4</th>\n",
              "      <td>ham</td>\n",
              "      <td>Nah I don't think he goes to usf, he lives around here though</td>\n",
              "    </tr>\n",
              "  </tbody>\n",
              "</table>\n",
              "</div>"
            ],
            "text/plain": [
              "  label                                                                                                 text\n",
              "0   ham  Go until jurong point, crazy.. Available only in bugis n great world la e buffet... Cine there g...\n",
              "1   ham                                                                        Ok lar... Joking wif u oni...\n",
              "2  spam  Free entry in 2 a wkly comp to win FA Cup final tkts 21st May 2005. Text FA to 87121 to receive ...\n",
              "3   ham                                                    U dun say so early hor... U c already then say...\n",
              "4   ham                                        Nah I don't think he goes to usf, he lives around here though"
            ]
          },
          "metadata": {
            "tags": []
          },
          "execution_count": 2
        }
      ]
    },
    {
      "cell_type": "code",
      "metadata": {
        "collapsed": true,
        "colab": {
          "base_uri": "https://localhost:8080/",
          "height": 143
        },
        "id": "NtPGU3VgRI4m",
        "outputId": "30fddea6-8d2c-4e39-f6da-c606a26f6d85"
      },
      "source": [
        "### Label distrbution (Ham is messaged which are not Spam)\n",
        "pd.crosstab(raw_data['label'],columns = 'label',normalize=True)\n",
        "#raw_data.head()"
      ],
      "execution_count": null,
      "outputs": [
        {
          "output_type": "execute_result",
          "data": {
            "text/html": [
              "<div>\n",
              "<style scoped>\n",
              "    .dataframe tbody tr th:only-of-type {\n",
              "        vertical-align: middle;\n",
              "    }\n",
              "\n",
              "    .dataframe tbody tr th {\n",
              "        vertical-align: top;\n",
              "    }\n",
              "\n",
              "    .dataframe thead th {\n",
              "        text-align: right;\n",
              "    }\n",
              "</style>\n",
              "<table border=\"1\" class=\"dataframe\">\n",
              "  <thead>\n",
              "    <tr style=\"text-align: right;\">\n",
              "      <th>col_0</th>\n",
              "      <th>label</th>\n",
              "    </tr>\n",
              "    <tr>\n",
              "      <th>label</th>\n",
              "      <th></th>\n",
              "    </tr>\n",
              "  </thead>\n",
              "  <tbody>\n",
              "    <tr>\n",
              "      <th>ham</th>\n",
              "      <td>0.865937</td>\n",
              "    </tr>\n",
              "    <tr>\n",
              "      <th>spam</th>\n",
              "      <td>0.134063</td>\n",
              "    </tr>\n",
              "  </tbody>\n",
              "</table>\n",
              "</div>"
            ],
            "text/plain": [
              "col_0     label\n",
              "label          \n",
              "ham    0.865937\n",
              "spam   0.134063"
            ]
          },
          "metadata": {
            "tags": []
          },
          "execution_count": 3
        }
      ]
    },
    {
      "cell_type": "markdown",
      "metadata": {
        "id": "3XH5CltGnvaR"
      },
      "source": [
        "## **Data Processing**"
      ]
    },
    {
      "cell_type": "markdown",
      "metadata": {
        "id": "eK58YKAHRI4n"
      },
      "source": [
        "### Functions to Create new features and cleaning the data"
      ]
    },
    {
      "cell_type": "code",
      "metadata": {
        "id": "7eEM4AN8RI4n"
      },
      "source": [
        "## Creat punc\n",
        "def punct_pc(text):\n",
        "    punct_count = sum([1 for char in text if char in string.punctuation])\n",
        "    return (punct_count/(len(text) - text.count(' ')))*100\n",
        "\n",
        "def clean_data(text):\n",
        "    punct = \"\".join([word.lower() for word in text if word not in string.punctuation])\n",
        "    splt = re.split('\\W+',punct)\n",
        "    txt = [nltk.PorterStemmer().stem(word) for word in splt if word not in nltk.corpus.stopwords.words('english')]\n",
        "    return txt\n"
      ],
      "execution_count": null,
      "outputs": []
    },
    {
      "cell_type": "markdown",
      "metadata": {
        "id": "RHGl0T5pRI4n"
      },
      "source": [
        "### Train and Test Split "
      ]
    },
    {
      "cell_type": "code",
      "metadata": {
        "id": "IsJsO7V8RI4o"
      },
      "source": [
        "## Splitting the Data using Test size 0.2\r\n",
        "X_train,X_test,y_train,y_test = train_test_split(raw_data[['text',]],raw_data['label'],test_size=0.2,random_state=23)"
      ],
      "execution_count": null,
      "outputs": []
    },
    {
      "cell_type": "code",
      "metadata": {
        "id": "eZJNfG-sHLjM"
      },
      "source": [
        "## Covert target to binary\r\n",
        "y_train = pd.get_dummies(y_train, drop_first=True)\r\n",
        "y_test = pd.get_dummies(y_test, drop_first=True)"
      ],
      "execution_count": null,
      "outputs": []
    },
    {
      "cell_type": "code",
      "metadata": {
        "collapsed": true,
        "id": "nTaFwwb9RI4o",
        "colab": {
          "base_uri": "https://localhost:8080/",
          "height": 344
        },
        "outputId": "94c0574a-bf44-4828-c646-8b409340ffb6"
      },
      "source": [
        "print(pd.crosstab(y_train,columns = 'label',normalize=True))\n",
        "print(pd.crosstab(y_test,columns = 'label',normalize=True))\n",
        "X_train.head()"
      ],
      "execution_count": null,
      "outputs": [
        {
          "output_type": "stream",
          "text": [
            "col_0   label\n",
            "label        \n",
            "ham    0.8674\n",
            "spam   0.1326\n",
            "col_0    label\n",
            "label         \n",
            "ham    0.86009\n",
            "spam   0.13991\n"
          ],
          "name": "stdout"
        },
        {
          "output_type": "execute_result",
          "data": {
            "text/html": [
              "<div>\n",
              "<style scoped>\n",
              "    .dataframe tbody tr th:only-of-type {\n",
              "        vertical-align: middle;\n",
              "    }\n",
              "\n",
              "    .dataframe tbody tr th {\n",
              "        vertical-align: top;\n",
              "    }\n",
              "\n",
              "    .dataframe thead th {\n",
              "        text-align: right;\n",
              "    }\n",
              "</style>\n",
              "<table border=\"1\" class=\"dataframe\">\n",
              "  <thead>\n",
              "    <tr style=\"text-align: right;\">\n",
              "      <th></th>\n",
              "      <th>text</th>\n",
              "    </tr>\n",
              "  </thead>\n",
              "  <tbody>\n",
              "    <tr>\n",
              "      <th>1627</th>\n",
              "      <td>Dear how you. Are you ok?</td>\n",
              "    </tr>\n",
              "    <tr>\n",
              "      <th>4608</th>\n",
              "      <td>Been running but only managed 5 minutes and then needed oxygen! Might have to resort to the roll...</td>\n",
              "    </tr>\n",
              "    <tr>\n",
              "      <th>2709</th>\n",
              "      <td>Nah, I'm a perpetual DD</td>\n",
              "    </tr>\n",
              "    <tr>\n",
              "      <th>639</th>\n",
              "      <td>What will we do in the shower, baby?</td>\n",
              "    </tr>\n",
              "    <tr>\n",
              "      <th>4544</th>\n",
              "      <td>I've been trying to reach him without success</td>\n",
              "    </tr>\n",
              "  </tbody>\n",
              "</table>\n",
              "</div>"
            ],
            "text/plain": [
              "                                                                                                     text\n",
              "1627                                                                            Dear how you. Are you ok?\n",
              "4608  Been running but only managed 5 minutes and then needed oxygen! Might have to resort to the roll...\n",
              "2709                                                                              Nah, I'm a perpetual DD\n",
              "639                                                                  What will we do in the shower, baby?\n",
              "4544                                                        I've been trying to reach him without success"
            ]
          },
          "metadata": {
            "tags": []
          },
          "execution_count": 6
        }
      ]
    },
    {
      "cell_type": "code",
      "metadata": {
        "id": "g1w7ux3qmKmY"
      },
      "source": [
        "######################## Create new features Train and Test Data ########################\r\n",
        "#- Two new features are created - \r\n",
        "#- 1) text_length (the total length of the text)\r\n",
        "#- 2) Punct_pc (the percentage of punctuations in the text)\r\n",
        "\r\n",
        "## Train Data\r\n",
        "X_train[\"punct_pc\"] = X_train[\"text\"].apply(lambda x: punct_pc(x))\r\n",
        "X_train[\"text_length\"] = X_train[\"text\"].apply(lambda x: len(x)-x.count(' '))\r\n",
        "\r\n",
        "## Test Data\r\n",
        "X_test[\"punct_pc\"] = X_test[\"text\"].apply(lambda x: punct_pc(x))\r\n",
        "X_test[\"text_length\"] = X_test[\"text\"].apply(lambda x: len(x)-x.count(' '))\r\n",
        "\r\n"
      ],
      "execution_count": null,
      "outputs": []
    },
    {
      "cell_type": "markdown",
      "metadata": {
        "id": "qkCDrmmeRI4o"
      },
      "source": [
        "### Pipeline to process the Text Data\r\n",
        "\r\n",
        "- Tokenization\r\n",
        "- Cleaning\r\n",
        "- Normalization\r\n",
        "- Lemmatization\r\n",
        "- Steaming"
      ]
    },
    {
      "cell_type": "markdown",
      "metadata": {
        "id": "J5ytibkoZRXc"
      },
      "source": [
        "Custom Transformer to select the Columns"
      ]
    },
    {
      "cell_type": "code",
      "metadata": {
        "id": "3I3H3jnWYhO5"
      },
      "source": [
        "## Customer transformer to Select features \r\n",
        "class ColumnExtractor(TransformerMixin):\r\n",
        "    def __init__(self, cols):\r\n",
        "        self.cols = cols\r\n",
        "\r\n",
        "    def fit(self, X, y=None):\r\n",
        "        # stateless transformer\r\n",
        "        return self\r\n",
        "\r\n",
        "    def transform(self, X):\r\n",
        "        # assumes X is a DataFrame\r\n",
        "        Xcols = pd.Series(X[self.cols])\r\n",
        "        return (Xcols)\r\n"
      ],
      "execution_count": null,
      "outputs": []
    },
    {
      "cell_type": "code",
      "metadata": {
        "id": "N0a2j7x32y7l"
      },
      "source": [
        "import numpy as np\r\n",
        "import multiprocessing as mp\r\n",
        "\r\n",
        "import string\r\n",
        "import spacy \r\n",
        "import en_core_web_sm\r\n",
        "from nltk.tokenize import word_tokenize\r\n",
        "from sklearn.base import TransformerMixin, BaseEstimator\r\n",
        "\r\n",
        "\r\n",
        "nlp = en_core_web_sm.load()\r\n",
        "\r\n",
        "\r\n",
        "class TextPreprocessor(BaseEstimator, TransformerMixin):\r\n",
        "    def __init__(self,\r\n",
        "                 \r\n",
        "                    variety=\"BrE\",\r\n",
        "                 user_abbrevs={},\r\n",
        "                 n_jobs=1):\r\n",
        "        \"\"\"\r\n",
        "        Text preprocessing transformer includes steps:\r\n",
        "            1. Text normalization\r\n",
        "            2. Punctuation removal\r\n",
        "            3. Stop words removal\r\n",
        "            4. Lemmatization\r\n",
        "        \r\n",
        "        variety - format of date (AmE - american type, BrE - british format) \r\n",
        "        user_abbrevs - dict of user abbreviations mappings (from normalise package)\r\n",
        "        n_jobs - parallel jobs to run\r\n",
        "        \"\"\"\r\n",
        "        self.variety = variety\r\n",
        "        self.user_abbrevs = user_abbrevs\r\n",
        "        self.n_jobs = n_jobs\r\n",
        "\r\n",
        "    def fit(self, X, y=None):\r\n",
        "        return self\r\n",
        "\r\n",
        "    def transform(self, X, *_):\r\n",
        "        X_copy = X.copy()\r\n",
        "\r\n",
        "        partitions = 1\r\n",
        "        cores = mp.cpu_count()\r\n",
        "        if self.n_jobs <= -1:\r\n",
        "            partitions = cores\r\n",
        "        elif self.n_jobs <= 0:\r\n",
        "            return X_copy.apply(self._preprocess_text)\r\n",
        "        else:\r\n",
        "            partitions = min(self.n_jobs, cores)\r\n",
        "\r\n",
        "        data_split = np.array_split(X_copy, partitions)\r\n",
        "        pool = mp.Pool(cores)\r\n",
        "        data = pd.concat(pool.map(self._preprocess_part, data_split))\r\n",
        "        pool.close()\r\n",
        "        pool.join()\r\n",
        "\r\n",
        "        return data\r\n",
        "\r\n",
        "    def _preprocess_part(self, part):\r\n",
        "        return part.apply(self._preprocess_text)\r\n",
        "\r\n",
        "    def _preprocess_text(self, text):\r\n",
        "        normalized_text = self._normalize(text)\r\n",
        "        doc = nlp(normalized_text)\r\n",
        "\r\n",
        "        removed_punct = self._remove_punct(doc)\r\n",
        "        removed_stop_words = self._remove_stop_words(removed_punct)\r\n",
        "        return self._lemmatize(removed_stop_words)\r\n",
        "\r\n",
        "    def _normalize(self, text):\r\n",
        "        # some issues in normalise package\r\n",
        "        try:\r\n",
        "            return ' '.join(normalise(text, variety=self.variety, user_abbrevs=self.user_abbrevs, verbose=False))\r\n",
        "        except:\r\n",
        "            return text\r\n",
        "\r\n",
        "    def _remove_punct(self, doc):\r\n",
        "        return [t for t in doc if t.text not in string.punctuation]\r\n",
        "\r\n",
        "    def _remove_stop_words(self, doc):\r\n",
        "        return [t for t in doc if not t.is_stop]\r\n",
        "\r\n",
        "    def _lemmatize(self, doc):\r\n",
        "        return ' '.join([t.lemma_ for t in doc])\r\n",
        "\r\n",
        "\r\n",
        "\r\n",
        "num_cols = [\"punct_pc\",\"text_length\"]\r\n",
        "Column_trans = ColumnTransformer(\r\n",
        "     [('scaler', StandardScaler(),num_cols)],\r\n",
        "     remainder='drop')\r\n",
        "\r\n",
        "num_pipe = Pipeline([\r\n",
        "  ('scaler', Column_trans)\r\n",
        "  ])"
      ],
      "execution_count": null,
      "outputs": []
    },
    {
      "cell_type": "code",
      "metadata": {
        "id": "FQz7c8VIq3pZ"
      },
      "source": [
        "Preprocess_text = Pipeline([(\"select_text\", ColumnExtractor(cols=\"text\")),\r\n",
        "                            ('preprocess', TextPreprocessor())\r\n",
        "                            ])\r\n",
        "\r\n",
        "preprocessing_pipeline = Pipeline([\r\n",
        "    ('feat_union', FeatureUnion(transformer_list=[\r\n",
        "          ('text_pipeline', Preprocess_text),\r\n",
        "          ('num_pipeline', num_pipe)\r\n",
        "          ]))\r\n",
        "    ])"
      ],
      "execution_count": null,
      "outputs": []
    },
    {
      "cell_type": "markdown",
      "metadata": {
        "id": "ShBE5VnSJ41M"
      },
      "source": [
        "**Preprocess the Train and Test data using the pipeline**"
      ]
    },
    {
      "cell_type": "code",
      "metadata": {
        "id": "nXxWEIR6sZCW"
      },
      "source": [
        "X_train_preprocessed = Preprocess_text.fit_transform(X_train)\r\n",
        "X_test_preprocessed = Preprocess_text.fit_transform(X_test)"
      ],
      "execution_count": null,
      "outputs": []
    },
    {
      "cell_type": "markdown",
      "metadata": {
        "id": "qIrxgWFdKLh5"
      },
      "source": [
        "Calculate the size of the vocabulary (i.e the number of unique words in the entire corpus) . This is needed as a paramter \"input_dim\" in the embedded layer "
      ]
    },
    {
      "cell_type": "code",
      "metadata": {
        "id": "Prq5ONM8AbOt"
      },
      "source": [
        "from collections import Counter\r\n",
        "# Count unique words\r\n",
        "def counter_word(text):\r\n",
        "    count = Counter()\r\n",
        "    for i in text.values:\r\n",
        "        for word in i.split():\r\n",
        "            count[word] += 1\r\n",
        "    return count\r\n",
        "\r\n",
        "counter = counter_word(X_train_preprocessed)\r\n",
        "vocab_size = len(counter)"
      ],
      "execution_count": null,
      "outputs": []
    },
    {
      "cell_type": "code",
      "metadata": {
        "id": "FocS8402AjbL"
      },
      "source": [
        "# We are taking a maximum lenght for the sequence as 30 (sequence above this length will be trimmed down and \r\n",
        "# and below this lenght will be padded with zeroes)\r\n",
        "max_length = 30"
      ],
      "execution_count": null,
      "outputs": []
    },
    {
      "cell_type": "markdown",
      "metadata": {
        "id": "FCqUJhX1NUWd"
      },
      "source": [
        "Using Tokenizer class from keras tokenize the sentences. Tokinzer assignes a unique ID for each word in the entire trainign set"
      ]
    },
    {
      "cell_type": "code",
      "metadata": {
        "id": "VCXzdA9eFWSo"
      },
      "source": [
        "from keras.preprocessing.text import Tokenizer\r\n",
        "tokenizer = Tokenizer(num_words=num_words)\r\n",
        "tokenizer.fit_on_texts(X_train_preprocessed)\r\n",
        "X_train_sequences = tokenizer.texts_to_sequences(X_train_preprocessed)"
      ],
      "execution_count": null,
      "outputs": []
    },
    {
      "cell_type": "code",
      "metadata": {
        "colab": {
          "base_uri": "https://localhost:8080/"
        },
        "id": "jpVvm8HQNnY_",
        "outputId": "d288dc22-a161-409b-ac6c-75159597f132"
      },
      "source": [
        "## We can check the index of all the words created by the tokenizer\r\n",
        "word_index = tokenizer.word_index\r\n",
        "print(word_index)"
      ],
      "execution_count": null,
      "outputs": [
        {
          "output_type": "stream",
          "text": [
            "{'u': 1, '2': 2, 'ur': 3, 'go': 4, 'come': 5, 'gt': 6, '4': 7, 'lt': 8, 'not': 9, 'good': 10, 'know': 11, '£': 12, 'get': 13, 'free': 14, 'ok': 15, 'send': 16, 'day': 17, 'like': 18, 'want': 19, 'time': 20, 'love': 21, 'think': 22, 'text': 23, 'tell': 24, 'need': 25, 'r': 26, 'txt': 27, 'ü': 28, 'n': 29, 'reply': 30, 'sorry': 31, 'stop': 32, 'today': 33, 'da': 34, 'lor': 35, 'win': 36, '1': 37, 'home': 38, 'k': 39, 'mobile': 40, 'phone': 41, 's': 42, 'say': 43, 'hope': 44, 'later': 45, 'work': 46, 'ask': 47, 'hi': 48, 'new': 49, 'week': 50, 'night': 51, 'dear': 52, 'pls': 53, 'c': 54, 'hey': 55, 'message': 56, 'd': 57, 'thing': 58, 'wait': 59, 'meet': 60, 'miss': 61, 'claim': 62, 'great': 63, 'happy': 64, 'msg': 65, 'try': 66, 'oh': 67, 'leave': 68, 'wat': 69, 'feel': 70, 'number': 71, '3': 72, 'thank': 73, 'find': 74, 'way': 75, 'min': 76, 'friend': 77, 'yes': 78, 'late': 79, 'let': 80, 'tomorrow': 81, 'right': 82, 'www': 83, 'prize': 84, 'life': 85, 'e': 86, 'cash': 87, 'amp': 88, 'i': 89, 'pick': 90, 'tone': 91, 'buy': 92, 'sleep': 93, 'care': 94, 't': 95, 'call': 96, 'morning': 97, 'yeah': 98, 'lol': 99, '150p': 100, 'babe': 101, 'be': 102, 'nokia': 103, 'watch': 104, 'gud': 105, 'award': 106, 'contact': 107, 'uk': 108, 'urgent': 109, 'sure': 110, 'b': 111, 'service': 112, 'wish': 113, 'help': 114, 'take': 115, 'look': 116, 'nice': 117, 'start': 118, 'finish': 119, 'money': 120, 'ya': 121, 'will': 122, 'year': 123, 'smile': 124, '50': 125, '5': 126, 'end': 127, 'com': 128, 'place': 129, 'tonight': 130, 'to': 131, 'guy': 132, 'plan': 133, 'cos': 134, 'co': 135, 'customer': 136, 'chat': 137, 'talk': 138, 'man': 139, 'mean': 140, 'check': 141, 'soon': 142, 'hour': 143, 'live': 144, '18': 145, 'word': 146, 'lot': 147, 'person': 148, 'sms': 149, 'v': 150, 'happen': 151, '6': 152, 'dun': 153, 'wan': 154, 'heart': 155, 'girl': 156, 'month': 157, 'stuff': 158, 'thk': 159, 'x': 160, 'minute': 161, 'job': 162, 'receive': 163, 'holiday': 164, '7': 165, 'see': 166, '16': 167, 'people': 168, 'line': 169, 'hello': 170, 'make': 171, 'reach': 172, 'special': 173, 'world': 174, 'enjoy': 175, 'offer': 176, 'long': 177, 'class': 178, 'god': 179, 'use': 180, 'have': 181, 'big': 182, 'bad': 183, 'forget': 184, 'problem': 185, 'car': 186, 'pay': 187, 'y': 188, 'wake': 189, 'fine': 190, 'play': 191, 'hear': 192, 'guess': 193, 'run': 194, 'house': 195, 'lunch': 196, 'show': 197, 'mind': 198, 'eat': 199, 'ill': 200, 'dat': 201, 'bit': 202, 'haha': 203, 'lar': 204, 'yup': 205, 'room': 206, 'luv': 207, 'speak': 208, '1000': 209, 'stay': 210, '500': 211, 'draw': 212, 'sweet': 213, 'cost': 214, 'g': 215, 'ready': 216, 'lose': 217, 'boy': 218, 'cool': 219, 'rate': 220, '100': 221, 'cs': 222, 'book': 223, 'chance': 224, 'landline': 225, 'real': 226, 'remember': 227, '10': 228, 'xxx': 229, 'wk': 230, '1st': 231, 'bt': 232, 'question': 233, 'camera': 234, 'kiss': 235, 'm': 236, 'bed': 237, 'maybe': 238, 'weekend': 239, 'guaranteed': 240, 'select': 241, 'half': 242, 'jus': 243, 'join': 244, 'dream': 245, 'date': 246, 'hurt': 247, '9': 248, 'video': 249, 'ah': 250, 'got': 251, 'worry': 252, 'birthday': 253, 'sir': 254, 'bring': 255, 'face': 256, 'pic': 257, 'drive': 258, 'walk': 259, 'wanna': 260, 'aight': 261, 'account': 262, 'shit': 263, 'voucher': 264, 'easy': 265, 'change': 266, 'tv': 267, '150ppm': 268, 'fun': 269, 'shop': 270, 'princess': 271, '8': 272, 'pa': 273, 'apply': 274, 'dinner': 275, '2nd': 276, 'early': 277, 'liao': 278, 'baby': 279, 'mail': 280, 'leh': 281, 'yo': 282, 'ringtone': 283, 'afternoon': 284, 'office': 285, 'probably': 286, 'll': 287, 'evening': 288, 'network': 289, 'wot': 290, 'orange': 291, 'game': 292, 'thanx': 293, 'actually': 294, '000': 295, 'fuck': 296, 'dis': 297, 'mate': 298, 'po': 299, 'box': 300, 'bus': 301, 'answer': 302, 'tmr': 303, 'important': 304, 'little': 305, '5000': 306, 'sit': 307, 'charge': 308, 'den': 309, 'hav': 310, 'plz': 311, 'lesson': 312, 'give': 313, 'dunno': 314, 'update': 315, 'true': 316, 'await': 317, 'collection': 318, 'code': 319, 'post': 320, 'sexy': 321, 'test': 322, 'mob': 323, 'frnd': 324, 'able': 325, 'til': 326, 'detail': 327, 'movie': 328, 'town': 329, 'collect': 330, 'sound': 331, 'point': 332, 'gift': 333, 'music': 334, 'hair': 335, 'hold': 336, 'wife': 337, 'break': 338, 'decide': 339, 'colour': 340, 'meeting': 341, 'friendship': 342, 'pound': 343, 'well': 344, 'entry': 345, 'nite': 346, 'away': 347, 'smoke': 348, 'lei': 349, 'decimal': 350, 'credit': 351, 'juz': 352, 'attempt': 353, 'touch': 354, 'close': 355, 'de': 356, 'wif': 357, 'player': 358, 'abt': 359, 'plus': 360, 'xmas': 361, 'trip': 362, 'shall': 363, 'drink': 364, 'dad': 365, 'school': 366, 'believe': 367, 'pain': 368, 'better': 369, 'sch': 370, 'sae': 371, 'yesterday': 372, 'wonder': 373, 'simple': 374, 'family': 375, 'beautiful': 376, 'read': 377, 'noe': 378, 'spend': 379, 'story': 380, 'invite': 381, 'email': 382, 'mom': 383, 'match': 384, 'haf': 385, 'valid': 386, 'im': 387, 'hot': 388, '10p': 389, 'bonus': 390, 'okay': 391, 'order': 392, 'would': 393, 'address': 394, 'http': 395, 'ard': 396, 'okie': 397, 'dude': 398, 'busy': 399, 'online': 400, '8007': 401, 'now': 402, 'tot': 403, 'ring': 404, 'aft': 405, 'sad': 406, 'enter': 407, 'weekly': 408, 'food': 409, 'search': 410, 'huh': 411, '2000': 412, 'price': 413, 'drop': 414, 'alright': 415, 'xx': 416, 'o': 417, 'auction': 418, 'row': 419, 'wen': 420, 'oso': 421, 'die': 422, 'wid': 423, 'second': 424, 'cause': 425, 'choose': 426, 'net': 427, 'delivery': 428, 'head': 429, 'fancy': 430, 'till': 431, 'gal': 432, 'ni8': 433, '86688': 434, 'wil': 435, 'coz': 436, 'don': 437, 'sell': 438, 'understand': 439, 'tho': 440, 'national': 441, 'double': 442, 'hand': 443, 'p': 444, 'log': 445, 'unsubscribe': 446, 'lucky': 447, 'set': 448, 'pm': 449, 'gd': 450, 'welcome': 451, 'news': 452, 'reveal': 453, 'keep': 454, 'mum': 455, 'card': 456, 'neva': 457, 'poly': 458, 'old': 459, 'brother': 460, '…': 461, 'friday': 462, 'fast': 463, '350': 464, 'opt': 465, 'cheap': 466, 'suite342': 467, '2lands': 468, 'awesome': 469, 'sort': 470, 'land': 471, 'congrat': 472, 'pub': 473, 'club': 474, '800': 475, 'age': 476, 'tomo': 477, 'shopping': 478, 'boytoy': 479, 'angry': 480, 'forward': 481, 'gr8': 482, 'no': 483, 'you': 484, 'light': 485, 'hit': 486, 'secret': 487, 'msgs': 488, 'final': 489, 'wonderful': 490, \"i'm\": 491, 'joke': 492, 'type': 493, 'parent': 494, 'listen': 495, '250': 496, 'value': 497, 'eve': 498, 'park': 499, 'available': 500, 'chikku': 501, 'company': 502, 'private': 503, 'pass': 504, '750': 505, 'sat': 506, 'mrng': 507, 'cut': 508, 'fri': 509, 'treat': 510, 'yar': 511, '30': 512, 'save': 513, 'bill': 514, 'ltd': 515, 'college': 516, 'promise': 517, 'open': 518, 'uncle': 519, 'sea': 520, 'it': 521, 'prob': 522, 'quiz': 523, 'study': 524, 'exam': 525, 'follow': 526, 'yr': 527, 'mu': 528, 'statement': 529, 'drug': 530, '0800': 531, 'hard': 532, 'bout': 533, 'anytime': 534, 'rite': 535, 'nt': 536, 'case': 537, 'reason': 538, 'sister': 539, 'outside': 540, 'course': 541, 'short': 542, 'ago': 543, 'darlin': 544, 'sex': 545, 'na': 546, 'pobox': 547, 'hospital': 548, 'operator': 549, '08000930705': 550, 'hmm': 551, 'carlos': 552, 'bcoz': 553, 'worth': 554, 'crazy': 555, 'lovely': 556, 'party': 557, 'mobileupd8': 558, 'jay': 559, 'wkly': 560, 'bored': 561, 'term': 562, 'info': 563, 'return': 564, 'ge': 565, 'mah': 566, 'mayb': 567, '12': 568, '12hrs': 569, 'b4': 570, 'cd': 571, 'film': 572, 'bathe': 573, 'fucking': 574, '03': 575, 'kind': 576, 'nope': 577, 'moment': 578, 'far': 579, 'tired': 580, 'sun': 581, 'ha': 582, 'pretty': 583, 'ipod': 584, 'gas': 585, 'how': 586, 'guarantee': 587, 'fix': 588, 'clean': 589, 'scream': 590, '150': 591, 'oredi': 592, 'add': 593, 'hmmm': 594, 'winner': 595, 'smth': 596, 'song': 597, 'asap': 598, 'single': 599, 'download': 600, \"''\": 601, 'fone': 602, 'camcorder': 603, 'blue': 604, 'motorola': 605, 'bslvyl': 606, 'todays': 607, 'couple': 608, 'balance': 609, 'frm': 610, 'hg': 611, 'w1j6hl': 612, 'fr': 613, '11': 614, 'surprise': 615, 'knw': 616, 'saturday': 617, 'bank': 618, 'nyt': 619, '87066': 620, 'fall': 621, 'luck': 622, 'unlimited': 623, 'identifier': 624, 'eh': 625, 'idea': 626, 'snow': 627, 'happiness': 628, 'loan': 629, 'etc': 630, 'finally': 631, 'earlier': 632, 'information': 633, 'sunday': 634, 'freemsg': 635, 'turn': 636, 'wit': 637, 'hungry': 638, 'area': 639, 'crave': 640, 'chennai': 641, 'eye': 642, 'complete': 643, 'semester': 644, 'support': 645, 'comp': 646, 'direct': 647, 'near': 648, 'india': 649, 'energy': 650, 'press': 651, 'catch': 652, 'noon': 653, '200': 654, 'wrong': 655, 'rental': 656, '08000839402': 657, 'swing': 658, 'glad': 659, 'grin': 660, 'fantastic': 661, 'currently': 662, 'wine': 663, 'tel': 664, 'darren': 665, 'f': 666, 'gn': 667, 'page': 668, 'ugh': 669, 'congratulation': 670, 'tc': 671, '900': 672, 'suppose': 673, 'red': 674, 'street': 675, 'christmas': 676, 'fight': 677, 'difficult': 678, 'cum': 679, 'mins': 680, 'pray': 681, 'load': 682, 'yep': 683, 'caller': 684, 'visit': 685, 'style': 686, 'wana': 687, 'excuse': 688, 'slow': 689, 'w': 690, 'st': 691, 'bath': 692, 'complimentary': 693, 'computer': 694, 'expect': 695, 'reward': 696, 'content': 697, 'ass': 698, 'shower': 699, 'goodnight': 700, 'gettin': 701, 'march': 702, 'convey': 703, 'kate': 704, 'ex': 705, 'throw': 706, 'stupid': 707, 'askd': 708, 'sale': 709, 'rest': 710, 'specially': 711, 'safe': 712, 'fren': 713, 'flag': 714, 'mr': 715, 'she': 716, 'confirm': 717, 'mid': 718, 'somebody': 719, 'ldn': 720, 'user': 721, 'deliver': 722, 'fill': 723, 'so': 724, 'train': 725, 'teach': 726, 'register': 727, 'copy': 728, 'representative': 729, 'del': 730, 'al': 731, 'expire': 732, 'immediately': 733, 'voice': 734, 'access': 735, '20': 736, 'project': 737, 'do': 738, 'abiola': 739, 'remove': 740, 'hee': 741, 'one': 742, 'lazy': 743, 'murder': 744, '40': 745, 'ticket': 746, 'fact': 747, 'laugh': 748, 'cover': 749, 'weed': 750, 'lovable': 751, 'goodmorning': 752, 'mistake': 753, 'usual': 754, 'savamob': 755, 'sub': 756, '2nite': 757, '–': 758, 'warm': 759, 'road': 760, 'cancel': 761, 'slowly': 762, 'nah': 763, 'rply': 764, 'eg': 765, 'getzed': 766, 'orchard': 767, 'water': 768, 'marry': 769, 'truth': 770, 'txte': 771, 'hw': 772, 'moral': 773, 'bb': 774, 'tonite': 775, 'silent': 776, \"b'day\": 777, 'fat': 778, 'forever': 779, 'me': 780, 'inform': 781, 'wear': 782, 'joy': 783, 'john': 784, 'this': 785, 'iam': 786, 'interested': 787, 'texte': 788, 'th': 789, 'thinkin': 790, 'call2optout': 791, 'small': 792, 'child': 793, 'sony': 794, 'gap': 795, 'round': 796, 'swt': 797, 'share': 798, 'oops': 799, 'callertune': 800, 'fantasy': 801, 'pete': 802, 'tht': 803, 'worried': 804, 'cheer': 805, 'wednesday': 806, '06': 807, '2003': 808, '04': 809, 'deal': 810, 'comin': 811, 'bore': 812, 'waste': 813, 'sofa': 814, 'dog': 815, 'rent': 816, 'hiya': 817, 'usf': 818, 'process': 819, 'ho': 820, 'store': 821, 'mark': 822, 'std': 823, 'summer': 824, 'wow': 825, 'freephone': 826, 'door': 827, 'police': 828, 'cook': 829, 'correct': 830, 'figure': 831, 'custcare': 832, 'include': 833, 'rain': 834, 'student': 835, 'quote': 836, 'situation': 837, 'settle': 838, 'discount': 839, 'ac': 840, 'doctor': 841, 'realy': 842, 'extra': 843, 'flirt': 844, 'xy': 845, 'admirer': 846, 'tough': 847, 'din': 848, 'poor': 849, 'lady': 850, 'laptop': 851, 'monday': 852, 'dogging': 853, 'gym': 854, 'bid': 855, 'picture': 856, 'cute': 857, 'wun': 858, 'disturb': 859, 'issue': 860, 'present': 861, 'write': 862, 'title': 863, 'cal': 864, 'loyalty': 865, 'feb': 866, 'deep': 867, 'inside': 868, 'egg': 869, 'possible': 870, 'lemme': 871, 'boss': 872, 'apartment': 873, 'finger': 874, 'torch': 875, 'tea': 876, 'space': 877, 'different': 878, 'facebook': 879, 'sim': 880, 'father': 881, 'ans': 882, '2day': 883, 'normal': 884, 'workin': 885, 'yoga': 886, 'sense': 887, 'tear': 888, 'england': 889, 'cry': 890, 'gay': 891, 'funny': 892, 'completely': 893, 'omg': 894, 'remind': 895, 'naughty': 896, 'sunshine': 897, 'dvd': 898, 'high': 899, 'score': 900, 'hotel': 901, 'lover': 902, 'medical': 903, 'insurance': 904, 'dead': 905, 'quick': 906, 'ta': 907, 'lect': 908, 'flower': 909, 'tenerife': 910, 'valentines': 911, 'costa': 912, 'sol': 913, 'sk38xh': 914, '20p': 915, 'sky': 916, 'ldew': 917, 'photo': 918, 'thought': 919, 'or': 920, 'mo': 921, 'rakhesh': 922, 'trust': 923, 'un': 924, 'redeem': 925, 'imma': 926, 'ave': 927, 'hai': 928, 'clear': 929, 'arrive': 930, 'especially': 931, 'some1': 932, 'bird': 933, 'bag': 934, 'seriously': 935, 'roommate': 936, 'when': 937, 'ip4': 938, '5we': 939, 'fault': 940, 'mon': 941, 'mode': 942, '02': 943, 'list': 944, 'move': 945, 'j': 946, 'ts': 947, 'meh': 948, 'but': 949, 'yrs': 950, '4u': 951, 'file': 952, 'link': 953, 'lift': 954, 'entitle': 955, 'slave': 956, 'coffee': 957, 'put': 958, 'appreciate': 959, 'library': 960, 'what': 961, 'dnt': 962, 'sick': 963, 'south': 964, 'tampa': 965, '400': 966, 'digital': 967, 'shd': 968, 'comuk': 969, 'blood': 970, 'muz': 971, 'mp3': 972, 'experience': 973, 'paper': 974, 'opinion': 975, 'hmv': 976, 'rock': 977, 'learn': 978, 'valentine': 979, 'forgot': 980, 'quality': 981, 'review': 982, 'hang': 983, 'buck': 984, 'ish': 985, 'imagine': 986, 'doc': 987, 'reference': 988, 'tuesday': 989, 'cinema': 990, 'kid': 991, 'hell': 992, \"u've\": 993, 'kerala': 994, 'nigeria': 995, 'key': 996, 'official': 997, 'shirt': 998, 'menu': 999, 'evng': 1000, 'friends': 1001, 'kinda': 1002, 'alrite': 1003, 'bak': 1004, 'mm': 1005, 'kill': 1006, 'eatin': 1007, 'id': 1008, 'o2': 1009, 'yest': 1010, 'january': 1011, 'training': 1012, 'self': 1013, 'brand': 1014, '86021': 1015, 'country': 1016, '82277': 1017, 'logo': 1018, 'name': 1019, 'yahoo': 1020, 'ad': 1021, 'condition': 1022, 'rcvd': 1023, 'bugis': 1024, 'aftr': 1025, 'lie': 1026, 'request': 1027, 'tease': 1028, 'rise': 1029, 'omw': 1030, 'fb': 1031, '50p': 1032, 'pleased': 1033, '09050090044': 1034, 'toclaim': 1035, 'pobox334': 1036, 'stockport': 1037, 'cost£1': 1038, 'max10min': 1039, 'ntt': 1040, '3030': 1041, 'kallis': 1042, 'hr': 1043, 'team': 1044, 'sis': 1045, 'tncs': 1046, '2004': 1047, 'result': 1048, 'future': 1049, 'stock': 1050, 'longer': 1051, 'armand': 1052, 'hurry': 1053, 'sport': 1054, 'group': 1055, '00': 1056, 'daily': 1057, 'mth': 1058, 'bx420': 1059, 'shuhui': 1060, 'spree': 1061, 'age16': 1062, 'stand': 1063, 'cup': 1064, 'definitely': 1065, 'bold': 1066, 'hop': 1067, 'cine': 1068, 'urawinner': 1069, 'excellent': 1070, '4th': 1071, 'nature': 1072, 'best': 1073, 'gb': 1074, 'depend': 1075, 'adult': 1076, 'realize': 1077, 'alex': 1078, 'cold': 1079, 'yay': 1080, 'bluetooth': 1081, 'april': 1082, 'awake': 1083, 'bother': 1084, 'hrs': 1085, 'plenty': 1086, 'hl': 1087, 'past': 1088, 'internet': 1089, 'pizza': 1090, 'letter': 1091, 'hug': 1092, 'wap': 1093, 'connection': 1094, 'ice': 1095, 'member': 1096, 'suck': 1097, 'role': 1098, 'melle': 1099, 'exciting': 1100, 'confidence': 1101, 'wer': 1102, 'se': 1103, 'mood': 1104, 'cake': 1105, 'campus': 1106, 'moan': 1107, 'boo': 1108, 'pleasure': 1109, 'sipix': 1110, '28': 1111, 'freak': 1112, 'pack': 1113, 'remain': 1114, 'coin': 1115, 'daddy': 1116, '25p': 1117, 'moon': 1118, 'charity': 1119, 'inc': 1120, 'strong': 1121, 'location': 1122, 'lead': 1123, 'pix': 1124, 'urself': 1125, 'kick': 1126, 'local': 1127, 'honey': 1128, 'pin': 1129, 'regard': 1130, 'cuz': 1131, 'missing': 1132, 'sign': 1133, 'there': 1134, 'bro': 1135, 'battery': 1136, 'low': 1137, 'jazz': 1138, 'don‘t': 1139, \"u'll\": 1140, 'ignore': 1141, 'pussy': 1142, 'heavy': 1143, 'tuition': 1144, 'random': 1145, 'btw': 1146, 'nxt': 1147, 'no1': 1148, '36504': 1149, 'marriage': 1150, 'boost': 1151, 'willing': 1152, 'xchat': 1153, 'app': 1154, 'ttyl': 1155, 'qatar': 1156, 'opportunity': 1157, 'bear': 1158, 'competition': 1159, 'ringtones': 1160, 'original': 1161, 'midnight': 1162, 'directly': 1163, 'blessing': 1164, 'feeling': 1165, 'black': 1166, 'fly': 1167, 'verify': 1168, 'tis': 1169, 'hide': 1170, 'allah': 1171, 'eng': 1172, '08712460324': 1173, 'relax': 1174, 'med': 1175, 'vomit': 1176, 'adore': 1177, 'q': 1178, 'sp': 1179, '08712300220': 1180, 'create': 1181, 'mrt': 1182, 'aiyah': 1183, 'anymore': 1184, 'act': 1185, 'vikky': 1186, 'il': 1187, 'gm': 1188, 'ride': 1189, '10am': 1190, '7pm': 1191, '1327': 1192, 'croydon': 1193, 'cr9': 1194, '5wb': 1195, '0870': 1196, 'bin': 1197, 'recently': 1198, 'nw': 1199, 'mother': 1200, 'king': 1201, 'assume': 1202, 'quit': 1203, 'videophones': 1204, 'videochat': 1205, 'java': 1206, 'dload': 1207, 'noline': 1208, 'rentl': 1209, 'regret': 1210, '£1': 1211, 'burn': 1212, 'totally': 1213, 'cancer': 1214, 'super': 1215, 'tour': 1216, 'usually': 1217, 'body': 1218, 'unsub': 1219, 'smart': 1220, 'damn': 1221, '24': 1222, 'personal': 1223, '05': 1224, 'la': 1225, 'that': 1226, 'meal': 1227, 'xxxx': 1228, 'notice': 1229, 'standard': 1230, 'activate': 1231, '8th': 1232, 'instead': 1233, 'cartoon': 1234, 'indian': 1235, 'version': 1236, '150pm': 1237, 'receipt': 1238, 'chase': 1239, 'london': 1240, 'affair': 1241, 'barely': 1242, 'budget': 1243, 'ar': 1244, 'interview': 1245, 'kb': 1246, 'unsold': 1247, 'twice': 1248, 'expires': 1249, 'announcement': 1250, 'station': 1251, 'report': 1252, 'gee': 1253, 'solve': 1254, 'maid': 1255, 'murderer': 1256, '3rd': 1257, 'alert': 1258, 'weak': 1259, 'meaning': 1260, 'hella': 1261, 'fetch': 1262, 'yun': 1263, 'l8r': 1264, 'askin': 1265, 'common': 1266, 'sonyericsson': 1267, 'click': 1268, 'asleep': 1269, 'blow': 1270, 'fail': 1271, 'village': 1272, 'sunny': 1273, 'print': 1274, 'attend': 1275, 'lmao': 1276, 'aiyo': 1277, 'centre': 1278, 'yijue': 1279, 'aathi': 1280, 'kano': 1281, 'maximize': 1282, 'hunny': 1283, 'hun': 1284, 'ahmad': 1285, 'delete': 1286, 'dey': 1287, 'bedroom': 1288, 'wnt': 1289, '25': 1290, 'lay': 1291, 'website': 1292, 'practice': 1293, 'advice': 1294, 'arm': 1295, 'uni': 1296, 'sup': 1297, 'consider': 1298, 'cell': 1299, 'respond': 1300, 'truly': 1301, 'num': 1302, 'power': 1303, 'sura': 1304, '434': 1305, 'vl': 1306, 'my': 1307, 'sam': 1308, 'relation': 1309, 'loverboy': 1310, 'earth': 1311, 'city': 1312, 'advance': 1313, 'holder': 1314, 'naked': 1315, 'cuddle': 1316, 'blank': 1317, 'dark': 1318, 'her': 1319, 'vry': 1320, 'clock': 1321, '83355': 1322, 'up': 1323, 'where': 1324, 'lookin': 1325, 'meetin': 1326, 'childish': 1327, 'character': 1328, 'horny': 1329, 'howz': 1330, 'reading': 1331, 'argument': 1332, 'boston': 1333, 'optout': 1334, 'only': 1335, 'ru': 1336, 'basically': 1337, 'woman': 1338, 'merry': 1339, 'password': 1340, 'green': 1341, 'bye': 1342, 'holla': 1343, 'arrange': 1344, 'dint': 1345, 'amazing': 1346, 'sight': 1347, 'manage': 1348, 'oni': 1349, 'ship': 1350, 'travel': 1351, 'dirty': 1352, 'txtauction': 1353, '81151': 1354, 'series': 1355, 'record': 1356, 'gentle': 1357, 'weather': 1358, 'inch': 1359, 'transaction': 1360, 'favour': 1361, 'nimya': 1362, 'w45wq': 1363, 'norm150p': 1364, 'bite': 1365, 'sec': 1366, 'hate': 1367, 'accept': 1368, 'shout': 1369, 'hv': 1370, 'netcollex': 1371, 'cabin': 1372, '3gbp': 1373, 'ure': 1374, 'fry': 1375, '3510i': 1376, 'raise': 1377, 'decision': 1378, 'purity': 1379, 'bitch': 1380, 'iq': 1381, 'unique': 1382, 'oz': 1383, \"did'nt\": 1384, 'kids': 1385, 'colleague': 1386, 'beer': 1387, 'vodafone': 1388, 'prepare': 1389, 'pig': 1390, 'yer': 1391, '84199': 1392, 'box39822': 1393, 'w111wx': 1394, '2mrw': 1395, 'hook': 1396, 'bday': 1397, 'buzz': 1398, 'salary': 1399, 'grand': 1400, 'pobox36504w45wq': 1401, 'basic': 1402, 'guide': 1403, 'fever': 1404, 'exhaust': 1405, 'improve': 1406, 'urn': 1407, 'package': 1408, 'timing': 1409, 'fire': 1410, 'advise': 1411, 'callers': 1412, 'tcs': 1413, '08707509020': 1414, 'tb': 1415, 'irritate': 1416, 'days': 1417, 'football': 1418, 'italian': 1419, 'acc': 1420, 'derek': 1421, 'piss': 1422, 'realise': 1423, 'shoot': 1424, 'biz': 1425, 'something': 1426, 'cbe': 1427, 'grow': 1428, 'bf': 1429, 'star': 1430, '08712405020': 1431, '3mins': 1432, 'vary': 1433, 'dry': 1434, 'spell': 1435, 'season': 1436, 'moby': 1437, 'celebrate': 1438, 'affection': 1439, 'sing': 1440, 'technical': 1441, 'subscription': 1442, 'begin': 1443, 'milk': 1444, 'transfer': 1445, 'dont': 1446, 'si': 1447, 'sn': 1448, 'theatre': 1449, 'upto': 1450, 'pobox84': 1451, 'wkend': 1452, 'greet': 1453, 'dem': 1454, 'cross': 1455, 'temple': 1456, 'church': 1457, 'purpose': 1458, 'tenant': 1459, 'refuse': 1460, 'contract': 1461, 'tariff': 1462, 'aunt': 1463, 'hopefully': 1464, 'suite': 1465, 'loving': 1466, 'pple': 1467, 'infernal': 1468, 'cud': 1469, 'february': 1470, '88039': 1471, 'skilgme': 1472, 'all': 1473, 'leg': 1474, \"did't\": 1475, 'google': 1476, 'map': 1477, 'abi': 1478, 'handset': 1479, 'gram': 1480, 'height': 1481, 'air': 1482, 'yan': 1483, 'jiu': 1484, '786': 1485, 'unredeemed': 1486, '542': 1487, 'expensive': 1488, 'english': 1489, 'cw25wx': 1490, 'i‘m': 1491, 'nvm': 1492, 'scare': 1493, 'brilliant': 1494, 'jordan': 1495, 'vote': 1496, '7th': 1497, '6th': 1498, '5th': 1499, 'personality': 1500, 'yuo': 1501, 'tihs': 1502, 'urgnt': 1503, 'textpod': 1504, 'pod': 1505, 'closed': 1506, '21': 1507, 'social': 1508, 'upset': 1509, 'polyphonic': 1510, 'fullonsms': 1511, '6hrs': 1512, 'mumtaz': 1513, 'pongal': 1514, 'weight': 1515, 'why': 1516, 'bishan': 1517, 'then': 1518, 'wrk': 1519, 'bowl': 1520, 'mummy': 1521, 'stone': 1522, 'com1win150ppmx3age16': 1523, 'outta': 1524, 'unable': 1525, 'connect': 1526, 'voda': 1527, 'ibiza': 1528, '0808': 1529, '145': 1530, '4742': 1531, '9am': 1532, '11pm': 1533, 'choice': 1534, 'ray': 1535, 'txtin': 1536, '4info': 1537, 'simply': 1538, 'december': 1539, '11mths': 1540, '08002986906': 1541, 'hill': 1542, 'indians': 1543, 'appointment': 1544, \"t's\": 1545, '08715705022': 1546, '1x150p': 1547, '62468': 1548, 'intro': 1549, 'sha': 1550, 'ache': 1551, 'cc': 1552, '08718720201': 1553, 'weird': 1554, 'he': 1555, '85023': 1556, 'mite': 1557, 'explain': 1558, 'model': 1559, 'passionate': 1560, '7250i': 1561, 'w1jhl': 1562, 'plane': 1563, 'if': 1564, 'ahead': 1565, 'eerie': 1566, 'zed': 1567, 'track': 1568, 'befor': 1569, 'activity': 1570, 'careful': 1571, 'spk': 1572, 'def': 1573, 'rude': 1574, 'embarasse': 1575, 'partner': 1576, '530': 1577, 'belly': 1578, 'wave': 1579, 'concentrate': 1580, 'career': 1581, 'izzit': 1582, 'jst': 1583, 'flat': 1584, 'cam': 1585, 'skype': 1586, 'mmm': 1587, 'wiv': 1588, 'calls£1': 1589, 'polys': 1590, 'queen': 1591, 'msgrcvdhg': 1592, 'shortly': 1593, 'beg': 1594, '09061221066': 1595, 'fromm': 1596, 'goto': 1597, 'login': 1598, 'wah': 1599, 'idk': 1600, 'brain': 1601, 'step': 1602, 'thursday': 1603, 'surely': 1604, 'perfect': 1605, 'aha': 1606, 'argue': 1607, 'sooner': 1608, 'pc': 1609, 'euro2004': 1610, 'arcade': 1611, 'purchase': 1612, '60p': 1613, 'subscriber': 1614, 'lacs': 1615, 'amt': 1616, 'girlfrnd': 1617, 'h': 1618, 'recd': 1619, 'white': 1620, 'vijay': 1621, 'foot': 1622, 'mt': 1623, 'atm': 1624, 'exactly': 1625, 'aiya': 1626, 'discuss': 1627, 'don\\x92t': 1628, 'diet': 1629, 'sen': 1630, 'moji': 1631, 'bar': 1632, 'anybody': 1633, 'é': 1634, 'url': 1635, 'law': 1636, 'mtmsgrcvd18': 1637, '87575': 1638, 'darling': 1639, 'nyc': 1640, 'spl': 1641, 'stylish': 1642, 'comedy': 1643, 'porn': 1644, 'i\\x92m': 1645, 'ppm': 1646, 'cafe': 1647, '85': 1648, 'inclusive': 1649, 'everybody': 1650, 'jesus': 1651, 'bun': 1652, 'obviously': 1653, 'tyler': 1654, '8552': 1655, 'flights': 1656, 'pron': 1657, 'yogasana': 1658, 'left': 1659, 'happend': 1660, 'santa': 1661, 'wrc': 1662, 'rally': 1663, 'lucozade': 1664, 'pg': 1665, 'grl': 1666, 'accordingly': 1667, 'repeat': 1668, '2u': 1669, 'ron': 1670, 'ranjith': 1671, 'taunton': 1672, 'evn': 1673, 'raji': 1674, 'gravity': 1675, 'carefully': 1676, 'wtf': 1677, 'dance': 1678, 'thm': 1679, 'speed': 1680, 'wn': 1681, 'cn': 1682, 'instantly': 1683, 'its': 1684, 'whenevr': 1685, 'forevr': 1686, 'farm': 1687, 'idiot': 1688, 'june': 1689, 'blackberry': 1690, 'slide': 1691, '300': 1692, 'lock': 1693, 'threat': 1694, 'certainly': 1695, 'note': 1696, 'disconnect': 1697, 'iz': 1698, 'itz': 1699, 'ths': 1700, \"'t\": 1701, 'base': 1702, 'railway': 1703, 'adventure': 1704, 'total': 1705, 'history': 1706, 'luxury': 1707, 'rs': 1708, 'shesil': 1709, 'insha': 1710, 'journey': 1711, 'serve': 1712, 'sorrow': 1713, 'successfully': 1714, 'push': 1715, 'bell': 1716, 'scary': 1717, 'mall': 1718, 'male': 1719, 'staff': 1720, 'malaria': 1721, 'handle': 1722, 'loss': 1723, 'sent': 1724, 'business': 1725, 'virgin': 1726, 'umma': 1727, '123': 1728, 'flake': 1729, 'liverpool': 1730, 'ansr': 1731, 'tyrone': 1732, '87077': 1733, 'arsenal': 1734, '87239': 1735, 'major': 1736, 'pie': 1737, 'response': 1738, 'beware': 1739, 'enuff': 1740, 'flash': 1741, 'effect': 1742, 'cramp': 1743, 'bet': 1744, 'themob': 1745, '84025': 1746, 'yetunde': 1747, 'responsibility': 1748, '09066612661': 1749, 'sender': 1750, 'fool': 1751, 'wise': 1752, 'speechless': 1753, 'chicken': 1754, 'upgrade': 1755, '0207': 1756, 'july': 1757, 'recent': 1758, '1500': 1759, 'shame': 1760, 'blame': 1761, 'bat': 1762, 'inning': 1763, 'here': 1764, 'respect': 1765, 'from': 1766, '2optout': 1767, 'dollar': 1768, 'ws': 1769, '09063458130': 1770, 'polyph': 1771, 'greeting': 1772, 'management': 1773, 'bloody': 1774, 'hint': 1775, '11mth': 1776, 'madam': 1777, 'kindly': 1778, 'master': 1779, 'tree': 1780, '84128': 1781, 'cust': 1782, 'regular': 1783, 'wc1n3xx': 1784, 'sugar': 1785, 'avatar': 1786, 'cornwall': 1787, 'female': 1788, 'preferably': 1789, 'require': 1790, 'fightng': 1791, 'dificult': 1792, 'outstanding': 1793, 'site': 1794, 'skip': 1795, 'soup': 1796, 'a': 1797, 'build': 1798, 'album': 1799, 'the': 1800, 'hon': 1801, 'jan': 1802, 'blake': 1803, 'm26': 1804, '3uz': 1805, 'gorgeous': 1806, 'doin': 1807, 'jen': 1808, 'chechi': 1809, '83600': 1810, 'dearer': 1811, 'ntwk': 1812, '08001950382': 1813, 'drivin': 1814, 'develop': 1815, 'valuable': 1816, '75': 1817, 'homeowner': 1818, 'previously': 1819, '1956669': 1820, 'island': 1821, 'mnth': 1822, 'strike': 1823, 'aiyar': 1824, 'ppl': 1825, 'randomly': 1826, 'jealous': 1827, 'surfing': 1828, 'current': 1829, 'block': 1830, 'wall': 1831, 'hip': 1832, 'chinese': 1833, 'awaiting': 1834, 'earn': 1835, 'display': 1836, 'knackered': 1837, '07xxxxxxxxx': 1838, '09066362231': 1839, 'box97n7qp': 1840, 'points': 1841, '45239': 1842, 'lip': 1843, 'penny': 1844, 'arrest': 1845, 'ese': 1846, 'public': 1847, 'govt': 1848, 'instituition': 1849, 'doing': 1850, 'parking': 1851, 'slice': 1852, 'voicemail': 1853, 'xavier': 1854, 'nichols': 1855, 'chill': 1856, 'community': 1857, 'goin': 1858, 'tt': 1859, 'force': 1860, 'cardiff': 1861, 'dearly': 1862, 'pop': 1863, 'drunk': 1864, '1450': 1865, 'thnk': 1866, 'calling': 1867, 'release': 1868, 'math': 1869, 'difference': 1870, 'lick': 1871, 'lonely': 1872, 'talent': 1873, 'shut': 1874, 'pissed': 1875, 'sept': 1876, 'senthil': 1877, 'anyways': 1878, 'escape': 1879, 'pink': 1880, 'wallpaper': 1881, 'calicut': 1882, 'bay': 1883, '87021': 1884, 'seat': 1885, 'carry': 1886, 'studying': 1887, 'fyi': 1888, 'quickly': 1889, 'shove': 1890, 'science': 1891, 'forum': 1892, 'ym': 1893, 'fave': 1894, 'position': 1895, 'ben': 1896, 'distance': 1897, 'violence': 1898, 'flow': 1899, 'avoid': 1900, 'chain': 1901, 'addie': 1902, 'art': 1903, 'valid12hrs': 1904, 'trouble': 1905, 'nearly': 1906, 'horrible': 1907, 'straight': 1908, 'fml': 1909, 'rush': 1910, '2go': 1911, 'did': 1912, 'lounge': 1913, 'thangam': 1914, 'prey': 1915, 'own': 1916, 'oru': 1917, 'minnaminunginte': 1918, 'nurungu': 1919, 'vettam': 1920, 'window': 1921, 'tat': 1922, 'philosophy': 1923, 'rd': 1924, '88600': 1925, 'accidentally': 1926, \"u're\": 1927, 'dresser': 1928, 'china': 1929, 'audition': 1930, 'minut': 1931, 'latr': 1932, 'spook': 1933, \"dsn't\": 1934, 'lik': 1935, 'reality': 1936, 'bloo': 1937, 'giv': 1938, '3d': 1939, 'switch': 1940, 'booty': 1941, 'floor': 1942, 'wa': 1943, '89555': 1944, 'textoperator': 1945, 'shelf': 1946, 'convince': 1947, 'dress': 1948, 'california': 1949, 'an': 1950, 'first': 1951, 'pull': 1952, 'crab': 1953, 'footprint': 1954, 'wet': 1955, 'yummy': 1956, 'sentence': 1957, 'impossible': 1958, 'wisdom': 1959, 'alwys': 1960, 'ubi': 1961, 'prince': 1962, 'apologise': 1963, 've': 1964, 'aunty': 1965, 'feelin': 1966, '82242': 1967, 'sk3': 1968, '8wp': 1969, 'teacher': 1970, '18yrs': 1971, 'allow': 1972, 'u4': 1973, '3qxj9': 1974, '08702840625': 1975, '9ae': 1976, 'str': 1977, 'hahaha': 1978, 'iouri': 1979, 'ma': 1980, 'wedding': 1981, 'callin': 1982, 'thur': 1983, 'atlanta': 1984, 'ful': 1985, 'tog': 1986, 'tscs087147403231winawk': 1987, '50perwksub': 1988, 'setting': 1989, 'gary': 1990, 'kidz': 1991, 'colleagues': 1992, 'crash': 1993, 'euro': 1994, '83222': 1995, 'games': 1996, 'kadeem': 1997, 'butt': 1998, 'loved': 1999, 'flight': 2000, 'sheet': 2001, '08718727870': 2002, '4get': 2003, 'mad': 2004, '125gift': 2005, '80062': 2006, 'generally': 2007, 'dictionary': 2008, 'research': 2009, 're': 2010, '2morrow': 2011, 'please': 2012, 'essential': 2013, 'profit': 2014, 'boring': 2015, 'form': 2016, 'large': 2017, 'ec2a': 2018, 'cat': 2019, 'l': 2020, 'mono': 2021, 'cha': 2022, 'express': 2023, 'geeee': 2024, 'bcum': 2025, 'kettoda': 2026, 'manda': 2027, 'appt': 2028, 'norm': 2029, 'intelligent': 2030, 'afraid': 2031, 'ibhltd': 2032, 'ldnw15h': 2033, '88066': 2034, 'loose': 2035, '80488': 2036, 'headache': 2037, 'maneesha': 2038, 'satisfied': 2039, 'toll': 2040, 'jada': 2041, 'kusruthi': 2042, 'mature': 2043, 'fuckin': 2044, 'welp': 2045, 'stress': 2046, 'ipad': 2047, 'thts': 2048, 'tooth': 2049, 'prospect': 2050, 'prove': 2051, 'germany': 2052, 'lecture': 2053, 'enemy': 2054, 'payment': 2055, 'hostel': 2056, 'it‘s': 2057, 'that‘s': 2058, 'likely': 2059, 'shy': 2060, 'slap': 2061, 'prabha': 2062, 'soryda': 2063, 'sory': 2064, 'yeh': 2065, 'vip': 2066, '81303': 2067, 'constantly': 2068, 'leona': 2069, 'attach': 2070, 'dai': 2071, 'exe': 2072, 'lido': 2073, 'garage': 2074, '80878': 2075, 'apparently': 2076, 'arun': 2077, 'tomarrow': 2078, \"cann't\": 2079, 'cream': 2080, 'chillin': 2081, 'wud': 2082, 'bright': 2083, 'shag': 2084, 'xuhui': 2085, 'teasing': 2086, 'cheat': 2087, 'honeybee': 2088, 'sweetest': 2089, 'laughed': 2090, 'havnt': 2091, 'met': 2092, 'crack': 2093, 'interesting': 2094, 'romantic': 2095, 'morn': 2096, 'system': 2097, 'suggest': 2098, '80182': 2099, '08452810073': 2100, 'matter': 2101, 'missin': 2102, 'guilty': 2103, 'rule': 2104, 'txts': 2105, 'responce': 2106, 'auto': 2107, 'machan': 2108, 'argh': 2109, 'provide': 2110, 'claire': 2111, 'le': 2112, 'possession': 2113, '2moro': 2114, 'stick': 2115, 'fathima': 2116, 'warner': 2117, 'miracle': 2118, 'fan': 2119, 'foreign': 2120, 'stamp': 2121, 'roger': 2122, 'repair': 2123, 'jamster': 2124, 'married': 2125, 'gautham': 2126, 'maintain': 2127, 'membership': 2128, 'shot': 2129, 'wind': 2130, 'captain': 2131, 'blah': 2132, 'and': 2133, 'yor': 2134, 'airport': 2135, 'tick': 2136, 'goal': 2137, 'option': 2138, 'success': 2139, 'jokin': 2140, 'elaborate': 2141, 'proof': 2142, 'gimme': 2143, 'drpd': 2144, 'deeraj': 2145, 'deepak': 2146, '5min': 2147, 'cant': 2148, 'fran': 2149, 'ps': 2150, 'gang': 2151, 'bang': 2152, 'dock': 2153, 'boat': 2154, '07734396839': 2155, 'ibh': 2156, 'nokia6600': 2157, 'valued': 2158, 'evr': 2159, 'tight': 2160, 'oreo': 2161, 'truffle': 2162, 'taxi': 2163, 'cali': 2164, 'cld': 2165, 'wld': 2166, 'prefer': 2167, 'goodo': 2168, 'potato': 2169, 'tortilla': 2170, 'snake': 2171, 'propsd': 2172, 'gv': 2173, 'lv': 2174, 'lttrs': 2175, 'aproach': 2176, 'dt': 2177, 'truck': 2178, 'thy': 2179, 'happily': 2180, '2gthr': 2181, 'drinking': 2182, 'evrydy': 2183, 'strip': 2184, 'successful': 2185, 'juicy': 2186, 'gossip': 2187, 'funk': 2188, 'tones2u': 2189, 'infront': 2190, 'practical': 2191, 'buyer': 2192, '4a': 2193, 'deliveredtomorrow': 2194, 'furniture': 2195, 'executive': 2196, 'complaint': 2197, 'cope': 2198, 'individual': 2199, 'monkey': 2200, 'terrorist': 2201, 'confirmd': 2202, 'cnn': 2203, 'ibn': 2204, 'ias': 2205, 'cashto': 2206, '08000407165': 2207, 'getstop': 2208, '88222': 2209, 'php': 2210, 'pickle': 2211, 'addict': 2212, 'msging': 2213, 'addicted': 2214, 'flaky': 2215, '08712402050': 2216, '10ppm': 2217, 'ag': 2218, 'promo': 2219, 'prolly': 2220, 'stranger': 2221, 'comfort': 2222, 'onion': 2223, 'petrol': 2224, '4882': 2225, '09064019014': 2226, '\\x96': 2227, 'hppnss': 2228, 'goodfriend': 2229, 'refill': 2230, 'inr': 2231, 'keralacircle': 2232, 'prepaid': 2233, 'kr': 2234, 'edge': 2235, '12mths': 2236, 'reminder': 2237, 'postcode': 2238, 'tank': 2239, 'divorce': 2240, 'sumthin': 2241, '08709222922': 2242, '5p': 2243, '8p': 2244, 'peak': 2245, 'placement': 2246, 'replace': 2247, 'temp': 2248, 'limit': 2249, 'east': 2250, 'shore': 2251, 'takin': 2252, '7250': 2253, 'vava': 2254, 'ph': 2255, 'forgive': 2256, 'hex': 2257, 'british': 2258, 'dial': 2259, 'sw73ss': 2260, 'name1': 2261, 'name2': 2262, 'mobno': 2263, 'adam': 2264, '07123456789': 2265, 'txtno': 2266, 'removal': 2267, '08708034412': 2268, '2waxsto': 2269, 'occupy': 2270, 'hamster': 2271, 'wipro': 2272, 'sinco': 2273, 'payee': 2274, 'icicibank': 2275, 'fraud': 2276, 'disclose': 2277, '930': 2278, 'stalk': 2279, 'strange': 2280, 'permission': 2281, 'birth': 2282, 'control': 2283, 'massive': 2284, 'woulda': 2285, '54': 2286, 'sian': 2287, 'eastender': 2288, 'dot': 2289, 'compare': 2290, 'violet': 2291, 'tulip': 2292, 'lily': 2293, 'wkent': 2294, '150p16': 2295, 'period': 2296, 'hol': 2297, 'last': 2298, 'soul': 2299, 'flame': 2300, 'grave': 2301, 'edison': 2302, 'rightly': 2303, 'viva': 2304, 'gnt': 2305, 'rice': 2306, 'slp': 2307, 'muah': 2308, 'tool': 2309, 'fit': 2310, 'terrible': 2311, 'survey': 2312, '153': 2313, '26th': 2314, 'innocent': 2315, '09066364589': 2316, 'pennsylvania': 2317, 'sum': 2318, 'james': 2319, 'gamestar': 2320, 'active': 2321, '250k': 2322, '88088': 2323, 'spoon': 2324, 'whatsup': 2325, 'taylor': 2326, 'cookie': 2327, 'superb': 2328, 'shocking': 2329, 'goodmorne': 2330, 'guys': 2331, 'jess': 2332, 'costume': 2333, 'freefone': 2334, '2stoptxt': 2335, 'rgds': 2336, 'challenge': 2337, 'musthu': 2338, 'men': 2339, '13': 2340, 'loxahatchee': 2341, 'textcomp': 2342, 'aka': 2343, 'pap': 2344, '3650': 2345, '09066382422': 2346, '300603': 2347, 'bcm4284': 2348, 'capital': 2349, 'curious': 2350, 'anthony': 2351, 'fee': 2352, 'continue': 2353, 'x49': 2354, '09065989182': 2355, 'duchess': 2356, '008704050406': 2357, 'lil': 2358, 'wiskey': 2359, 'brandy': 2360, 'rum': 2361, 'gin': 2362, 'vodka': 2363, 'scotch': 2364, 'shampain': 2365, 'kudi': 2366, 'yarasu': 2367, 'dhina': 2368, 'vaazhthukkal': 2369, 'approx': 2370, 'ideal': 2371, 'txt82228': 2372, 'citizen': 2373, 'doubt': 2374, 'telly': 2375, '08718726270': 2376, '15': 2377, 'swoop': 2378, 'gender': 2379, 'bread': 2380, 'ow': 2381, 'easter': 2382, '29': 2383, 'necklace': 2384, 'garbage': 2385, 'snowman': 2386, 'bein': 2387, 'thot': 2388, 'lab': 2389, 'becoz': 2390, 'whn': 2391, 'ofice': 2392, 'k52': 2393, 'normally': 2394, 'huge': 2395, '674': 2396, '80086': 2397, 'txttowin': 2398, 'deus': 2399, 'call09050000327': 2400, 'av': 2401, 'dedicated': 2402, 'dedicate': 2403, 'traffic': 2404, 'callback': 2405, 'japanese': 2406, 'proverb': 2407, 'quiet': 2408, 'helen': 2409, 'complain': 2410, 'scold': 2411, '09061744553': 2412, 'polyh': 2413, 'polo': 2414, '373': 2415, 'w1j': 2416, '6hl': 2417, 'again': 2418, 'market': 2419, 'tape': 2420, 'selection': 2421, '33': 2422, 'clearly': 2423, 'hubby': 2424, 'anniversary': 2425, 'okey': 2426, 'i‘ll': 2427, 'format': 2428, 'goodnoon': 2429, '0871': 2430, 'box95qu': 2431, 'bluff': 2432, 'chart': 2433, 'actor': 2434, 'unemployed': 2435, 'eighth': 2436, 'birla': 2437, 'soft': 2438, 'smiling': 2439, 'alive': 2440, 'breathe': 2441, 'parco': 2442, 'nb': 2443, '1030': 2444, 'tmrw': 2445, '07742676969': 2446, '08719180248': 2447, '0825': 2448, 'trade': 2449, 'royal': 2450, 'applebees': 2451, 'steal': 2452, 'jean': 2453, 'silently': 2454, 'dave': 2455, '09061743806': 2456, 'box326': 2457, 'ball': 2458, 'shld': 2459, 'his': 2460, 'gardener': 2461, 'vegetable': 2462, 'children': 2463, 'neighbour': 2464, 'nydc': 2465, 'ey': 2466, 'calm': 2467, 'up4': 2468, 'konw': 2469, 'waht': 2470, 'rael': 2471, 'gve': 2472, 'exmpel': 2473, 'jsut': 2474, 'evrey': 2475, 'spllee': 2476, 'wrnog': 2477, 'sitll': 2478, 'raed': 2479, 'wihtuot': 2480, 'ayn': 2481, 'mitsake': 2482, 'dreams': 2483, 'mental': 2484, 'ability': 2485, 'tirupur': 2486, '09061702893': 2487, 'dislike': 2488, 'galileo': 2489, 'joanna': 2490, 'anti': 2491, 'behave': 2492, 'fret': 2493, 'ovulation': 2494, 'pool': 2495, 'plaza': 2496, '08719181513': 2497, 'warn': 2498, 'mahal': 2499, 'symbol': 2500, 'shahjahan': 2501, 'husband': 2502, 'remembr': 2503, 'falling': 2504, 'smeone': 2505, 'thgt': 2506, '09058091854': 2507, 'box385': 2508, 'm6': 2509, '6wu': 2510, 'dobby': 2511, '0578': 2512, 'jason': 2513, 'dating': 2514, 'bristol': 2515, 'jane': 2516, 'lst': 2517, 'upstairs': 2518, 'dine': 2519, 'congratulations': 2520, '09050002311': 2521, 'b4280703': 2522, '08718727868': 2523, 'iscoming': 2524, 'tnc': 2525, 'lyk': 2526, 'mouth': 2527, 'rcv': 2528, 'hardcore': 2529, 'drunken': 2530, 'supervisor': 2531, 'heater': 2532, 'degree': 2533, 'owe': 2534, 'mag': 2535, 'hsbc': 2536, 'propose': 2537, 'whats': 2538, 'somtime': 2539, 'christ': 2540, 'premium': 2541, 'supply': 2542, 'hyde': 2543, 'nok': 2544, 'poem': 2545, 'fear': 2546, 'geeeee': 2547, 'lifetime': 2548, 'sigh': 2549, 'creep': 2550, 'piece': 2551, 'tip': 2552, 'loud': 2553, 'belong': 2554, 'spring': 2555, 'wishin': 2556, 'di': 2557, 'accident': 2558, 'chocolate': 2559, 'melt': 2560, 'sunlight': 2561, 'tok': 2562, 'exact': 2563, 'replacement': 2564, 'fish': 2565, 'memory': 2566, '1250': 2567, '09071512433': 2568, '050703': 2569, 'csbcm4235wc1n3xx': 2570, 'callcost': 2571, 'mobilesvary': 2572, 'max£7': 2573, '21st': 2574, 'tm': 2575, 'doggy': 2576, 'er': 2577, 'enjoyin': 2578, 'yck': 2579, 'diff': 2580, '910': 2581, 'suffer': 2582, 'silence': 2583, 'panic': 2584, 'weigh': 2585, 'oi': 2586, '09050001808': 2587, 'm95': 2588, 'missed': 2589, 'slip': 2590, '09': 2591, 'convincing': 2592, 'habit': 2593, 'nan': 2594, 'w1': 2595, 'smash': 2596, 'reasonable': 2597, 'cheers': 2598, 'loveme': 2599, 'xxxxx': 2600, 'sac': 2601, 'odi': 2602, '08717898035': 2603, 'cherish': 2604, 'necessarily': 2605, 'headin': 2606, 'unnecessarily': 2607, 'hardly': 2608, 'jolt': 2609, 'hallaq': 2610, 'potential': 2611, 'rose': 2612, 'en': 2613, 'celeb': 2614, 'pocketbabe': 2615, '2morro': 2616, 'm263uz': 2617, 'aeronautics': 2618, 'professor': 2619, 'calld': 2620, 'aeroplane': 2621, 'hurried': 2622, 'said': 2623, 'datz': 2624, '2find': 2625, 'inconsiderate': 2626, 'nag': 2627, 'recession': 2628, 'halloween': 2629, 'soiree': 2630, 'unbelievable': 2631, 'evry': 2632, 'castor': 2633, 'apart': 2634, 'tlk': 2635, 'petey': 2636, 'am': 2637, 'sip': 2638, 'cappuccino': 2639, '08000776320': 2640, 'in2': 2641, '09066358152': 2642, 'prompt': 2643, 'after': 2644, 'otside': 2645, 'congrats': 2646, '09058094599': 2647, 'sachin': 2648, 'crisis': 2649, 'gudnite': 2650, 'sue': 2651, 'paint': 2652, 'dick': 2653, 'university': 2654, 'nasty': 2655, 'slo': 2656, 'ericsson': 2657, 'fab': 2658, 'hols': 2659, 'tms': 2660, 'widelive': 2661, 'index': 2662, 'wml': 2663, 'nervous': 2664, 'birthdate': 2665, 'calculation': 2666, 'alcohol': 2667, 'cruise': 2668, 'respectful': 2669, 'mmmm': 2670, 'fair': 2671, 'weakness': 2672, 'knee': 2673, 'expose': 2674, 'ikea': 2675, 'mess': 2676, 'pilate': 2677, 'educational': 2678, '09066364311': 2679, '22': 2680, '65': 2681, 'tech': 2682, 'dare': 2683, 'faggy': 2684, 'involve': 2685, 'won': 2686, '4mths': 2687, 'mobilesdirect': 2688, '08000938767': 2689, 'or2stoptxt': 2690, 'going': 2691, 'restaurant': 2692, 'msg150p': 2693, '2rcv': 2694, 'hlp': 2695, '08712317606': 2696, 'kz': 2697, 'ultimatum': 2698, 'countin': 2699, 'aburo': 2700, 'wkg': 2701, 'roast': 2702, '09061221061': 2703, '28days': 2704, 'box177': 2705, 'm221bp': 2706, '2yr': 2707, 'warranty': 2708, 'p£3': 2709, '99': 2710, 'mountain': 2711, 'conduct': 2712, 'neway': 2713, '0776xxxxxxx': 2714, 'plm': 2715, 'ground': 2716, 'durban': 2717, '220': 2718, 'cm2': 2719, 'secretly': 2720, 'datebox1282essexcm61xn': 2721, 'bloomberg': 2722, 'center': 2723, 'nic': 2724, 'chg': 2725, 'luvs': 2726, 'epsilon': 2727, 'sweetie': 2728, 'ruin': 2729, 'ashley': 2730, 'recharge': 2731, 'american': 2732, 'filthy': 2733, 'makin': 2734, 'bbd': 2735, 'pimple': 2736, 'living': 2737, 'laughing': 2738, 'tooo': 2739, 'buzy': 2740, '9ja': 2741, 'tissco': 2742, 'tayseer': 2743, 'rumour': 2744, 'mornin': 2745, 'ptbo': 2746, 'wate': 2747, 'tlp': 2748, 'kickoff': 2749, 'sooooo': 2750, '0': 2751, 'wifi': 2752, 'interest': 2753, 'freedom': 2754, 'constant': 2755, 'nat': 2756, 'europe': 2757, 'aww': 2758, 'breath': 2759, 'planet': 2760, 'curry': 2761, 'bmw': 2762, 'urgently': 2763, 'shortage': 2764, 'source': 2765, 'arng': 2766, 'nitro': 2767, 'subpoly': 2768, '81618': 2769, 'storm': 2770, 'phne': 2771, 'wt': 2772, 'margaret': 2773, 'grahmbell': 2774, 'invnte': 2775, 'telphone': 2776, 'brah': 2777, '09065174042': 2778, '07821230901': 2779, 'event': 2780, 'throat': 2781, 'impatient': 2782, 'incident': 2783, 'software': 2784, 'pende': 2785, 'juan': 2786, 'lov': 2787, 'jaya': 2788, 'rub': 2789, 'ny': 2790, 'l8tr': 2791, 'confuse': 2792, 'soo': 2793, 'motivate': 2794, 'refund': 2795, 'can': 2796, 'gods': 2797, 'theme': 2798, 'topic': 2799, 'pouch': 2800, 'dough': 2801, 'mojibiola': 2802, 'alfie': 2803, 'm8s': 2804, '08701417012': 2805, 'easily': 2806, 'length': 2807, 'xam': 2808, 'salon': 2809, 'clark': 2810, 'utter': 2811, 'nus': 2812, 'tension': 2813, 'any': 2814, '31p': 2815, 'nothing': 2816, 'donate': 2817, 'it\\x92s': 2818, 'thurs': 2819, '121': 2820, '09094646899': 2821, 'vu': 2822, 'bcm1896wc1n3xx': 2823, 'bedrm': 2824, 'sleepin': 2825, 'clever': 2826, 'charles': 2827, 'nalla': 2828, 'grace': 2829, 'measure': 2830, 'fal': 2831, 'vth': 2832, 'eveb': 2833, 'jog': 2834, 'lousy': 2835, \"can't\": 2836, 'flip': 2837, 'lotta': 2838, 'lately': 2839, 'understanding': 2840, 'kappa': 2841, 'boyfriend': 2842, 'driver': 2843, 'rem': 2844, 'caring': 2845, '08700621170150p': 2846, '1hr': 2847, 'csh11': 2848, '6days': 2849, 'tsandcs': 2850, 'grandma': 2851, 'canary': 2852, 'islands': 2853, 'fa': 2854, 'tkts': 2855, '87121': 2856, 'ee': 2857, 'count': 2858, 'celebration': 2859, 'premier': 2860, 'death': 2861, 'outage': 2862, 'recognise': 2863, 'confused': 2864, 'thanks': 2865, 'august': 2866, 'lost': 2867, 'mila': 2868, 'age23': 2869, 'blonde': 2870, 'mtalk': 2871, '69866': 2872, '30pp': 2873, '5free': 2874, 'increment': 2875, 'help08718728876': 2876, 'spoil': 2877, 'xxxmobilemovieclub': 2878, '83383': 2879, 'dubsack': 2880, 'module': 2881, 'infection': 2882, 'bone': 2883, 'prof': 2884, 'scotland': 2885, 'hm': 2886, 'property': 2887, 'commercial': 2888, 'genuine': 2889, '100percent': 2890, 'bruce': 2891, 'boys': 2892, '24hrs': 2893, 'wylie': 2894, 'properly': 2895, 'legal': 2896, 'whr': 2897, 'status': 2898, 'asp': 2899, '09066350750': 2900, 'lookatme': 2901, 'penis': 2902, '600': 2903, 'telugu': 2904, 'dumb': 2905, 'bec': 2906, 'dhoni': 2907, 'receivea': 2908, '09061701461': 2909, 'kl341': 2910, 'abj': 2911, 'driving': 2912, 'tablet': 2913, 'tscs': 2914, 'idew': 2915, 'skillgame': 2916, '1winaweek': 2917, '150ppermesssubscription': 2918, '0844': 2919, '861': 2920, 'prepayment': 2921, 'toa': 2922, 'payoh': 2923, 'cough': 2924, 'error': 2925, 'correction': 2926, 'planning': 2927, 'devour': 2928, 'belovd': 2929, 'bck': 2930, 'dan': 2931, 'networking': 2932, 'action': 2933, 'ive': 2934, 'hrishi': 2935, 'rofl': 2936, 'anna': 2937, 'nagar': 2938, 'pan': 2939, 'application': 2940, 'loyal': 2941, '09066380611': 2942, 'field': 2943, 'misbehave': 2944, 'rstm': 2945, 'sw7': 2946, '3ss': 2947, 'concert': 2948, 'explicit': 2949, 'secs': 2950, '02073162414': 2951, 'dippeditinadew': 2952, 'lovingly': 2953, 'itwhichturnedinto': 2954, 'tomeandsaid': 2955, '69698': 2956, 'andre': 2957, 'pandy': 2958, '2007': 2959, 'pre': 2960, 'suntec': 2961, 'mel': 2962, 'admin': 2963, 'building': 2964, 'slightly': 2965, 'pt2': 2966, 'suggestion': 2967, 'previous': 2968, 'apo': 2969, 'cast': 2970, 'yunny': 2971, 'faster': 2972, 'sleepy': 2973, 'airtel': 2974, 'belive': 2975, 'pobox45w2tg150p': 2976, 'randy': 2977, 'lion': 2978, 'instal': 2979, '09061209465': 2980, 'suprman': 2981, 'matrix3': 2982, 'starwars3': 2983, 'pilates': 2984, 'nd': 2985, '09050003091': 2986, 'c52': 2987, 'reboot': 2988, 'surprised': 2989, 'poker': 2990, 'prescription': 2991, 'drinkin': 2992, 'specific': 2993, 'didn‘t': 2994, 'approve': 2995, 'ummmmmaah': 2996, 'subscribe': 2997, '26': 2998, 'stretch': 2999, 'submit': 3000, 'still': 3001, 'radio': 3002, 'color': 3003, 'beneath': 3004, 'pale': 3005, 'goodnite': 3006, 'swatch': 3007, 'program': 3008, 'thx': 3009, 'inshah': 3010, 'apps': 3011, 'jerry': 3012, 'partnership': 3013, 'protect': 3014, 'sib': 3015, 'sensitive': 3016, 'passwords': 3017, '447801259231': 3018, '09058094597': 3019, 'andro': 3020, 'snog': 3021, 'cousin': 3022, 'blur': 3023, 'amy': 3024, '01223585334': 3025, '2c': 3026, '2end': 3027, 'dracula': 3028, 'ghost': 3029, 'addamsfa': 3030, 'munsters': 3031, 'exorcist': 3032, 'twilight': 3033, 'lush': 3034, 'jsco': 3035, 'cochin': 3036, 'linerental': 3037, 'indyarocks': 3038, 'deposit': 3039, 'election': 3040, 'tee': 3041, 'acl03530150pm': 3042, 'oooh': 3043, 'oil': 3044, 'diamond': 3045, 'rich': 3046, 'discreet': 3047, 'lions': 3048, 'lionm': 3049, 'lionp': 3050, 'transfr': 3051, 'mix': 3052, 'gr8prizes': 3053, 'screen': 3054, 'gently': 3055, 'steam': 3056, 'pee': 3057, 'ola': 3058, 'sacrifice': 3059, 'that\\x92s': 3060, 'recovery': 3061, 'karaoke': 3062, 'smith': 3063, 'instruction': 3064, 'messy': 3065, 'lux': 3066, 'uh': 3067, 'uks': 3068, 'electricity': 3069, 'sore': 3070, '7ish': 3071, 'dealer': 3072, 'suzy': 3073, 'bleh': 3074, '169': 3075, '6031': 3076, '9pm': 3077, '27': 3078, 'spare': 3079, 'tomorro': 3080, 'watever': 3081, 'atlast': 3082, 'knows': 3083, 'everyday': 3084, 'item': 3085, '2marrow': 3086, 'beauty': 3087, 'crap': 3088, 'borin': 3089, 'audrey': 3090, 'mesage': 3091, 'nuther': 3092, 'ic': 3093, 'theory': 3094, '61610': 3095, '08712400602450p': 3096, 'tones2you': 3097, 'delhi': 3098, '08002986030': 3099, 'invest': 3100, 'sathya': 3101, 'ls15hb': 3102, 'hor': 3103, 'mokka': 3104, 'nos': 3105, 'salam': 3106, 'visitor': 3107, '61200': 3108, 'itcould': 3109, 'admit': 3110, 'bootydelious': 3111, 'fo': 3112, 'taco': 3113, 'top': 3114, '0871277810810': 3115, 'despite': 3116, 'waheed': 3117, 'size': 3118, 'reg': 3119, 'maga': 3120, 'natural': 3121, 'massage': 3122, 'oic': 3123, 'seven': 3124, 'anythin': 3125, 'incredible': 3126, 'o2fwd': 3127, '18p': 3128, 'mmmmm': 3129, 'expression': 3130, 'mile': 3131, 'raj': 3132, 'g696ga': 3133, 'gf': 3134, 'compromise': 3135, \"ü'll\": 3136, '440': 3137, 'nokia6650': 3138, '4t': 3139, 'ctxt': 3140, 'mtmsg': 3141, '09061790121': 3142, 'minmobsmorelkpobox177hp51fl': 3143, 'channel': 3144, 'goldvike': 3145, '762': 3146, 'necessary': 3147, 'foley': 3148, '82050': 3149, 'buffet': 3150, 'thesis': 3151, 'wks': 3152, 'erm': 3153, 'batch': 3154, 'superior': 3155, 'messenger': 3156, 'patty': 3157, 'pen': 3158, 'reckon': 3159, 'transport': 3160, 'sufficient': 3161, 'nahi': 3162, 'zindgi': 3163, 'wo': 3164, 'jo': 3165, 'profile': 3166, 'jacket': 3167, 'nowadays': 3168, 'brief': 3169, 'helloooo': 3170, 'os': 3171, 'minmoremobsemspobox45po139wa': 3172, 'benefit': 3173, 'laundry': 3174, 'clothe': 3175, 'mystery': 3176, 'sry': 3177, 'lucy': 3178, '89070': 3179, 'lane': 3180, '21870000': 3181, 'mailbox': 3182, 'messaging': 3183, '09056242159': 3184, 'retrieve': 3185, 'popcorn': 3186, 'annie': 3187, 'diwali': 3188, 'agent': 3189, 'just': 3190, 'thousand': 3191, '700': 3192, 'definite': 3193, 'magical': 3194, 'fav': 3195, 'dentist': 3196, 'painful': 3197, 'edu': 3198, 'minor': 3199, 'brothas': 3200, 'sack': 3201, 'esplanade': 3202, 'sh': 3203, 'jas': 3204, 'woot': 3205, 'wee': 3206, 'macho': 3207, 'tag': 3208, 'approach': 3209, 'ganesh': 3210, 'range': 3211, 'ref': 3212, 'pattern': 3213, 'administrator': 3214, 'hows': 3215, 'taste': 3216, 'picsfree1': 3217, '4fil': 3218, 'dime': 3219, 'kiosk': 3220, 'ms': 3221, 'bottle': 3222, 'rhythm': 3223, 'starve': 3224, 'puttin': 3225, 'ton': 3226, 'middle': 3227, 'abta': 3228, '326': 3229, 'cashbin': 3230, 'eta': 3231, 'path': 3232, 'blind': 3233, 'gold': 3234, 'agalla': 3235, 'steve': 3236, 'fringe': 3237, 'vewy': 3238, 'waitin': 3239, 'vegas': 3240, 'shipping': 3241, 'denis': 3242, 'schedule': 3243, 'creepy': 3244, 'henry': 3245, 'vivek': 3246, 'usc': 3247, 'depressed': 3248, 'aom': 3249, 'renewal': 3250, 'dining': 3251, 'interflora': 3252, 'peace': 3253, 'thanksgiving': 3254, '2p': 3255, 'spider': 3256, 'shoe': 3257, 'bahamas': 3258, 'swiss': 3259, 'crore': 3260, 'politician': 3261, 'favorite': 3262, 'sucker': 3263, 'oxygen': 3264, 'resort': 3265, 'roller': 3266, 'perpetual': 3267, 'dd': 3268, 'safety': 3269, 'aspect': 3270, 'command': 3271, 'dileep': 3272, 'muchand': 3273, 'venugopal': 3274, 'mentioned': 3275, 'creative': 3276, 'rdy': 3277, 'breathe1': 3278, 'crazyin': 3279, 'sleepingwith': 3280, 'finest': 3281, 'ymca': 3282, 'pobox365o4w45wq': 3283, '300p': 3284, 'ding': 3285, 'tai': 3286, 'feng': 3287, 'reservation': 3288, 'univ': 3289, '15pm': 3290, 'yellow': 3291, 'anal': 3292, 'roll': 3293, 'newscaster': 3294, 'dabble': 3295, 'flute': 3296, 'wheel': 3297, 'reache': 3298, 'level': 3299, 'we‘ll': 3300, 'unlike': 3301, 'patient': 3302, 'turkey': 3303, 'neft': 3304, 'beneficiary': 3305, 'computerless': 3306, 'ing': 3307, 'complexity': 3308, 'freely': 3309, 'taxis': 3310, 'outrageous': 3311, 'nosh': 3312, '8077': 3313, 'ratio': 3314, 'arngd': 3315, 'walkin': 3316, 'unfortuntly': 3317, 'frnt': 3318, 'sayin': 3319, 'aptitude': 3320, 'spirit': 3321, 'kit': 3322, '1013': 3323, 'ig11': 3324, 'oja': 3325, 'ashwini': 3326, 'fring': 3327, 'hero': 3328, 'apt': 3329, 'merely': 3330, 'relationship': 3331, 'wherevr': 3332, 'gudnyt': 3333, 'lul': 3334, 'nurse': 3335, 'obese': 3336, 'oyea': 3337, 'scratch': 3338, 'button': 3339, 'freinds': 3340, 'breather': 3341, 'grant': 3342, 'fulfil': 3343, 'jenne': 3344, 'shifad': 3345, 'wavere': 3346, 'heal': 3347, 'pant': 3348, 'invention': 3349, 'mylife': 3350, 'overtime': 3351, 'nigpun': 3352, 'girlie': 3353, 'disappointment': 3354, 'aslamalaikkum': 3355, 'tohar': 3356, 'beeen': 3357, 'muht': 3358, 'albi': 3359, 'mufti': 3360, 'mahfuuz': 3361, '1mega': 3362, 'pixel': 3363, '3optical': 3364, '5digital': 3365, 'doom': 3366, 'next': 3367, 'gower': 3368, 'wales': 3369, '\\x91morrow': 3370, 'temale': 3371, 'relaxing': 3372, '5ish': 3373, 'wikipedia': 3374, 'timin': 3375, 'passport': 3376, 'poorly': 3377, 'punishment': 3378, 'brb': 3379, 'underdtand': 3380, '400mins': 3381, 'j5q': 3382, 'view': 3383, 'babes': 3384, 'aint': 3385, 'saw': 3386, 'on': 3387, 'amrita': 3388, 'gastroenteritis': 3389, 'reduce': 3390, 'illness': 3391, 'coast': 3392, 'sumfing': 3393, 'hen': 3394, 'cheque': 3395, 'comingdown': 3396, 'animal': 3397, 'alertfrom': 3398, 'jeri': 3399, 'stewartsize': 3400, '2kbsubject': 3401, 'prescripiton': 3402, 'drvgsto': 3403, 'faggot': 3404, 'jb': 3405, 'tix': 3406, 'passable': 3407, 'phd': 3408, '5years': 3409, 'diesel': 3410, 'onum': 3411, 'ela': 3412, 'prix': 3413, 'haunt': 3414, 'promote': 3415, 'by': 3416, 'bx526': 3417, 'dartboard': 3418, 'treble': 3419, '1172': 3420, 'sickness': 3421, 'suffering': 3422, 'dysentry': 3423, 'powerful': 3424, 'weapon': 3425, 'baig': 3426, 'ambitious': 3427, 'baaaaabe': 3428, 'misss': 3429, 'youuuuu': 3430, 'initiate': 3431, 'yoyyooo': 3432, 'mac': 3433, 'usb': 3434, 'miserable': 3435, 'gut': 3436, 'wrenching': 3437, '6pm': 3438, 'punto': 3439, 'housewife': 3440, '0871750': 3441, '77': 3442, 'grumpy': 3443, 'resubmit': 3444, 'expiry': 3445, 'complementary': 3446, 'wa14': 3447, '2px': 3448, 'spark': 3449, 'rawring': 3450, 'xoxo': 3451, 'horse': 3452, 'racing': 3453, 'ooooooh': 3454, 'yoville': 3455, \"carlos'll\": 3456, \"didn't\": 3457, 'rupaul': 3458, '80160': 3459, 'txt43': 3460, 'upgrdcentre': 3461, '9153': 3462, 'minimum': 3463, '3miles': 3464, 'maangalyam': 3465, 'alaipayuthe': 3466, 'equally': 3467, 'uneventful': 3468, 'pesky': 3469, 'cyclist': 3470, 'neshanth': 3471, '08714712394': 3472, 'lanre': 3473, 'fakeye': 3474, 'eckankar': 3475, '44': 3476, '7732584351': 3477, 'jon': 3478, 'spain': 3479, 'dinero': 3480, '\\x91rents': 3481, '000pe': 3482, '48': 3483, '09058094454': 3484, 'smokin': 3485, 'msge': 3486, 'pending': 3487, 'maggi': 3488, 'mee': 3489, 'elama': 3490, 'mudyadhu': 3491, 'natw': 3492, 'fundamental': 3493, 'backwards': 3494, 'stressful': 3495, 'win150ppmx3age16': 3496, 'spiffe': 3497, 'workage': 3498, 'mobiles': 3499, '89545': 3500, '087187262701': 3501, '50gbp': 3502, 'mtmsg18': 3503, 'jelly': 3504, 'grateful': 3505, 'engagement': 3506, 'fixd': 3507, 'njan': 3508, 'vilikkam': 3509, 'sudn': 3510, 'ga': 3511, 'apologetic': 3512, 'actin': 3513, 'spoilt': 3514, 'badly': 3515, '09061701939': 3516, 's89': 3517, 'dolls': 3518, 'patrick': 3519, 'swayze': 3520, 'also': 3521, 'ortxt': 3522, 'grab': 3523, 'yowife': 3524, '28th': 3525, 'oranges': 3526, 'upd8': 3527, 'disturbance': 3528, 'might': 3529, 'dlf': 3530, 'premarica': 3531, 'gsoh': 3532, 'spam': 3533, 'ladies': 3534, 'gigolo': 3535, 'oncall': 3536, 'mjzgroup': 3537, '08714342399': 3538, '2stop': 3539, '50rcvd': 3540, '08715203685': 3541, '4xx26': 3542, 'freezing': 3543, 'resubbe': 3544, 'checkup': 3545, 'smear': 3546, 'recorder': 3547, 'canname': 3548, 'australia': 3549, 'mquiz': 3550, 'li': 3551, 'lecturer': 3552, 'ouch': 3553, 'section': 3554, 'loosu': 3555, 'careless': 3556, 'subtoitle': 3557, '08712402902': 3558, 'progress': 3559, 'txtstar': 3560, 'jot': 3561, 'occasion': 3562, 'reflection': 3563, 'desire': 3564, 'traditions': 3565, 'slurp': 3566, 'text82228': 3567, 'hu': 3568, 'navigate': 3569, 'guidance': 3570, 'gam': 3571, 'uworld': 3572, 'qbank': 3573, 'assessment': 3574, 'toshiba': 3575, 'portege': 3576, 'm100': 3577, 'engalnd': 3578, 'mia': 3579, 'elliot': 3580, 'bathing': 3581, 'msgrcvd': 3582, 'customercare': 3583, 'chickene': 3584, 'woould': 3585, 'sized': 3586, 'burger': 3587, 'mandy': 3588, 'sullivan': 3589, 'hotmix': 3590, 'fm': 3591, 'telephone': 3592, '09041940223': 3593, 'combine': 3594, 'part': 3595, 'gentleman': 3596, 'dignity': 3597, 'jod': 3598, 'revision': 3599, 'keris': 3600, 'smidgin': 3601, 'back': 3602, 'token': 3603, 'liking': 3604, 'jam': 3605, 'hannaford': 3606, 'wheat': 3607, 'chex': 3608, 'fridge': 3609, 'keen': 3610, 'angel': 3611, 'snowball': 3612, 'fondly': 3613, 'oga': 3614, 'como': 3615, 'listened2the': 3616, 'plaid': 3617, 'air1': 3618, 'hilarious': 3619, 'bought\\x94braindance\\x94a': 3620, 'ofstuff': 3621, 'aphex\\x92s': 3622, 'abel': 3623, 'hav2hear': 3624, 'duffer': 3625, 'gent': 3626, '09064012160': 3627, '2u2': 3628, 'surf': 3629, 'adewale': 3630, 'egbon': 3631, 'abbey': 3632, 'least5times': 3633, \"wudn't\": 3634, '9061100010': 3635, 'wire3': 3636, '1st4term': 3637, 'mobcudb': 3638, 'werethe': 3639, 'monkeespeople': 3640, 'monkeyaround': 3641, 'howdy': 3642, 'howu': 3643, 'foundurself': 3644, 'jobyet': 3645, 'sausage': 3646, 'wahala': 3647, 'wan2': 3648, 'westlife': 3649, 'm8': 3650, 'unbreakable': 3651, 'untamed': 3652, 'unkempt': 3653, '83049': 3654, 'lib': 3655, 'gloucesterroad': 3656, 'uup': 3657, 'uptown': 3658, '80': 3659, 'tallent': 3660, 'excite': 3661, 'hme': 3662, 'victoria': 3663, 'beth': 3664, 'charlie': 3665, 'prasanth': 3666, 'ettans': 3667, 'asus': 3668, 'reformat': 3669, 'uniform': 3670, 'syllabus': 3671, 'evo': 3672, 'err': 3673, 'tscs08714740323': 3674, '1winawk': 3675, '50perweeksub': 3676, '09050000460': 3677, 'j89': 3678, 'box245c2150pm': 3679, 'atleast': 3680, 'shakespeare': 3681, 'apples': 3682, 'pairs': 3683, 'malarky': 3684, 'garden': 3685, 'bulb': 3686, 'seed': 3687, 'scotsman': 3688, 'go2': 3689, 'notxt': 3690, 'sooo': 3691, 'musta': 3692, 'overdo': 3693, 'sleepwell': 3694, 'dorm': 3695, 'ft': 3696, 'combination': 3697, '30pm': 3698, 'fiting': 3699, 'mj': 3700, 'tarpon': 3701, 'springs': 3702, 'dokey': 3703, 'breaker': 3704, 'deluxe': 3705, 'feature': 3706, 'graphic': 3707, 'bbdeluxe': 3708, 'praveesh': 3709, 'delicious': 3710, 'convert': 3711, '08': 3712, '4719': 3713, '523': 3714, 'are': 3715, 'zoom': 3716, 'gibbs': 3717, 'mike': 3718, 'hussey': 3719, 'tom': 3720, 'mentionned': 3721, 'sindu': 3722, 'recycling': 3723, 'sq825': 3724, 'arrival': 3725, 'dawn': 3726, 'refresh': 3727, 'vill': 3728, 'orc': 3729, 'lark': 3730, 'rimac': 3731, 'sync': 3732, 'shangela': 3733, 'relate': 3734, 'arul': 3735, 'chief': 3736, 'brdget': 3737, 'jones': 3738, 'toilet': 3739, 'cop': 3740, 'muhommad': 3741, 'drm': 3742, 'spin': 3743, 'someday': 3744, 'kaiez': 3745, 'hiphop': 3746, 'wheellock': 3747, 'arnt': 3748, 'xxxxxxxxxxxxxx': 3749, 'looking': 3750, 'downon': 3751, 'theacusations': 3752, 'itxt': 3753, 'iwana': 3754, 'wotu': 3755, 'thew': 3756, 'haventcn': 3757, 'ages': 3758, 'nethe': 3759, 'gage': 3760, 'deck': 3761, 'cnupdates': 3762, 'newsletter': 3763, 'western': 3764, '08718738002': 3765, '48922': 3766, 'opposite': 3767, 'unconscious': 3768, 'abnormally': 3769, 'macha': 3770, 'mindset': 3771, 'postal': 3772, 'bunch': 3773, 'lotto': 3774, 'web2mobile': 3775, 'txt250': 3776, 'box139': 3777, 'la32wu': 3778, 'txtx': 3779, 'mapquest': 3780, 'dogwood': 3781, 'tiny': 3782, 'biola': 3783, 'fne': 3784, 'breadstick': 3785, 'non': 3786, '3000': 3787, 'eviction': 3788, 'spiral': 3789, 'michael': 3790, 'riddance': 3791, 'infact': 3792, 'eld': 3793, 'samantha': 3794, 'guitar': 3795, 'impress': 3796, 'doug': 3797, 'state': 3798, 'anyplace': 3799, '87131': 3800, 'pobox202': 3801, 'nr31': 3802, '7zs': 3803, '450pw': 3804, 'surgical': 3805, 'emergency': 3806, 'unfold': 3807, 'folk': 3808, 'mus': 3809, 'taj': 3810, 'less': 3811, 'arise': 3812, 'hari': 3813, 'jaykwon': 3814, 'thuglyfe': 3815, 'falconerf': 3816, 'singles': 3817, 'wither': 3818, '23f': 3819, '23g': 3820, 'shoppin': 3821, 'gray': 3822, 'listn': 3823, 'watevr': 3824, 'while': 3825, 'clash': 3826, 'hep': 3827, 'immunisation': 3828, 'radiator': 3829, 'brisk': 3830, 'hearin': 3831, 'nearer': 3832, 'loo': 3833, 'ed': 3834, '09064017305': 3835, 'pobox75ldns7': 3836, 'hf8': 3837, 'him': 3838, 'varunnathu': 3839, 'edukkukayee': 3840, 'raksha': 3841, 'ollu': 3842, 'les': 3843, 'rudi': 3844, 'snoring': 3845, 'they': 3846, 'ink': 3847, 'chuck': 3848, 'handsome': 3849, 'hectic': 3850, 'fell': 3851, '125': 3852, 'freeentry': 3853, 'xt': 3854, 'shb': 3855, 'cosign': 3856, 'com1win150ppmx3age16subscription': 3857, 'chapter': 3858, 'versus': 3859, 'footbl': 3860, 'crckt': 3861, 'svc': 3862, '69988': 3863, 'oppose': 3864, 'abroad': 3865, 'xxsp': 3866, 'visionsms': 3867, 'stopcost': 3868, '08712400603': 3869, '7548': 3870, '4041': 3871, '6months': 3872, 'n9dx': 3873, 'thread': 3874, 'drivby': 3875, '0quit': 3876, 'edrunk': 3877, 'iff': 3878, 'pthis': 3879, 'senrd': 3880, 'dnot': 3881, 'dancce': 3882, 'drum': 3883, 'basq': 3884, 'ihave': 3885, '2nhite': 3886, 'ros': 3887, 'xxxxxxx': 3888, 'diaper': 3889, 'we‘re': 3890, '24th': 3891, '09066364349': 3892, 'box434sk38wp150ppm18': 3893, 'yeesh': 3894, 'sorta': 3895, 'probs': 3896, 'doinat': 3897, 'nver': 3898, 'kavalan': 3899, 'withdraw': 3900, 'broth': 3901, 'raman': 3902, 'freaky': 3903, 'holy': 3904, 'forgiven': 3905, 'panther': 3906, 'sugababes': 3907, 'zebra': 3908, 'animation': 3909, 'badass': 3910, 'hoody': 3911, '08714712388': 3912, 'snicker': 3913, 'chord': 3914, 'subs16': 3915, '1win150ppmx3': 3916, 'boye': 3917, 'fade': 3918, 'glory': 3919, 'ralph': 3920, '08712402578': 3921, 'plough': 3922, 'pile': 3923, 'ironing': 3924, 'chinky': 3925, 'westshore': 3926, 'bbq': 3927, '6ish': 3928, 'dislikes': 3929, 'kothi': 3930, 'marandratha': 3931, 'durham': 3932, 'reserved': 3933, 'detroit': 3934, 'headset': 3935, 'adp': 3936, 'rajini': 3937, 'meaningless': 3938, 'virtual': 3939, 'heroes': 3940, 'pics': 3941, 'gyno': 3942, 'shadow': 3943, 'indicate': 3944, 'compensation': 3945, 'prevent': 3946, 'dehydration': 3947, 'fluid': 3948, 'eaten': 3949, 'endowed': 3950, 'vco': 3951, 'doesn\\x92t': 3952, 'jd': 3953, 'accounts': 3954, 'olol': 3955, 'gpu': 3956, 'fifth': 3957, 'woozle': 3958, 'weasel': 3959, 'exeter': 3960, 'hank': 3961, 'lotsly': 3962, 'rgent': 3963, 'kalainar': 3964, 'thenampet': 3965, 'monster': 3966, 'mei': 3967, 'haven': 3968, 'bao': 3969, 'sugardad': 3970, 'shanghai': 3971, 'cya': 3972, 'oral': 3973, 'sall': 3974, 'hehe': 3975, 'shexy': 3976, '08718730555': 3977, '83370': 3978, 'trivia': 3979, 'chillaxin': 3980, 'posh': 3981, 'chap': 3982, 'trial': 3983, 'prod': 3984, 'champney': 3985, 'dob': 3986, 'hunt': 3987, 'nelson': 3988, 'lyricalladie': 3989, 'hmmross': 3990, 'anythie': 3991, 'sez': 3992, 'arab': 3993, 'evry1': 3994, 'eshxxxxxxxxxxx': 3995, 'nevere': 3996, 'becz': 3997, 'undrstndng': 3998, 'guessin': 3999, 'consensus': 4000, 'onwards': 4001, '3230': 4002, 'textbook': 4003, 'algorithms': 4004, 'edition': 4005, 'announce': 4006, 'blog': 4007, 'cheese': 4008, 'chachi': 4009, 'pl': 4010, 'tiz': 4011, 'kanagu': 4012, 'webadre': 4013, '872': 4014, '9755': 4015, 'neglect': 4016, 'ban': 4017, 'bari': 4018, 'hudgi': 4019, 'yorge': 4020, 'pataistha': 4021, 'ertini': 4022, '114': 4023, '14': 4024, 'tcr': 4025, 'dogg': 4026, 'freeze': 4027, 'x29': 4028, '09065989180': 4029, 'bros': 4030, 'religiously': 4031, 'woah': 4032, 'tex': 4033, 'mecause': 4034, 'werebored': 4035, 'okden': 4036, 'uin': 4037, 'sound\\x92s': 4038, 'likeyour': 4039, 'havin': 4040, 'gr8fun': 4041, 'updat': 4042, 'countinlots': 4043, 'closer': 4044, 'hundred': 4045, 'batsman': 4046, 'gauti': 4047, 'sehwag': 4048, 'ax': 4049, 'priya': 4050, 'every1': 4051, 'ava': 4052, 'goodtime': 4053, 'oli': 4054, 'rang': 4055, 'melnite': 4056, 'ifink': 4057, 'sorted': 4058, 'everythin': 4059, 'l8rs': 4060, 'disc': 4061, 'needa': 4062, 'mcat': 4063, 'engin': 4064, 'affectionate': 4065, 'prometazine': 4066, 'syrup': 4067, '5mls': 4068, 'feed': 4069, 'rounder': 4070, 'meive': 4071, 'gotany': 4072, 'possessive': 4073, 'tescos': 4074, 'accidant': 4075, 'tookplace': 4076, 'ghodbandar': 4077, 'slovely': 4078, 'a30': 4079, 'divert': 4080, 'wadebridge': 4081, 'resize': 4082, 'poet': 4083, 'imagination': 4084, 'frndship': 4085, 'significance': 4086, 'howda': 4087, 'mathe': 4088, 'samachara': 4089, 'doesn': 4090, '087016248': 4091, 'mise': 4092, 'resend': 4093, 'selflessness': 4094, 'gnarls': 4095, 'barkleys': 4096, 'ryder': 4097, 'gibb': 4098, 'retard': 4099, 'laready': 4100, 'tmorrow': 4101, 'accomodate': 4102, 'phony': 4103, '3100': 4104, 'footie': 4105, 'phil': 4106, 'neville': 4107, 'smoothly': 4108, 'challenging': 4109, 'tall': 4110, 'chile': 4111, 'sublet': 4112, 'finance': 4113, '08701417012150p': 4114, 'intrepid': 4115, 'duo': 4116, 'faglord': 4117, 'mc': 4118, 'lodge': 4119, 'flavour': 4120, 'emotion': 4121, 'prayrs': 4122, 'othrwise': 4123, 'noi\\x92m': 4124, 'avent': 4125, 'nit': 4126, 'js': 4127, 'juswoke': 4128, 'boatin': 4129, 'slept': 4130, 'spinout': 4131, 'doke': 4132, 'dressed': 4133, 'sary': 4134, 'tim': 4135, 'bollox': 4136, 'tol': 4137, 'wallet': 4138, 'starshine': 4139, 'entrepreneur': 4140, 'blogging': 4141, 'magicalsongs': 4142, 'blogspot': 4143, 'ovulate': 4144, '3wks': 4145, 'impression': 4146, 'imp': 4147, 'hittng': 4148, 'reflex': 4149, 'dammit': 4150, 'uhhhhrmm': 4151, '08702490080': 4152, 'shake': 4153, 'treadmill': 4154, 'working': 4155, 'craigslist': 4156, 'selling': 4157, '2hrs': 4158, 'shade': 4159, 'bhaji': 4160, 'cricketer': 4161, 'very': 4162, 'das': 4163, 'iknow': 4164, 'wellda': 4165, 'peril': 4166, 'studentfinancial': 4167, 'ore': 4168, 'owo': 4169, 'fro': 4170, 'lapdancer': 4171, 'g2': 4172, '1da': 4173, '150ppmsg': 4174, 'carton': 4175, 'ned': 4176, 'witot': 4177, 'main': 4178, 'tirunelvali': 4179, 'stoner': 4180, 'prakesh': 4181, 'southern': 4182, 'filthyguy': 4183, '4msgs': 4184, 'liquor': 4185, 'loko': 4186, '09064019788': 4187, 'box42wr29c': 4188, 'sterm': 4189, 'resolve': 4190, 'young': 4191, 'swimming': 4192, 'jacuzzi': 4193, 'supose': 4194, 'much': 4195, 'babysit': 4196, 'dusk': 4197, 'puzzle': 4198, 'lobby': 4199, '60': 4200, '400thousad': 4201, 'because': 4202, 'remb': 4203, '1b6a5ecef91ff9': 4204, '37819': 4205, 'true18': 4206, '0430': 4207, 'jul': 4208, 'accomodation': 4209, 'cave': 4210, 'embarassing': 4211, '08712103738': 4212, 'method': 4213, 'poyyarikatur': 4214, 'kolathupalayam': 4215, 'unjalur': 4216, 'erode': 4217, 'comprehensive': 4218, 'wicked': 4219, 'fox': 4220, 'frndsship': 4221, 'dwn': 4222, 'bull': 4223, 'float': 4224, 'iron': 4225, 'luckily': 4226, 'saeed': 4227, '09066358361': 4228, 'y87': 4229, 'is': 4230, 'arabian': 4231, 'steed': 4232, 'mmmmmm': 4233, 'mission': 4234, 'shun': 4235, 'bian': 4236, 'glass': 4237, 'exhibition': 4238, 'soooo': 4239, 'provider': 4240, 'tme': 4241, 'dip': 4242, 'alter': 4243, '4qf2': 4244, 'prayer': 4245, '67441233': 4246, 'irene': 4247, 'ere': 4248, 'bus8': 4249, '61': 4250, '66': 4251, '382': 4252, 'cre': 4253, '6ph': 4254, '5wkg': 4255, 'èn': 4256, 'out': 4257, 'heaven': 4258, 'ebay': 4259, 'oclock': 4260, 'bash': 4261, 'sarcastic': 4262, 'orno': 4263, 'gbp': 4264, 'ip': 4265, 'minecraft': 4266, 'server': 4267, 'yummmm': 4268, 'stitch': 4269, 'trouser': 4270, 'impose': 4271, 'neighbor': 4272, 'dizzamn': 4273, 'suitemate': 4274, 'ayo': 4275, 'wi': 4276, 'nz': 4277, 'sapna': 4278, 'manege': 4279, \"y'day\": 4280, 'hogidhe': 4281, 'chinnu': 4282, 'swalpa': 4283, 'agidhane': 4284, '98321561': 4285, 'familiar': 4286, '087104711148': 4287, 'tahan': 4288, 'anot': 4289, 'lo': 4290, 'grandfather': 4291, 'lnly': 4292, '09066649731from': 4293, 'haircut': 4294, 'breezy': 4295, 'ay': 4296, 'anyone': 4297, 'whore': 4298, 'lambu': 4299, 'ji': 4300, 'batchlor': 4301, 'i\\x92d': 4302, 'prepared': 4303, 'finalise': 4304, 'fink': 4305, '09099726553': 4306, 'carlie': 4307, 'minmobsmore': 4308, 'lkpobox177hp51fl': 4309, 'smartcall': 4310, '68866': 4311, 'subscriptn3gbp': 4312, '08448714184': 4313, 'landlineonly': 4314, 'str8': 4315, 'classic': 4316, '200p': 4317, 'obedient': 4318, 'cram': 4319, 'haiyoh': 4320, 'million': 4321, 'rencontre': 4322, 'strict': 4323, 'lou': 4324, 'lancaster': 4325, 'couldn\\x92t': 4326, 'b\\x92day': 4327, 'zhong': 4328, 'qe': 4329, 'ending': 4330, '0a': 4331, 'networks': 4332, 'responsible': 4333, 'supplier': 4334, 'triple': 4335, 'echo': 4336, 'your': 4337, 'knicker': 4338, '01223585236': 4339, 'nikiyu4': 4340, 'language': 4341, '449071512431': 4342, 'taka': 4343, 'amla': 4344, 'keypad': 4345, 'smsservice': 4346, 'yourinclusive': 4347, '09065394514': 4348, '447797706009': 4349, 'nosy': 4350, 'react': 4351, 'checkin': 4352, 'truro': 4353, 'ext': 4354, 'awww': 4355, 'snatch': 4356, 'purse': 4357, '08712402779': 4358, 'darle': 4359, 'foward': 4360, 'lara': 4361, 'somewhr': 4362, 'crush': 4363, 'mcr': 4364, 'balloon': 4365, 'chapel': 4366, 'frontierville': 4367, 'ninish': 4368, 'icky': 4369, 'freek': 4370, 'ke': 4371, 'qi': 4372, 'suddenly': 4373, 'hangin': 4374, 'pooja': 4375, 'sweatter': 4376, 'nte': 4377, 'lyric': 4378, 'actual': 4379, 'harder': 4380, 'nbme': 4381, 'desert': 4382, 'geoenvironmental': 4383, 'implication': 4384, 'nutter': 4385, 'cutter': 4386, 'ctter': 4387, 'cttergg': 4388, 'cttargg': 4389, 'ctargg': 4390, 'ctagg': 4391, 'ie': 4392, '08006344447': 4393, 'concentration': 4394, 'lingo': 4395, 'cereal': 4396, 'gari': 4397, 'absolutely': 4398, 'onam': 4399, 'sirji': 4400, 'tata': 4401, 'aig': 4402, 'configure': 4403, 'nottingham': 4404, '63mile': 4405, 'mph': 4406, 'thanku': 4407, 'machine': 4408, 'satanic': 4409, 'imposter': 4410, 'may': 4411, 'destiny': 4412, 'fujitsu': 4413, 'lifebook': 4414, 'scenario': 4415, 'invaders': 4416, 'orig': 4417, 'console': 4418, 'havent': 4419, 'isnt': 4420, 'paranoid': 4421, 'decade': 4422, 'goverment': 4423, 'vs': 4424, 'shiny': 4425, '09094646631': 4426, '10th': 4427, '09050000555': 4428, 'ba128nnfwfly150ppm': 4429, 'ffffuuuuuuu': 4430, 'rayan': 4431, 'macleran': 4432, 'z': 4433, 'casualty': 4434, 'stuff42moro': 4435, 'unconvinced': 4436, 'willpower': 4437, 'registered': 4438, 'attraction': 4439, 'proove': 4440, 'singe': 4441, 'praise': 4442, 'makie': 4443, 'sambar': 4444, 'ammae': 4445, 'steering': 4446, 'apnt': 4447, 'yifeng': 4448, 'subs': 4449, 'factory': 4450, 'cantdo': 4451, 'anythingtomorrow': 4452, 'myparent': 4453, 'aretake': 4454, 'outfor': 4455, 'katexxx': 4456, 'shatter': 4457, 'amk': 4458, 'puzzele': 4459, 'somewhat': 4460, 'laden': 4461, 'wreck': 4462, 'belligerent': 4463, 'goigng': 4464, 'perfume': 4465, 'broke': 4466, '5226': 4467, 'hava': 4468, '1131': 4469, 'fudge': 4470, 'oreos': 4471, 'stores': 4472, 'board': 4473, 'overheating': 4474, 'reslove': 4475, 'inst': 4476, \"8'o\": 4477, 'wetherspoon': 4478, 'auntie': 4479, 'huai': 4480, 'surly': 4481, 'tolerat': 4482, 'bcs': 4483, 'glo': 4484, 'chic': 4485, 'declare': 4486, '07801543489': 4487, 'latest': 4488, 'llc': 4489, 'usa': 4490, 'msgrcvd18': 4491, 'olympic': 4492, 'repent': 4493, '087018728737': 4494, 'toppoly': 4495, 'tune': 4496, 'pole': 4497, '09061749602': 4498, '528': 4499, 'hp20': 4500, '1yf': 4501, 'uncountable': 4502, 'noun': 4503, 'didntgive': 4504, 'bellearli': 4505, 'bedbut': 4506, 'thepub': 4507, 'uwana': 4508, 'loads': 4509, 'jenxxx': 4510, 'doesn‘t': 4511, 'fps': 4512, '74355': 4513, 'iscome': 4514, 'sink': 4515, 'pace': 4516, 'cage': 4517, 'cock': 4518, 'surround': 4519, 'cuck': 4520, 'jap': 4521, 'aids': 4522, 'patent': 4523, 'disappear': 4524, 'nauseous': 4525, 'lunchtime': 4526, 'organise': 4527, 'darkness': 4528, 'shine': 4529, 'shortcode': 4530, '83332': 4531, '08081263000': 4532, 'screwd': 4533, 'deduct': 4534, 'rat': 4535, 'wildlife': 4536, 'want2come': 4537, 'that2worzel': 4538, 'wizzle': 4539, 'okor': 4540, '86888': 4541, 'subscribe6gbp': 4542, '3hrs': 4543, 'txtstop': 4544, 'gamb': 4545, 'robinson': 4546, 'beerage': 4547, 'minus': 4548, 'paragraph': 4549, 'spreadsheet': 4550, 'determine': 4551, 'entire': 4552, 'sparkling': 4553, '45': 4554, '0121': 4555, '2025050': 4556, 'shortbreaks': 4557, 'org': 4558, 'pookie': 4559, 'archive': 4560, 'haiz': 4561, 'behalf': 4562, 'stunning': 4563, 'hall': 4564, 'starting': 4565, 'hesitation': 4566, 'intha': 4567, 'ponnungale': 4568, 'ipaditan': 4569, 'panren': 4570, 'paru': 4571, 'twat': 4572, 'dungeree': 4573, 'decking': 4574, 'punch': 4575, 'desperate': 4576, 'sc': 4577, 'specialise': 4578, 'wad': 4579, 'machi': 4580, 'gravel': 4581, '69888': 4582, '100p': 4583, 'importantly': 4584, 'sao': 4585, 'nokias': 4586, 'el': 4587, 'nino': 4588, '087147123779am': 4589, 'hanger': 4590, 'unicef': 4591, 'asian': 4592, 'tsunami': 4593, 'disaster': 4594, 'fund': 4595, '864233': 4596, 'mumhas': 4597, 'beendroppe': 4598, 'theplace': 4599, 'adress': 4600, 'avo': 4601, 'pdate': 4602, 'yhl': 4603, 'orh': 4604, 'financial': 4605, 'punish': 4606, 'becaus': 4607, 'prabu': 4608, 'deserve': 4609, 'ahold': 4610, 'absolutly': 4611, '1thing': 4612, 'answr': 4613, '09064012103': 4614, 'box334sk38ch': 4615, 'associate': 4616, 'prap': 4617, 'boltblue': 4618, 'poly3': 4619, 'jamz': 4620, 'toxic': 4621, 'conacte': 4622, '09111030116': 4623, 'pobox12n146tf15': 4624, 'seperate': 4625, '鈥': 4626, '┾': 4627, '〨ud': 4628, 'noncomittal': 4629, '09066361921': 4630, 'dabooks': 4631, 'owl': 4632, '140': 4633, '180': 4634, 'fuuuuck': 4635, 'pear': 4636, 'gokila': 4637, 'rayman': 4638, 'golf': 4639, 'activ8': 4640, 'termsapply': 4641, 'webpage': 4642, 'lets': 4643, 'both': 4644, 'muchxxlove': 4645, 'locaxx': 4646, 'tbs': 4647, 'persolvo': 4648, 'for£38': 4649, 'kath': 4650, 'manchester': 4651, 'boundary': 4652, 'endless': 4653, '09050005321': 4654, 'wnevr': 4655, 'yen': 4656, 'madodu': 4657, 'nav': 4658, 'pretsorginta': 4659, 'nammanna': 4660, 'pretsovru': 4661, 'alwa': 4662, 'visa': 4663, 'gucci': 4664, 'audrie': 4665, 'autocorrect': 4666, 'corvette': 4667, 'asked': 4668, 'forgiveness': 4669, 'fruit': 4670, 'downstem': 4671, 'crucify': 4672, 'payasam': 4673, 'rinu': 4674, 'companion': 4675, 'chef': 4676, 'listener': 4677, 'organizer': 4678, 'sympathetic': 4679, 'athletic': 4680, 'courageous': 4681, 'determined': 4682, 'dependable': 4683, 'psychologist': 4684, 'exterminator': 4685, 'psychiatrist': 4686, 'healer': 4687, 'stylist': 4688, 'aaniye': 4689, 'pudunga': 4690, 'venaam': 4691, 'stressfull': 4692, 'salesman': 4693, 'elvis': 4694, 'presleys': 4695, 'ktv': 4696, 'pai': 4697, 'seh': 4698, 'adjustable': 4699, 'cooperative': 4700, 'teenager': 4701, 'sculpture': 4702, 'ou': 4703, 'prin': 4704, 'delay': 4705, 'tunde': 4706, 'hungover': 4707, 'embassy': 4708, '09061213237': 4709, '177': 4710, 'm227xy': 4711, '2005': 4712, '08452810075over18': 4713, '83039': 4714, '62735': 4715, '£450': 4716, 'accommodationvouchers': 4717, 'mustprovide': 4718, '15541': 4719, '09053750005': 4720, '310303': 4721, '08718725756': 4722, '140ppm': 4723, 'poortiyagi': 4724, 'odalebeku': 4725, 'hanumanji': 4726, 'hanuman': 4727, 'bajarangabali': 4728, 'maruti': 4729, 'pavanaputra': 4730, 'sankatmochan': 4731, 'ramaduth': 4732, 'mahaveer': 4733, 'janarige': 4734, 'ivatte': 4735, 'kalisidare': 4736, 'olage': 4737, 'ondu': 4738, 'keluviri': 4739, 'maretare': 4740, 'inde': 4741, 'dodda': 4742, 'problum': 4743, 'nalli': 4744, 'siguviri': 4745, 'idu': 4746, 'matra': 4747, 'neglet': 4748, 'mega': 4749, 'asda': 4750, 'lennon': 4751, 'allday': 4752, 'nooooooo': 4753, 'cable': 4754, 'nike': 4755, 'logoff': 4756, 'wherre': 4757, '2006': 4758, 'fifa': 4759, 'semi': 4760, 'sef': 4761, 'anjie': 4762, 'years': 4763, 'abstract': 4764, 'lingerie': 4765, 'bridal': 4766, 'petticoatdreams': 4767, 'weddingfriend': 4768, '30th': 4769, 'areyouunique': 4770, 'cedar': 4771, '3pound': 4772, '07008009200': 4773, 'gifts': 4774, 'cliff': 4775, 'sarcasm': 4776, 'scarcasim': 4777, 'fireplace': 4778, 'icon': 4779, 'frens': 4780, '820554ad0a1705572711': 4781, 'true¡c': 4782, '¡': 4783, 'salmon': 4784, '151': 4785, 'pause': 4786, 'classmate': 4787, 'magic': 4788, 'yourjob': 4789, 'i\\x92llspeak': 4790, 'soonlots': 4791, 'qjkgighjjgcbl': 4792, 'u’ve': 4793, 'awarded': 4794, 'instant': 4795, '08715203028': 4796, '9th': 4797, '£500': 4798, 'bruv': 4799, 'maximum': 4800, '71': 4801, 'bids': 4802, 'bare': 4803, 'eurodisinc': 4804, 'trav': 4805, 'aco': 4806, 'entry41': 4807, 'morefrmmob': 4808, 'shracomorsglsuplt': 4809, 'ls1': 4810, '3aj': 4811, 'culture': 4812, 'antibiotic': 4813, 'chest': 4814, 'abdoman': 4815, 'gynae': 4816, 'weirdo': 4817, 'waaaat': 4818, 'lololo': 4819, 'sem': 4820, 'enna': 4821, 'kalaachutaarama': 4822, 'seek': 4823, 'jjc': 4824, 'tendency': 4825, 'tp': 4826, 'thanx4': 4827, 'cer': 4828, 'guai': 4829, 'jogging': 4830, 'hasbro': 4831, 'jump': 4832, 'hoop': 4833, 'btwn': 4834, 'sum1': 4835, 'ahhhh': 4836, 'had': 4837, 'stash': 4838, 'scared': 4839, 'downs': 4840, 'fletcher': 4841, 'grown': 4842, '69855': 4843, 'stopbcm': 4844, 'sf': 4845, 'semiobscure': 4846, 'dread': 4847, 'thou': 4848, 'ryan': 4849, 'brin': 4850, 'split': 4851, '09061701851': 4852, 'k61': 4853, '12hours': 4854, 'frequently': 4855, 'brainy': 4856, 'correctly': 4857, 'w4': 4858, '5wq': 4859, 'coulda': 4860, 'arranging': 4861, 'alto18': 4862, '44345': 4863, \"wouldn't\": 4864, 'clip': 4865, '35p': 4866, 'mmsto': 4867, '32323': 4868, 'noooooooo': 4869, 'fredericksburg': 4870, 'landmark': 4871, 'bob': 4872, 'barry': 4873, '83738': 4874, 'afternon': 4875, 'romcapspam': 4876, 'presence': 4877, 'outgoing': 4878, 'clarify': 4879, 'prepone': 4880, 'cupboard': 4881, 'unintentionally': 4882, 'warning': 4883, 'eventually': 4884, 'tolerance': 4885, 'hopeing': 4886, 'wasn‘t': 4887, 'wrkin': 4888, 'wondarfull': 4889, 'dice': 4890, 'bless': 4891, 'lavender': 4892, 'league': 4893, 'contribute': 4894, 'greatly': 4895, 'evaluation': 4896, 'myspace': 4897, 'reaction': 4898, 'hesitate': 4899, 'notebook': 4900, 'walmart': 4901, 'antelope': 4902, 'toplay': 4903, 'fieldof': 4904, 'selfindependence': 4905, 'contention': 4906, 'chinatown': 4907, 'porridge': 4908, 'claypot': 4909, 'yam': 4910, 'fishhead': 4911, 'beehoon': 4912, 'mirror': 4913, 'buz': 4914, 'wedlunch': 4915, 'outsomewhere': 4916, 'adrink': 4917, '2watershd': 4918, 'fromwrk': 4919, 'bthere': 4920, 'petexxx': 4921, 'telediscount': 4922, '850': 4923, '650': 4924, 'difficulty': 4925, 'snowboard': 4926, '4d': 4927, 'walkabout': 4928, 'typical': 4929, 'dependent': 4930, 'dear1': 4931, 'best1': 4932, 'clos1': 4933, 'lvblefrnd': 4934, 'jstfrnd': 4935, 'cutefrnd': 4936, 'lifpartnr': 4937, 'swtheart': 4938, 'bstfrnd': 4939, 'irritation': 4940, 'stability': 4941, 'tranquility': 4942, 'vibrant': 4943, 'colourful': 4944, 'stu': 4945, 'truble': 4946, 'evone': 4947, 'wont': 4948, 'ilol': 4949, 'personally': 4950, 'wuldnt': 4951, '80608': 4952, 'movietrivia': 4953, '08712405022': 4954, 'brum': 4955, 'authorise': 4956, 'srs': 4957, 'deer': 4958, 'before': 4959, 'went': 4960, 'free2day': 4961, 'george': 4962, '89080': 4963, 'saucy': 4964, '0870241182716': 4965, 'toledo': 4966, 'stink': 4967, 'silly': 4968, 'isn‘t': 4969, 'pocay': 4970, 'wocay': 4971, '4eva': 4972, '2morrowxxxx': 4973, 'kaila': 4974, 'sophas': 4975, 'secondary': 4976, 'applying': 4977, 'ogunrinde': 4978, '0789xxxxxxx': 4979, 'judgemental': 4980, '08700469649': 4981, 'box420': 4982, 'velachery': 4983, 'cap': 4984, 'yell': 4985, 'bullshit': 4986, 'veggie': 4987, 'spanish': 4988, '09050000332': 4989, 'tessy': 4990, 'favor': 4991, 'shija': 4992, 'warwick': 4993, 'tmw': 4994, \"havn't\": 4995, '07781482378': 4996, '09064017295': 4997, 'prone': 4998, 'shell': 4999, 'unconsciously': 5000, 'unhappy': 5001, 'hassle': 5002, 'haughaighgtujhyguj': 5003, 'thasa': 5004, 'messed': 5005, 'shudvetold': 5006, 'urgran': 5007, 'illspeak': 5008, 'u2moro': 5009, 'invoice': 5010, 'dr': 5011, 'real1': 5012, 'pushbutton': 5013, 'dontcha': 5014, 'babygoodbye': 5015, 'golddigger': 5016, 'webeburnin': 5017, 'tickets': 5018, 'trackmarque': 5019, 'vipclub4u': 5020, 'joking': 5021, 'outreach': 5022, 'parkin': 5023, 'kent': 5024, 'vale': 5025, 'reject': 5026, 'describe': 5027, 'coherently': 5028, 'forgt': 5029, 'thet': 5030, 'skinny': 5031, 'citylink': 5032, 'thnx': 5033, 'broadband': 5034, 'installation': 5035, 'registration': 5036, 'permanent': 5037, 'residency': 5038, 'explicitly': 5039, 'nora': 5040, 'riley': 5041, 'astrology': 5042, 'icic': 5043, '09050000928': 5044, 'epi': 5045, 'stil': 5046, 'fucked': 5047, 'tobed': 5048, '430': 5049, '630': 5050, 'drizzle': 5051, 'priority': 5052, 'wlcome': 5053, 'youi': 5054, 'jumper': 5055, 'hat': 5056, 'belt': 5057, 'cribb': 5058, 'aluable': 5059, 'ffectionate': 5060, 'oveable': 5061, 'ternal': 5062, 'oble': 5063, 'ruthful': 5064, 'ntimate': 5065, 'atural': 5066, 'namous': 5067, '09066362220': 5068, 'meat': 5069, 'supreme': 5070, 'zaher': 5071, 'bookshelf': 5072, 'neck': 5073, 'amigo': 5074, 'as': 5075, 'asthma': 5076, 'attack': 5077, 'bettr': 5078, 'bsnl': 5079, 'offc': 5080, 'bff': 5081, 'carly': 5082, '448712404000': 5083, '08712404000': 5084, 'linear': 5085, 'algebra': 5086, 'sweetheart': 5087, 'plum': 5088, 'smack': 5089, 'toss': 5090, 'gudni8': 5091, 'playin': 5092, 'ambrith': 5093, 'madurai': 5094, 'dha': 5095, 'marrge': 5096, '\\x93harry': 5097, 'potter': 5098, 'phoenix': 5099, 'harry': 5100, 'reader': 5101, 'dent': 5102, 'except': 5103, 'fellow': 5104, 'billion': 5105, 'ana': 5106, 'sathy': 5107, 'rto': 5108, 'tunji': 5109, 'gdeve': 5110, 'dancin': 5111, 'nimbomson': 5112, 'surya': 5113, 'pokkiri': 5114, 'limp': 5115, 'aa': 5116, 'adsense': 5117, 'nordstrom': 5118, 'payback': 5119, '83435': 5120, 'helpline': 5121, '08706091795': 5122, 'lim': 5123, '08719181259': 5124, '6230': 5125, 'pobox114': 5126, '14tcr': 5127, 'memorable': 5128, 'asa': 5129, 'document': 5130, 'stapati': 5131, 'opener': 5132, 'musical': 5133, 'peaceful': 5134, 'shrek': 5135, 'naal': 5136, 'eruku': 5137, 'sitter': 5138, 'kaitlyn': 5139, 'virgil': 5140, 'bike': 5141, 'billy': 5142, 'wahay': 5143, 'didnt': 5144, 'too': 5145, '07808247860': 5146, '08719899229': 5147, '40411': 5148, 'dhanush': 5149, 'ape': 5150, 'shhhhh': 5151, 'woohoo': 5152, 'loooooool': 5153, 'couch': 5154, 'perspective': 5155, '08718723815': 5156, 'ffffffffff': 5157, '8000930705': 5158, 'breeze': 5159, 'fresh': 5160, 'twitter': 5161, 'hypertension': 5162, 'drunkard': 5163, 'intrude': 5164, 'signal': 5165, 'unusual': 5166, 'tram': 5167, 'vic': 5168, 'atten': 5169, 'honeymoon': 5170, 'outfit': 5171, 'inpersonation': 5172, 'flea': 5173, 'hostile': 5174, 'chop': 5175, 'off': 5176, 'aah': 5177, 'fumbling': 5178, 'ummifying': 5179, 'africa': 5180, 'avin': 5181, 'silver': 5182, 'rewarding': 5183, '2channel': 5184, 'leadership': 5185, 'skill': 5186, 'psychic': 5187, 'pock': 5188, 'hitter': 5189, 'anyway': 5190, 'cherthala': 5191, 'in': 5192, 'bfore': 5193, 'coming': 5194, 'tmorow': 5195, 'engage': 5196, 'prsn': 5197, 'or2optout': 5198, 'hv9d': 5199, 'phonebook': 5200, '95': 5201, 'pax': 5202, 'toyota': 5203, 'camry': 5204, 'olayiwola': 5205, 'mileage': 5206, 'landing': 5207, 'coco': 5208, 'affidavit': 5209, 'twiggs': 5210, 'division': 5211, 'courtroom': 5212, 'dirt': 5213, 'chore': 5214, 'exist': 5215, 'hail': 5216, 'mist': 5217, 'hockey': 5218, 'shouldn‘t': 5219, 'cheery': 5220, 'jaklin': 5221, '0871277810710p': 5222, 'gaze': 5223, 'heat': 5224, 'shitload': 5225, 'purple': 5226, 'yelow': 5227, 'brown': 5228, 'table': 5229, '09058091870': 5230, 'pert': 5231, 'lb': 5232, 'brilliantly': 5233, 'handing': 5234, 'mention': 5235, 'sppok': 5236, '09058094594': 5237, 'guoyang': 5238, 'formally': 5239, 'praying': 5240, '83110': 5241, 'hourish': 5242, 'outbid': 5243, 'simonwatson5120': 5244, 'shinco': 5245, 'plyr': 5246, 'smsreward': 5247, 'notification': 5248, 'useless': 5249, 'reverse': 5250, 'mathematic': 5251, 'gurl': 5252, 'appropriate': 5253, 'retire': 5254, 'blimey': 5255, 'exercise': 5256, '85069': 5257, 'usher': 5258, 'britney': 5259, '5249': 5260, 'mk17': 5261, '92h': 5262, '450ppw': 5263, 'urgh': 5264, 'coach': 5265, 'smell': 5266, 'chip': 5267, 'duvet': 5268, 'predictive': 5269, 'secured': 5270, 'unsecured': 5271, '195': 5272, '6669': 5273, '8800': 5274, 'psp': 5275, 'northampton': 5276, 'skyve': 5277, 'abeg': 5278, 'sponsor': 5279, 'maturity': 5280, 'hustle': 5281, 'forth': 5282, 'harlem': 5283, 'tellmiss': 5284, 'someplace': 5285, 'terror': 5286, 'cruel': 5287, 'decent': 5288, 'joker': 5289, 'defer': 5290, 'admission': 5291, 'aaooooright': 5292, 'spun': 5293, 'wrld': 5294, 'nytho': 5295, 'tx': 5296, 'fonin': 5297, '2mwen': 5298, 'bk': 5299, 'frmcloud': 5300, 'happenin': 5301, '2bold': 5302, 'mys': 5303, 'strongly': 5304, 'creativity': 5305, 'stifle': 5306, 'gain': 5307, 'dogbreath': 5308, 'slack': 5309, 'rape': 5310, 'host': 5311, 'idps': 5312, 'linux': 5313, '88800': 5314, '89034': 5315, '08718711108': 5316, 'dodgey': 5317, 'debate': 5318, 'stool': 5319, 'mathew': 5320, 'tait': 5321, 'edward': 5322, 'anderson': 5323, 'favourite': 5324, 'arrow': 5325, 'mcfly': 5326, 'ab': 5327, 'sara': 5328, 'jorge': 5329, 'shock': 5330, 'hdd': 5331, 'casing': 5332, 'shijutta': 5333, 'noworriesloans': 5334, '08717111821': 5335, 'greatness': 5336, 'surrender': 5337, 'donno': 5338, 'gene': 5339, 'decorate': 5340, 'yeovil': 5341, 'motor': 5342, 'max': 5343, 'eh74rr': 5344, 'bridgwater': 5345, 'banter': 5346, 'ibore': 5347, 'rct': 5348, 'thnq': 5349, 'adrian': 5350, 'vatian': 5351, 'lucyxx': 5352, 'motherfucker': 5353, 'objection': 5354, 'gate': 5355, 'deficient': 5356, 'signin': 5357, 'awkward': 5358, '2nights': 5359, 'uve': 5360, 'wildest': 5361, '545': 5362, 'guild': 5363, 'db': 5364, 'dang': 5365, '08718738001': 5366, '49557': 5367, 'everyone': 5368, 'babysitte': 5369, 'jackson': 5370, 'rec': 5371, 'clover': 5372, 'saying': 5373, 'deny': 5374, 'parents': 5375, 'bend': 5376, 'thia': 5377, 'doesnt': 5378, 'inlude': 5379, 'preview': 5380, 'sonathaya': 5381, 'soladha': 5382, 'tarot': 5383, '85555': 5384, 'paragon': 5385, 'cloud': 5386, 'river': 5387, 'sextextuk': 5388, 'xxuk': 5389, '69876': 5390, 'cudnt': 5391, 'drove': 5392, 'ctla': 5393, 'ente': 5394, 'ishtamayoo': 5395, 'bakrid': 5396, 'arestaurant': 5397, 'squid': 5398, 'dosomethe': 5399, 'writhe': 5400, 'canteen': 5401, 'b4u': 5402, 'marsms': 5403, 'b4utele': 5404, '08717168528': 5405, 'yah': 5406, 'pity': 5407, 'ne': 5408, 'wrke': 5409, 'violate': 5410, 'basket': 5411, 'prestige': 5412, 'lonline': 5413, 'lotz': 5414, '09090900040': 5415, 'extreme': 5416, 'privacy': 5417, 'sic': 5418, '7mp': 5419, '0870753331018': 5420, 'vomitin': 5421, 'ceiling': 5422, 'mine': 5423, 'annoyin': 5424, 'coope': 5425, 'fatty': 5426, 'desparately': 5427, 'cocksucker': 5428, 'worthless': 5429, 'novelty': 5430, 'srsly': 5431, 'yi': 5432, 'justbeen': 5433, 'overa': 5434, 'mush': 5435, 'kfc': 5436, 'gravy': 5437, 'wright': 5438, 'bawl': 5439, 'failure': 5440, 'champ': 5441, 'glasgow': 5442, 'meg': 5443, 'netflix': 5444, 'stripe': 5445, 'skirt': 5446, 'roomate': 5447, 'graduate': 5448, '4w': 5449, 'technology': 5450, '08714712412': 5451, '2mro': 5452, 'simpsons': 5453, 'band': 5454, 'youphone': 5455, 'athome': 5456, 'youwanna': 5457, 'boggy': 5458, 'biatch': 5459, 'inspection': 5460, 'nursery': 5461, 'funeral': 5462, '09077818151': 5463, 'calls1': 5464, '50ppm': 5465, 'santacalling': 5466, '078': 5467, '077xxx': 5468, '09066362206': 5469, 'resume': 5470, '69200': 5471, 'chrgd': 5472, '2exit': 5473, 'wuld': 5474, 'honestly': 5475, 'promptly': 5476, 'childporn': 5477, '09065394973': 5478, 'ahhh': 5479, 'vaguely': 5480, 'rahul': 5481, 'dengra': 5482, 'miller': 5483, 'newspaper': 5484, 'ree': 5485, 'betta': 5486, 'product': 5487, 'reserve': 5488, 'kvb': 5489, 'ami': 5490, 'parchi': 5491, 'kicchu': 5492, 'kaaj': 5493, 'korte': 5494, 'iccha': 5495, 'korche': 5496, 'tul': 5497, 'thesmszone': 5498, 'anonymous': 5499, 'mask': 5500, 'abuse': 5501, 'providing': 5502, 'assistance': 5503, 'heehee': 5504, 'dump': 5505, 'heap': 5506, 'lowes': 5507, '09058097218': 5508, 'babyjontet': 5509, 'skint': 5510, 'bevies': 5511, 'waz': 5512, 'gona': 5513, 'othrs': 5514, 'watchng': 5515, 'comfey': 5516, 'alternative': 5517, 'drama': 5518, 'struggle': 5519, 'ego': 5520, 'necessity': 5521, 'reppurcussion': 5522, '32000': 5523, 'legitimat': 5524, 'efreefone': 5525, 'jos': 5526, '4goten': 5527, 'scammer': 5528, 'prem': 5529, 'algarve': 5530, 'kane': 5531, 'shud': 5532, 'exorcism': 5533, 'emily': 5534, 'steamboat': 5535, 'wahleykkum': 5536, 'studyn': 5537, 'xafter': 5538, 'cst': 5539, 'olave': 5540, 'mandara': 5541, 'trishul': 5542, 'jeremiah': 5543, 'expressoffer': 5544, 'boooo': 5545, 'ashe': 5546, 'reassuring': 5547, 'grr': 5548, 'pharmacy': 5549, 'alaikkum': 5550, 'pride': 5551, 'envy': 5552, 'predicte': 5553, 'apologize': 5554, 'fwiw': 5555, 'afford': 5556, '32': 5557, 'thinkthis': 5558, 'dangerous': 5559, 'wesley': 5560, 'adi': 5561, 'entey': 5562, 'nattil': 5563, 'kittum': 5564, 'jenny': 5565, 'leanne': 5566, 'sticky': 5567, '30ish': 5568, 'senor': 5569, 'soz': 5570, 'imat': 5571, 'mums': 5572, 'gayle': 5573, 'rajas': 5574, 'burrito': 5575, 'entertaining': 5576, 'hugh': 5577, 'laurie': 5578, 'trek': 5579, 'possessiveness': 5580, 'pour': 5581, 'golden': 5582, 'spiritual': 5583, 'african': 5584, 'soil': 5585, 'started': 5586, 'pure': 5587, 'hearted': 5588, 'smiley': 5589, 'frankie': 5590, 'bennys': 5591, 'perform': 5592, 'parade': 5593, 'useful': 5594, 'elephant': 5595, 'tablets': 5596, 'um': 5597, 'brotha': 5598, 'hmv1': 5599, 'requirement': 5600, 'prasad': 5601, 'pract': 5602, 'flung': 5603, 'ecstasy': 5604, 'narcotic': 5605, 'zero': 5606, 'saving': 5607, 'checking': 5608, 'occur': 5609, 'kitty': 5610, 'shave': 5611, 'murali': 5612, 'shsex': 5613, 'netun': 5614, 'fgkslpopw': 5615, 'fgkslpo': 5616, 'fassyole': 5617, 'blacko': 5618, 'londn': 5619, 'showr': 5620, 'taxt': 5621, 'tie': 5622, 'pos': 5623, 'lool': 5624, 'operate': 5625, 'seventeen': 5626, 'ml': 5627, 'depression': 5628, 'miles': 5629, 'sexychat': 5630, 'chatting': 5631, 'goggle': 5632, 'whereare': 5633, 'friendsare': 5634, 'thekingshead': 5635, 'canlove': 5636, 'tightly': 5637, 'rebtel': 5638, 'firefox': 5639, 'hire': 5640, 'hitman': 5641, 'ajith': 5642, 'rajitha': 5643, 'ranju': 5644, '08719181503': 5645, 'paperwork': 5646, 'optimistic': 5647, 'stagwood': 5648, 'winterstone': 5649, 'victor': 5650, 'yetty': 5651, 'cthen': 5652, 'conclusion': 5653, 'references': 5654, 'cozy': 5655, 'nobody': 5656, 'wanting': 5657, 'nightnight': 5658, 'teresa': 5659, 'dec': 5660, \"you'ld\": 5661, 'bam': 5662, 'aid': 5663, 'usmle': 5664, 'xclusive': 5665, 'clubsaisai': 5666, '2morow': 5667, 'speciale': 5668, 'zouk': 5669, 'paris': 5670, 'roses': 5671, '07946746291': 5672, '07880867867': 5673, '515': 5674, 'meaningful': 5675, 'everything': 5676, 'anand': 5677, 'html': 5678, 'gbp4': 5679, 'mfl': 5680, '1146': 5681, 'mk45': 5682, '2wt': 5683, '08712402972': 5684, 'thirtyeight': 5685, 'pence': 5686, 'informed': 5687, 'jack': 5688, 'helpful': 5689, 'pretend': 5690, 'hypotheticalhuagauahahuagahyuhagga': 5691, 'lipo': 5692, 'finn': 5693, 'eachother': 5694, 'relieve': 5695, 'westonzoyland': 5696, 'antha': 5697, 'corrct': 5698, 'dane': 5699, 'nicky': 5700, 'spatula': 5701, 'noice': 5702, 'predict': 5703, 'gail': 5704, 'yaxxx': 5705, 'natalja': 5706, 'nat27081980': 5707, 'wrongly': 5708, 'dudette': 5709, '08719839835': 5710, 'mgs': 5711, '89123': 5712, 'beverage': 5713, 'pist': 5714, 'can\\x92t': 5715, 'isn\\x92t': 5716, 'shite': 5717, 'kip': 5718, 'brother‘s': 5719, 'scrape': 5720, 'barrel': 5721, 'misfit': 5722, 'passion': 5723, '09099726481': 5724, 'dena': 5725, 'calls': 5726, 'tantrum': 5727, 'route': 5728, 'stereophonics': 5729, 'marley': 5730, 'dizzee': 5731, 'racal': 5732, 'libertines': 5733, 'strokes': 5734, 'nookii': 5735, 'bookmark': 5736, '82468': 5737, '08718726978': 5738, '1million': 5739, 'ppt150x3': 5740, 'box403': 5741, 'w1t1jy': 5742, '09058094565': 5743, 'sundayish': 5744, 'intention': 5745, 'weirdy': 5746, 'brownie': 5747, 'flurry': 5748, 'eek': 5749, 'phase': 5750, 'fourth': 5751, 'dimension': 5752, 'drms': 5753, 'sentiment': 5754, 'rowdy': 5755, 'attitude': 5756, 'attractive': 5757, 'irritating': 5758, 'daaaaa': 5759, 'onbus': 5760, 'donyt': 5761, 'latelyxxx': 5762, 'coimbatore': 5763, 'manual': 5764, 'reset': 5765, 'troubleshooting': 5766, 'proper': 5767, 'tongue': 5768, 'gandhipuram': 5769, 'womdarfull': 5770, 'jurong': 5771, 'amore': 5772, 'data': 5773, 'analysis': 5774, 'forms': 5775, 'multimedia': 5776, 'qet': 5777, 'subsequent': 5778, 'charged': 5779, '09050001295': 5780, 'a21': 5781, '45pm': 5782, '7cfca1a': 5783, 'dialogue': 5784, 'reltnship': 5785, 'wipe': 5786, '07753741225': 5787, '08715203677': 5788, '42478': 5789, 'idc': 5790, 'weasele': 5791, 'prominent': 5792, 'cheek': 5793, 'phone750': 5794, 'derp': 5795, 'abuser': 5796, '449050000301': 5797, '09050000301': 5798, 'dismay': 5799, 'telling': 5800, 'department': 5801, 'ours': 5802, 'conform': 5803, '09058094455': 5804, 'haul': 5805, 'thkin': 5806, 'biro': 5807, 'gauge': 5808, 'invitation': 5809, 'bloke': 5810, 'weddin': 5811, '08712101358': 5812, 'lakh': 5813, 'wats': 5814, 'lodging': 5815, \"x'mas\": 5816, 'x2': 5817, 'wasn\\x92t': 5818, 'spouse': 5819, 'pmt': 5820, '4give': 5821, 'shldxxxx': 5822, 'computational': 5823, '09066368470': 5824, 'feathery': 5825, 'bowa': 5826, 'waqt': 5827, 'pehle': 5828, 'naseeb': 5829, 'zyada': 5830, 'kisi': 5831, 'ko': 5832, 'kuch': 5833, 'milta': 5834, 'hum': 5835, 'sochte': 5836, 'ham': 5837, 'jeetey': 5838, 'mini': 5839, 'cheetos': 5840, 'function': 5841, 'danger': 5842, 'peep': 5843, 'comment': 5844, '0721072': 5845, '146tf150p': 5846, 'forwarded': 5847, '08712400200': 5848, 'cl': 5849, 'multis': 5850, '9996': 5851, '14thmarch': 5852, 'availa': 5853, 'sarasota': 5854, 'unfortunately': 5855, 'basketball': 5856, 'outdoors': 5857, 'cleaning': 5858, '087123002209am': 5859, 'wondar': 5860, 'flim': 5861, 'notixiquate': 5862, 'laxinorficate': 5863, 'bambling': 5864, 'entropication': 5865, 'oblisingately': 5866, 'masteriastering': 5867, 'amplikater': 5868, 'fidalfication': 5869, 'champlaxigating': 5870, 'atrocious': 5871, 'wotz': 5872, 'junna': 5873, 'trend': 5874, 'pro': 5875, 'con': 5876, 'description': 5877, 'nuclear': 5878, 'fusion': 5879, 'iter': 5880, 'jet': 5881, 'firmware': 5882, 'ubandu': 5883, 'disk': 5884, 'tirunelvai': 5885, 'half8th': 5886, '09099725823': 5887, '0870141701216': 5888, '4txt': 5889, '120p': 5890, 'infra': 5891, '88888': 5892, '08701213186': 5893, 'advisor': 5894, '402': 5895, 'ritten': 5896, 'fold': 5897, 'accessible': 5898, '08709501522': 5899, '139': 5900, 'la3': 5901, '2wu': 5902, 'tense': 5903, 'efficient': 5904, '08708800282': 5905, 'dust': 5906, '0871277810910p': 5907, 'rp176781': 5908, 'regalportfolio': 5909, '08717205546': 5910, 'stamped': 5911, 'envelope': 5912, '113': 5913, 'bray': 5914, 'wicklow': 5915, 'eire': 5916, '69969': 5917, 'bcmsfwc1n3xx': 5918, '07808': 5919, 'xxxxxx': 5920, '08719899217': 5921, '41685': 5922, '07': 5923, 'kisses': 5924, '20m12aq': 5925, 'scrumptious': 5926, 'bsn': 5927, 'cumin': 5928, '09099726395': 5929, 'juliana': 5930, 'audiition': 5931, 'relocate': 5932, 'ams': 5933, 'washob': 5934, 'nobbe': 5935, 'nickey': 5936, 'platt': 5937, 'mb': 5938, 'dirtiest': 5939, 'ujhhhhhhh': 5940, 'sandiago': 5941, 'parantella': 5942, 'poop': 5943, 'courage': 5944, 'defeat': 5945, 'increase': 5946, 'nuerologist': 5947, 'textand': 5948, '08002988890': 5949, 'fate': 5950, 'shoranur': 5951, 'fuel': 5952, 'concern': 5953, 'prior': 5954, 'grief': 5955, 'women': 5956, 'cc100p': 5957, 'incomm': 5958, 'prediction': 5959, '85222': 5960, 'winnersclub': 5961, '84': 5962, 'gbp1': 5963, 'formatting': 5964, 'squeeeeeze': 5965, 'frndshp': 5966, 'luvd': 5967, 'lotr': 5968, 'desires': 5969, 'liver': 5970, 'bathroom': 5971, 'monoc': 5972, 'monos': 5973, 'polyc': 5974, 'stream': 5975, '0871212025016': 5976, 'nigro': 5977, 'luton': 5978, '0125698789': 5979, 'slipper': 5980, 'teeth': 5981, 'coveragd': 5982, 'vasai': 5983, \"4'o\": 5984, 'youdoe': 5985, 'sar': 5986, 'none': 5987, 'nowhere': 5988, 'ikno': 5989, 'doesdiscount': 5990, 'shitinnit': 5991, 'rg21': 5992, '4jx': 5993, 'bitching': 5994, '09111032124': 5995, 'pobox12n146tf150p': 5996, 'experiment': 5997, 'secure': 5998, 'grasp': 5999, 'inner': 6000, 'tigress': 6001, 'treatin': 6002, 'treacle': 6003, 'spys': 6004, 'thinl': 6005, 'standing': 6006, 'manageable': 6007, '09066368753': 6008, '97n7qp': 6009, 'answerin': 6010, 'watchin': 6011, 'tattoos': 6012, '0089': 6013, 'digit': 6014, '09063442151': 6015, 'lunsford': 6016, 'tiwary': 6017, 'rcb': 6018, 'battle': 6019, 'kochi': 6020, 'strt': 6021, 'ltdhelpdesk': 6022, '02085076972': 6023, 'imprtant': 6024, 'tomorw': 6025, 'mas': 6026, 'jabo': 6027, 'records': 6028, '09061104283': 6029, 'smsco': 6030, '50pm': 6031, 'offense': 6032, '645': 6033, 'hont': 6034, '08452810071': 6035, 'newquay': 6036, 'postcard': 6037, 'gone': 6038, '1im': 6039, 'talkin': 6040, 'iphone': 6041, 'barcelona': 6042, 'hype': 6043, 'studio': 6044, 'problematic': 6045, 'oooooh': 6046, 'rearrange': 6047, 'dormitory': 6048, 'astronomer': 6049, 'starer': 6050, 'recount': 6051, 'hitler': 6052, 'vday': 6053, 'parachute': 6054, 'gong': 6055, 'kaypoh': 6056, 'twink': 6057, 'scallie': 6058, 'skin': 6059, 'jock': 6060, '08712466669': 6061, 'recpt': 6062, 'panasonic': 6063, 'bluetoothhdset': 6064, 'doublemins': 6065, 'doubletxt': 6066, 'pierre': 6067, 'cardin': 6068, 'smse': 6069, 'tones': 6070, 'ericson': 6071, 'der': 6072, 'luks': 6073, 'modl': 6074, 'varma': 6075, 'sg': 6076, 'phyhcmk': 6077, 'teaching': 6078, 'pc1323': 6079, 'breakfast': 6080, 'hamper': 6081, 'dealing': 6082, 'fishrman': 6083, 'strtd': 6084, 'throwin': 6085, '1stone': 6086, 'famamus': 6087, 'flippin': 6088, 'pocy': 6089, 'va': 6090, 'tue': 6091, 'panalam': 6092, 'banneduk': 6093, 'chick': 6094, 'boob': 6095, 'custom': 6096, 'officer': 6097, 'disagreeable': 6098, \"don't\": 6099, \"l'm\": 6100, 'jewelry': 6101, 'nigh': 6102, 'ger': 6103, 'toke': 6104, 'syd': 6105, 'bleak': 6106, 'sday': 6107, 'joined': 6108, 'morphine': 6109, 'west': 6110, 'palm': 6111, 'conversation': 6112, 'senses': 6113, 'overemphasise': 6114, '4the': 6115, 'agree': 6116, 'collapse': 6117, 'limited': 6118, 'kickboxing': 6119, 'borderline': 6120, 'n8': 6121, 'habba': 6122, 'promotion': 6123, '8714714': 6124, 'skateboard': 6125, 'bandage': 6126, 'garment': 6127, 'install': 6128, 'browse': 6129, 'artist': 6130, 'sankranti': 6131, 'republic': 6132, 'shivratri': 6133, 'ugadi': 6134, 'fools': 6135, 'independence': 6136, 'teachers': 6137, 'childrens': 6138, 'festival': 6139, 'dasara': 6140, 'mornings': 6141, 'afternoons': 6142, 'evenings': 6143, 'nights': 6144, 'rememberi': 6145, 'wishing': 6146, 'rhode': 6147, 'bong': 6148, 'vijaykanth': 6149, 'interfue': 6150, 'miwa': 6151, 'jiayin': 6152, 'unclaimed': 6153, '09066368327': 6154, 'closingdate04': 6155, 'claimcode': 6156, 'm39m51': 6157, '50pmmorefrommobile2bremoved': 6158, 'mobypobox734ls27yf': 6159, 'arithmetic': 6160, 'percentage': 6161, 'onwords': 6162, 'mtnl': 6163, 'mumbai': 6164, 'ystrday': 6165, 'medicine': 6166, '09050000878': 6167, 'accommodation': 6168, 'global': 6169, 'phb1': 6170, '08700435505150p': 6171, 'r836': 6172, '09065069154': 6173, '69696': 6174, '3lp': 6175, 'emerge': 6176, 'fiend': 6177, 'impede': 6178, 'hesitant': 6179, 'digi': 6180, 'coupla': 6181, 'dull': 6182, 'ukp': 6183, '09061790125': 6184, 'jackpot': 6185, '81010': 6186, 'dbuk': 6187, 'lccltd': 6188, '4403ldnw1a7rw18': 6189, 'gimmi': 6190, 'goss': 6191, 'jerk': 6192, '3lions': 6193, 'continent': 6194, 'get4an18th': 6195, '078498': 6196, '08719180219': 6197, 'vid': 6198, 'keyword': 6199, 'sexual': 6200, 'theirs': 6201, '69911': 6202, 'opening': 6203, 'mca': 6204, '2years': 6205, 'strain': 6206, 'langport': 6207, 'compass': 6208, 'gnun': 6209, 'way2sms': 6210, 'rob': 6211, 'mack': 6212, 'theater': 6213, 'noisy': 6214, '83118': 6215, 'colin': 6216, 'farrell': 6217, 'swat': 6218, 'mre': 6219, 'achan': 6220, 'amma': 6221, 'hcl': 6222, 'fresher': 6223, 'suman': 6224, 'telephonic': 6225, 'via': 6226, 'urfeeling': 6227, 'bettersn': 6228, 'probthat': 6229, 'overdose': 6230, 'lots': 6231, 'lovejen': 6232, 'fastest': 6233, '83021': 6234, 'nange': 6235, 'bakra': 6236, 'kalstiya': 6237, 'lap': 6238, 'meatball': 6239, 'alot': 6240, 'blanket': 6241, 'callon': 6242, 'hairdresser': 6243, '09058099801': 6244, 'b4190604': 6245, '7876150ppm': 6246, 'unmit': 6247, 'matthew': 6248, '09063440451': 6249, 'ppm150': 6250, 'box334': 6251, 'fffff': 6252, '09090204448': 6253, 'minded': 6254, 'a£1': 6255, 'minapn': 6256, 'ls278bb': 6257, 'selfish': 6258, 'ultimately': 6259, 'tor': 6260, 'motive': 6261, 'tui': 6262, 'achieve': 6263, 'korli': 6264, 'msn': 6265, 'hotmail': 6266, 'ciao': 6267, 'grinule': 6268, 'identification': 6269, 'absence': 6270, 'gei': 6271, 'tron': 6272, 'dl': 6273, 'glorious': 6274, 'coax': 6275, 'image': 6276, 'fond': 6277, 'souvenier': 6278, 'cougar': 6279, 'amused': 6280, 'inever': 6281, '07732584351': 6282, 'rodger': 6283, 'burns': 6284, 'running': 6285, 'tamilnadu': 6286, 'the4th': 6287, 'october': 6288, 'chik': 6289, 'filth': 6290, '69669': 6291, 'saristar': 6292, 'e14': 6293, '9yt': 6294, '08701752560': 6295, '450p': 6296, 'stop2': 6297, 'establish': 6298, 'gep': 6299, 'tiime': 6300, 'openin': 6301, 'formal': 6302, 'stereo': 6303, 'mi': 6304, 'unknown': 6305, 'lovly': 6306, 'paypal': 6307, 'voila': 6308, 'pocket': 6309, 'armenia': 6310, 'swann': 6311, 'howard': 6312, 'cps': 6313, 'conserve': 6314, 'bw': 6315, '087187272008': 6316, 'now1': 6317, 'gist': 6318, 'eightish': 6319, 'carpark': 6320, 'gobi': 6321, 'arts': 6322, '09061743810': 6323, 'grumble': 6324, 'environment': 6325, 'terrific': 6326, 'nose': 6327, 'essay': 6328, 'unsubscribed': 6329, 'hunk': 6330, 'gotbabes': 6331, 'batt': 6332, 'stayin': 6333, 'rugby': 6334, 'crowd': 6335, '09058095107': 6336, 's3xy': 6337, 'buying': 6338, '07973788240': 6339, '08715203649': 6340, '40533': 6341, '31': 6342, 'words': 6343, 'unspoken': 6344, '6times': 6345, 'chad': 6346, 'gymnastic': 6347, 'christians': 6348, '083': 6349, '6089': 6350, 'worc': 6351, 'foregate': 6352, 'shrub': 6353, 'showrooms': 6354, 'shape': 6355, 'flatter': 6356, 'pint': 6357, 'carlin': 6358, 'bhaskar': 6359, 'hearing': 6360, 'mallika': 6361, 'sherawat': 6362, 'perumbavoor': 6363, 'mentor': 6364, 'percent': 6365, 'cheesy': 6366, 'frosty': 6367, 'faith': 6368, 'ooh': 6369, '4got': 6370, 'moseley': 6371, 'wed': 6372, '»': 6373, 'evey': 6374, 'human': 6375, 'teju': 6376, 'tiring': 6377, 'nachos': 6378, 'busetop': 6379, 'spjanuary': 6380, 'baaaaaaaabe': 6381, '1apple': 6382, '1tulsi': 6383, 'leaf': 6384, '1lemon': 6385, '1cup': 6386, 'problm': 6387, 'litres': 6388, 'watr': 6389, 'diseases': 6390, 'snd': 6391, 'enufcredeit': 6392, 'tocall': 6393, 'ileave': 6394, 'disastrous': 6395, 'poo': 6396, 'thin': 6397, 'fed': 6398, 'himso': 6399, '08718726970': 6400, 'officially': 6401, 'philosophical': 6402, 'hole': 6403, 'postpone': 6404, 'payed2day': 6405, 'havbeen': 6406, 'a£50': 6407, '4my': 6408, 'havebeen': 6409, 'preschoolco': 6410, 'ordinator': 6411, '2i': 6412, 'feelingood': 6413, 'sweater': 6414, 'mango': 6415, 'mittelschmertz': 6416, 'paracetamol': 6417, 'beach': 6418, 'appear': 6419, 'workout': 6420, 'crucial': 6421, 'zogtorius': 6422, 'i\\x92ve': 6423, 'stare': 6424, 'peach': 6425, 'tasts': 6426, 'sharing': 6427, 'exp': 6428, '30apr': 6429, 'dvg': 6430, 'vinobanagar': 6431, 'unit': 6432, 'accent': 6433, '4years': 6434, 'dental': 6435, 'nmde': 6436, '10k': 6437, '09064018838': 6438, 'cro1327': 6439, 'spotty': 6440, 'province': 6441, 'sterling': 6442, '09061743811': 6443, 'skye': 6444, 'performance': 6445, 'calculate': 6446, 'vat': 6447, 'pose': 6448, 'comb': 6449, 'dryer': 6450, 'lighter': 6451, 'buffy': 6452, 'satisfy': 6453, 'qlynnbv': 6454, 'help08700621170150p': 6455, 'squat': 6456, '1000s': 6457, '62220cncl': 6458, 'stopcs': 6459, '08717890890£1': 6460, 'converter': 6461, 'conference': 6462, 'followin': 6463, '09058094583': 6464, 'tap': 6465, 'spile': 6466, 'broad': 6467, 'canal': 6468, 'browsin': 6469, 'compulsory': 6470, 'bcaz': 6471, 'nationwide': 6472, 'newport': 6473, 'consent': 6474, 'leaving': 6475, 'rodds1': 6476, 'aberdeen': 6477, 'united': 6478, 'kingdom': 6479, 'img': 6480, 'icmb3cktz8r7': 6481, 'dates': 6482, 'hogolo': 6483, 'kodstini': 6484, 'madstini': 6485, 'hogli': 6486, 'mutai': 6487, 'eerulli': 6488, 'kodthini': 6489, 'pisce': 6490, 'aquarius': 6491, 'distract': 6492, 'pshew': 6493, 'jontin': 6494, 'nhs': 6495, 'born': 6496, '2b': 6497, 'terminated': 6498, 'we': 6499, 'inconvenience': 6500, 'loser': 6501, 'goody': 6502, 'mat': 6503, 'chk': 6504, 'dict': 6505, 'hvae': 6506, '09061701444': 6507, 'cstore': 6508, 'lubly': 6509, 'lamp': 6510, 'caroline': 6511, 'pansy': 6512, 'jungle': 6513, 'nevr': 6514, 'unrecognized': 6515, 'somone': 6516, 'definitly': 6517, 'undrstnd': 6518, 'dom': 6519, 'sozi': 6520, 'culdnt': 6521, 'talkbut': 6522, 'wannatell': 6523, 'details': 6524, 'wenwecan': 6525, 'buff': 6526, 'maaaan': 6527, 'sometme': 6528, 'wild': 6529, 'stop2stop': 6530, 'toot': 6531, 'satsgettin': 6532, '47per': 6533, 'wtlp': 6534, 'nighter': 6535, 'persevere': 6536, 'reunion': 6537, 'i‘ve': 6538, 'salt': 6539, 'wound': 6540, '69888nyt': 6541, 'cheyyamo': 6542, 'w8': 6543, '4utxt': 6544, 'dose': 6545, 'inperialmusic': 6546, 'listening2the': 6547, 'by\\x94leafcutter': 6548, 'john\\x94': 6549, 'insect': 6550, 'molested': 6551, 'someone': 6552, 'plumbing': 6553, 'remixe': 6554, 'evil': 6555, 'acid': 6556, 'honesty': 6557, '945': 6558, 'recieve': 6559, 'teletext': 6560, 'underwear': 6561, 'bra': 6562, 'strew': 6563, 'pillow': 6564, '09058094507': 6565, 'ups': 6566, '3days': 6567, '2wks': 6568, 'usp': 6569, 'lag': 6570, 'bribe': 6571, 'nipost': 6572, 'seeker': 6573, 'relative': 6574, 'risk': 6575, 'matched': 6576, 'help08714742804': 6577, 'mina': 6578, 'lk': 6579, 'ofcourse': 6580, 'upload': 6581, 'simulate': 6582, 'readiness': 6583, 'poke': 6584, 'canada': 6585, '0845': 6586, '021': 6587, '3680': 6588, '28thfeb': 6589, 'gotto': 6590, '220cm2': 6591, 'firsg': 6592, 'detailed': 6593, 'drugdealer': 6594, 'attract': 6595, '89105': 6596, 'possibility': 6597, 'ceri': 6598, 'rebel': 6599, 'dreamz': 6600, 'buddy': 6601, 'needs': 6602, 'blokes': 6603, 'sdryb8i': 6604, 'yavnt': 6605, '09096102316': 6606, 'entirely': 6607, '09058097189': 6608, 'waheeda': 6609, 'loneliness': 6610, 'pout': 6611, 'stomp': 6612, 'yard': 6613, 'bergkamp': 6614, 'margin': 6615, '78': 6616, 'alian': 6617, 'jez': 6618, 'todo': 6619, 'workand': 6620, 'whilltake': 6621, 'aldrine': 6622, 'rtm': 6623, 'literally': 6624, 'greece': 6625, \"s'fine\": 6626, 'portal': 6627, 'sittin': 6628, 'esaplanade': 6629, 'timi': 6630, 'we\\x92ve': 6631, '2geva': 6632, 'mint': 6633, 'alibi': 6634, 'textin': 6635, 'f4q': 6636, '0796xxxxxx': 6637, 'prizeawaiting': 6638, '420': 6639, 'squishy': 6640, 'mwahs': 6641, 'kegger': 6642, 'manky': 6643, 'scouse': 6644, 'inmind': 6645, 'recreation': 6646, 'court': 6647, 'okmail': 6648, '—': 6649, 'what‘s': 6650, 'hopeso': 6651, 'amnow': 6652, 'ithink': 6653, 'tonsolitusaswell': 6654, 'layin': 6655, 'bedreal': 6656, 'lotsof': 6657, 'ba': 6658, 'gua': 6659, 'faber': 6660, 'pressie': 6661, 'remembrs': 6662, 'everytime': 6663, \"sms'd\": 6664, '09094100151': 6665, 'gbp5': 6666, 'box61': 6667, 'm60': 6668, '1er': 6669, '2price': 6670, '100txt': 6671, \"b'tooth\": 6672, 'd3wv': 6673, '08707500020': 6674, \"it'snot\": 6675, 'unintentional': 6676, 'nonetheless': 6677, 'chastity': 6678, 'device': 6679, 'beating': 6680, 'wenever': 6681, 'sprint': 6682, 'slob': 6683, 'brainless': 6684, 'doll': 6685, 'vehicle': 6686, 'sariyag': 6687, 'madoke': 6688, 'barolla': 6689, '08718738034': 6690, 'bpo': 6691, 'splash': 6692, 'famous': 6693, 'unconditionally': 6694, 'temper': 6695, 'missy': 6696, 'can‘t': 6697, 'steak': 6698, 'experiencehttp': 6699, 'vouch4me': 6700, 'etlp': 6701, 'clarification': 6702, '\\x93it': 6703, '505060': 6704, 'outsider': 6705, 'korean': 6706, 'escalator': 6707, 'ditto': 6708, 'giggle': 6709, 'possibly': 6710, 'person2die': 6711, 'nvq': 6712, 'lack': 6713, 'particular': 6714, 'dramastorm': 6715, 'shindig': 6716, \"you're\": 6717, 'concerned': 6718, 'thout': 6719, 'nudist': 6720, 'deltomorrow': 6721, '08002888812': 6722, 'ibuprofens': 6723, 'dept': 6724, '08717507382': 6725, 'hooch': 6726, 'toaday': 6727, 'splat': 6728, 'graze': 6729, 'funky': 6730, 'asssssholeeee': 6731, '02072069400': 6732, 'bx': 6733, '526': 6734, \"you've\": 6735, 'reliant': 6736, 'checkmate': 6737, 'chess': 6738, 'persian': 6739, 'phrase': 6740, 'shah': 6741, 'maat': 6742, 'web': 6743, 'asjesus': 6744, 'ew': 6745, 'kotee': 6746, 'hellogorgeous': 6747, 'nitw': 6748, 'texd': 6749, 'hopeu': 6750, '4ward': 6751, 'jaz': 6752, 'vibrate': 6753, 'internal': 6754, 'extract': 6755, 'healthy': 6756, 'steyn': 6757, 'wicket': 6758, 'okday': 6759, 'sayy': 6760, 'specify': 6761, 'domain': 6762, 'nusstu': 6763, '08715205273': 6764, 'attention': 6765, 'bridge': 6766, 'lager': 6767, 'specialisation': 6768, 'labor': 6769, 'shakara': 6770, 'beggar': 6771, 'bead': 6772, 'spageddie': 6773, '08448350055': 6774, 'planettalkinstant': 6775, 'port': 6776, 'pleasant': 6777, 'vpod': 6778, 'treasure': 6779, 'opps': 6780, '08714714011': 6781, 'marvel': 6782, 'ultimate': 6783, '83338': 6784, '8ball': 6785, 'caveboy': 6786, '116': 6787, 'tactful': 6788, 'janx': 6789, 'dads': 6790, 'em': 6791, 'olowoyey': 6792, 'argentina': 6793, 'secretary': 6794, 'obey': 6795, 'dual': 6796, 'restock': 6797, 'callfreefone': 6798, '08081560665': 6799, 'of£2000': 6800, '07786200117': 6801, 'annoying': 6802, 'asia': 6803, 'director': 6804, 'lac': 6805, 'taxless': 6806, 'suply': 6807, 'monthly': 6808, 'imf': 6809, 'corrupt': 6810, 'itna': 6811, 'karo': 6812, 'ki': 6813, 'pura': 6814, 'padhe': 6815, 'dismissial': 6816, 'playing': 6817, 'sane': 6818, 'brighten': 6819, '85233': 6820, 'raviyog': 6821, 'peripherals': 6822, 'bhayandar': 6823, \"fr'ndship\": 6824, 'needle': 6825, '4few': 6826, 'conected': 6827, '9t': 6828, 'restriction': 6829, 'buddys': 6830, '80082': 6831, 'desparate': 6832, 'fake': 6833, 'commit': 6834, 'sth': 6835, 'spec': 6836, 'px3748': 6837, 'scenery': 6838, 'gopalettan': 6839, 'participate': 6840, 'fedex': 6841, 'looovvve': 6842, '330': 6843, '1120': 6844, '1205': 6845, 'andrews': 6846, 'theoretically': 6847, 'blessed': 6848, 'charming': 6849, 'apology': 6850, 'acknowledgement': 6851, 'astoundingly': 6852, 'tactless': 6853, 'demand': 6854, 'oath': 6855, 'julianaland': 6856, 'oblivious': 6857, 'ear': 6858, 'mushy': 6859, 'embarrass': 6860, 'barbie': 6861, 'ken': 6862, 'saibaba': 6863, 'colany': 6864, 'appendix': 6865, 'slippery': 6866, 'fowler': 6867, 'burial': 6868, 'videosound': 6869, 'videosounds': 6870, 'logos': 6871, 'musicnews': 6872, '09701213186': 6873, 'sudden': 6874, 'influx': 6875, 'reassurance': 6876, 'positive': 6877, 'negative': 6878, 'hmmmm': 6879, 'bubbletext': 6880, 'tgxxrz': 6881, 'genius': 6882, 'ovarian': 6883, 'cyst': 6884, 'bc': 6885, 'shrink': 6886, '08704439680': 6887, 'certificate': 6888, 'publish': 6889, 'yupz': 6890, 'slot': 6891, 'corporation': 6892, 'ello': 6893, '07099833605': 6894, '9280114': 6895, 'knock': 6896, 'gsex': 6897, '2667': 6898, 'wc1n': 6899, '3xx': 6900, 'proze': 6901, 'norcorp': 6902, 'finishing': 6903, 'elaine': 6904, '7634': 6905, '7684': 6906, 'oyster': 6907, 'sashimi': 6908, 'stomach': 6909, 'rumble': 6910, 'physic': 6911, 'stubborn': 6912, 'dorothy': 6913, 'kiefer': 6914, 'granite': 6915, 'explosive': 6916, 'nasdaq': 6917, 'cdgt': 6918, 'textbuddy': 6919, 'gaytextbuddy': 6920, '89693': 6921, '08715500022': 6922, 'rpl': 6923, 'cnl': 6924, 'gran': 6925, 'onlyfound': 6926, 'afew': 6927, 'cusoon': 6928, 'honi': 6929, 'kama': 6930, 'sutra': 6931, 'huime': 6932, 'velly': 6933, 'flirtparty': 6934, 'us': 6935, 'replys150': 6936, 'photoshop': 6937, 'nitz': 6938}\n"
          ],
          "name": "stdout"
        }
      ]
    },
    {
      "cell_type": "markdown",
      "metadata": {
        "id": "H8alft9sWC8N"
      },
      "source": [
        "Using pad_squeence, pad the sequences to have the same length"
      ]
    },
    {
      "cell_type": "code",
      "metadata": {
        "id": "TppbQLiDDe10"
      },
      "source": [
        "from keras.preprocessing.sequence import pad_sequences\r\n",
        "X_train_padded = pad_sequences(\r\n",
        "    X_train_sequences, maxlen=max_length, padding=\"post\", truncating=\"post\"\r\n",
        ")"
      ],
      "execution_count": null,
      "outputs": []
    },
    {
      "cell_type": "code",
      "metadata": {
        "id": "ofCd1QWyFUP9"
      },
      "source": [
        "## Applying same tranformation to Test set\r\n",
        "test_sequences = tokenizer.texts_to_sequences(X_test_preprocessed)\r\n",
        "test_padded = pad_sequences(\r\n",
        "    test_sequences, maxlen=max_length, padding=\"post\", truncating=\"post\"\r\n",
        ")"
      ],
      "execution_count": null,
      "outputs": []
    },
    {
      "cell_type": "markdown",
      "metadata": {
        "id": "bQdLhLFAWhYE"
      },
      "source": [
        "## Deep Learning model training"
      ]
    },
    {
      "cell_type": "code",
      "metadata": {
        "id": "Vas585qE6xaQ"
      },
      "source": [
        "from keras.models import Sequential\r\n",
        "from keras.layers import Embedding, LSTM, Dense, Dropout\r\n",
        "from keras.initializers import Constant\r\n",
        "from keras.optimizers import Adam\r\n",
        "\r\n",
        "model = Sequential()\r\n",
        "\r\n",
        "model.add(Embedding(num_words, 32, input_length=max_length))\r\n",
        "model.add(LSTM(64, dropout=0.1))\r\n",
        "model.add(Dense(1, activation=\"sigmoid\"))\r\n",
        "\r\n",
        "\r\n",
        "optimizer = Adam(learning_rate=3e-4)\r\n",
        "\r\n",
        "model.compile(loss=\"binary_crossentropy\", optimizer=optimizer, metrics=[\"accuracy\"])"
      ],
      "execution_count": null,
      "outputs": []
    },
    {
      "cell_type": "code",
      "metadata": {
        "colab": {
          "base_uri": "https://localhost:8080/"
        },
        "id": "l5m_JUtCDEYN",
        "outputId": "73cb40ac-e98f-42cd-aea3-8359c07f5420"
      },
      "source": [
        "model.summary()"
      ],
      "execution_count": null,
      "outputs": [
        {
          "output_type": "stream",
          "text": [
            "Model: \"sequential_1\"\n",
            "_________________________________________________________________\n",
            "Layer (type)                 Output Shape              Param #   \n",
            "=================================================================\n",
            "embedding_1 (Embedding)      (None, 30, 32)            265984    \n",
            "_________________________________________________________________\n",
            "lstm_1 (LSTM)                (None, 64)                24832     \n",
            "_________________________________________________________________\n",
            "dense_1 (Dense)              (None, 1)                 65        \n",
            "=================================================================\n",
            "Total params: 290,881\n",
            "Trainable params: 290,881\n",
            "Non-trainable params: 0\n",
            "_________________________________________________________________\n"
          ],
          "name": "stdout"
        }
      ]
    },
    {
      "cell_type": "code",
      "metadata": {
        "colab": {
          "base_uri": "https://localhost:8080/"
        },
        "id": "67t-nna6DJzM",
        "outputId": "21dfcf00-a34d-4e06-8e40-d032ddb5474f"
      },
      "source": [
        "Trained_model = model.fit(\r\n",
        "    X_train_padded, y_train, epochs=20, validation_data=(test_padded, y_test)\r\n",
        ")"
      ],
      "execution_count": null,
      "outputs": [
        {
          "output_type": "stream",
          "text": [
            "Epoch 1/20\n",
            "140/140 [==============================] - 4s 25ms/step - loss: 1.8439e-05 - accuracy: 1.0000 - val_loss: 0.1550 - val_accuracy: 0.9839\n",
            "Epoch 2/20\n",
            "140/140 [==============================] - 4s 27ms/step - loss: 1.7119e-05 - accuracy: 1.0000 - val_loss: 0.1563 - val_accuracy: 0.9839\n",
            "Epoch 3/20\n",
            "140/140 [==============================] - 3s 24ms/step - loss: 1.5772e-05 - accuracy: 1.0000 - val_loss: 0.1576 - val_accuracy: 0.9839\n",
            "Epoch 4/20\n",
            "140/140 [==============================] - 3s 24ms/step - loss: 1.4583e-05 - accuracy: 1.0000 - val_loss: 0.1589 - val_accuracy: 0.9839\n",
            "Epoch 5/20\n",
            "140/140 [==============================] - 3s 24ms/step - loss: 1.3492e-05 - accuracy: 1.0000 - val_loss: 0.1601 - val_accuracy: 0.9839\n",
            "Epoch 6/20\n",
            "140/140 [==============================] - 3s 24ms/step - loss: 1.2482e-05 - accuracy: 1.0000 - val_loss: 0.1614 - val_accuracy: 0.9839\n",
            "Epoch 7/20\n",
            "140/140 [==============================] - 3s 23ms/step - loss: 1.1565e-05 - accuracy: 1.0000 - val_loss: 0.1626 - val_accuracy: 0.9839\n",
            "Epoch 8/20\n",
            "140/140 [==============================] - 3s 24ms/step - loss: 1.0709e-05 - accuracy: 1.0000 - val_loss: 0.1638 - val_accuracy: 0.9839\n",
            "Epoch 9/20\n",
            "140/140 [==============================] - 3s 24ms/step - loss: 9.9352e-06 - accuracy: 1.0000 - val_loss: 0.1651 - val_accuracy: 0.9839\n",
            "Epoch 10/20\n",
            "140/140 [==============================] - 3s 23ms/step - loss: 9.2541e-06 - accuracy: 1.0000 - val_loss: 0.1664 - val_accuracy: 0.9839\n",
            "Epoch 11/20\n",
            "140/140 [==============================] - 3s 24ms/step - loss: 8.5251e-06 - accuracy: 1.0000 - val_loss: 0.1676 - val_accuracy: 0.9839\n",
            "Epoch 12/20\n",
            "140/140 [==============================] - 3s 24ms/step - loss: 7.9180e-06 - accuracy: 1.0000 - val_loss: 0.1689 - val_accuracy: 0.9839\n",
            "Epoch 13/20\n",
            "140/140 [==============================] - 3s 24ms/step - loss: 7.3426e-06 - accuracy: 1.0000 - val_loss: 0.1701 - val_accuracy: 0.9839\n",
            "Epoch 14/20\n",
            "140/140 [==============================] - 3s 24ms/step - loss: 6.8141e-06 - accuracy: 1.0000 - val_loss: 0.1713 - val_accuracy: 0.9839\n",
            "Epoch 15/20\n",
            "140/140 [==============================] - 3s 24ms/step - loss: 6.3336e-06 - accuracy: 1.0000 - val_loss: 0.1725 - val_accuracy: 0.9839\n",
            "Epoch 16/20\n",
            "140/140 [==============================] - 3s 24ms/step - loss: 5.8765e-06 - accuracy: 1.0000 - val_loss: 0.1737 - val_accuracy: 0.9839\n",
            "Epoch 17/20\n",
            "140/140 [==============================] - 3s 23ms/step - loss: 5.4572e-06 - accuracy: 1.0000 - val_loss: 0.1749 - val_accuracy: 0.9839\n",
            "Epoch 18/20\n",
            "140/140 [==============================] - 3s 24ms/step - loss: 5.0675e-06 - accuracy: 1.0000 - val_loss: 0.1761 - val_accuracy: 0.9839\n",
            "Epoch 19/20\n",
            "140/140 [==============================] - 3s 24ms/step - loss: 4.7078e-06 - accuracy: 1.0000 - val_loss: 0.1773 - val_accuracy: 0.9839\n",
            "Epoch 20/20\n",
            "140/140 [==============================] - 3s 24ms/step - loss: 4.3732e-06 - accuracy: 1.0000 - val_loss: 0.1785 - val_accuracy: 0.9839\n"
          ],
          "name": "stdout"
        }
      ]
    }
  ]
}